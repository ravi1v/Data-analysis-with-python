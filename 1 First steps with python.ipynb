{
 "cells": [
  {
   "cell_type": "code",
   "execution_count": 1,
   "id": "b996f997-c66b-44c8-a360-b3d57abf202a",
   "metadata": {},
   "outputs": [
    {
     "data": {
      "text/plain": [
       "14"
      ]
     },
     "execution_count": 1,
     "metadata": {},
     "output_type": "execute_result"
    }
   ],
   "source": [
    "2+3+9"
   ]
  },
  {
   "cell_type": "code",
   "execution_count": 2,
   "id": "a5d171ea-24c9-4d40-8c66-597f587ab1bb",
   "metadata": {},
   "outputs": [
    {
     "data": {
      "text/plain": [
       "20"
      ]
     },
     "execution_count": 2,
     "metadata": {},
     "output_type": "execute_result"
    }
   ],
   "source": [
    "4*5"
   ]
  },
  {
   "cell_type": "code",
   "execution_count": 3,
   "id": "cc5e3bc2-5912-4290-a81c-93eec85eebd9",
   "metadata": {},
   "outputs": [
    {
     "data": {
      "text/plain": [
       "28.0"
      ]
     },
     "execution_count": 3,
     "metadata": {},
     "output_type": "execute_result"
    }
   ],
   "source": [
    "56/2\n"
   ]
  },
  {
   "cell_type": "markdown",
   "id": "97e1491f-8fa5-4c61-92aa-6386c3aec894",
   "metadata": {},
   "source": [
    "56//2"
   ]
  },
  {
   "cell_type": "code",
   "execution_count": 5,
   "id": "5062c140-933a-4a22-afdb-7b5b475e12d3",
   "metadata": {},
   "outputs": [
    {
     "data": {
      "text/plain": [
       "0"
      ]
     },
     "execution_count": 5,
     "metadata": {},
     "output_type": "execute_result"
    }
   ],
   "source": [
    "56%2"
   ]
  },
  {
   "cell_type": "raw",
   "id": "5421f6d4-0509-40d3-b116-f544d33cca79",
   "metadata": {},
   "source": [
    "5**2\n"
   ]
  },
  {
   "cell_type": "markdown",
   "id": "45cd13ed-5d88-4c5c-8589-b3d73cb17c54",
   "metadata": {},
   "source": [
    "##\n",
    "A grocery store sells a bag of ice for $1.25,and makes 20% profit .If it sells 500 bags of ice , how much total profit does it make ?\n",
    "\n",
    "Cost of ice bag ($)=1.25 \n",
    "\n",
    "Profit margin =20% = .2\n",
    "\n",
    "Profit per bag ($) = profit margin * cost of rice bag = .2 * 1.25\n",
    "\n",
    "No. of bags =500\n",
    "\n",
    "Total profit = no. of bags * profit per bag = 500 * (.2*1.25)"
   ]
  },
  {
   "cell_type": "code",
   "execution_count": 7,
   "id": "bdac8242-688f-494c-a8d7-ef281ce837f7",
   "metadata": {},
   "outputs": [
    {
     "data": {
      "text/plain": [
       "125.0"
      ]
     },
     "execution_count": 7,
     "metadata": {},
     "output_type": "execute_result"
    }
   ],
   "source": [
    "500*(.2*1.25)"
   ]
  },
  {
   "cell_type": "raw",
   "id": "7f6bf23a-cd44-413c-8213-e5698e700f52",
   "metadata": {},
   "source": [
    "We can improve the python usage by creating variables "
   ]
  },
  {
   "cell_type": "code",
   "execution_count": 9,
   "id": "3c5b52da-b2e9-4524-8926-c5833ca79944",
   "metadata": {},
   "outputs": [],
   "source": [
    "cost_of_ice_bag=1.25\n"
   ]
  },
  {
   "cell_type": "code",
   "execution_count": 10,
   "id": "f4d05af6-5529-4c45-86e2-7de0ba926a1a",
   "metadata": {},
   "outputs": [],
   "source": [
    "profit_margin=.2"
   ]
  },
  {
   "cell_type": "code",
   "execution_count": 11,
   "id": "01ed8c92-a3ec-4f46-8223-7171c65c0323",
   "metadata": {},
   "outputs": [],
   "source": [
    "number_of_bags=500"
   ]
  },
  {
   "cell_type": "code",
   "execution_count": 12,
   "id": "567e5043-c441-45f9-9294-cd69e61e1657",
   "metadata": {},
   "outputs": [
    {
     "data": {
      "text/plain": [
       "0.2"
      ]
     },
     "execution_count": 12,
     "metadata": {},
     "output_type": "execute_result"
    }
   ],
   "source": [
    "profit_margin"
   ]
  },
  {
   "cell_type": "code",
   "execution_count": 13,
   "id": "d81c4a80-b51f-4c05-9ae9-3b9ab091ebd2",
   "metadata": {},
   "outputs": [],
   "source": [
    "profit_per_bag=cost_of_ice_bag*profit_margin"
   ]
  },
  {
   "cell_type": "code",
   "execution_count": 14,
   "id": "d424e380-a019-4fd9-b235-55fe397105ad",
   "metadata": {},
   "outputs": [
    {
     "data": {
      "text/plain": [
       "0.25"
      ]
     },
     "execution_count": 14,
     "metadata": {},
     "output_type": "execute_result"
    }
   ],
   "source": [
    "profit_per_bag"
   ]
  },
  {
   "cell_type": "code",
   "execution_count": 15,
   "id": "27ba2f91-834c-4731-b62e-d971f69cde3f",
   "metadata": {},
   "outputs": [],
   "source": [
    "total_profit=number_of_bags*profit_per_bag"
   ]
  },
  {
   "cell_type": "code",
   "execution_count": 16,
   "id": "ce3c510d-3530-46bd-b176-49b8c9575cab",
   "metadata": {},
   "outputs": [
    {
     "data": {
      "text/plain": [
       "125.0"
      ]
     },
     "execution_count": 16,
     "metadata": {},
     "output_type": "execute_result"
    }
   ],
   "source": [
    "total_profit"
   ]
  },
  {
   "cell_type": "code",
   "execution_count": 17,
   "id": "67040cb8-2fc7-46ad-aaf4-39f7f4419517",
   "metadata": {},
   "outputs": [],
   "source": [
    "net_profit=100"
   ]
  },
  {
   "cell_type": "code",
   "execution_count": 18,
   "id": "7cb0d1b2-3648-4527-8b31-2766d475ea0e",
   "metadata": {},
   "outputs": [
    {
     "name": "stdout",
     "output_type": "stream",
     "text": [
      "The grocery store makes a total profit of $ 125.0\n"
     ]
    }
   ],
   "source": [
    "print(\"The grocery store makes a total profit of $\",total_profit)"
   ]
  },
  {
   "cell_type": "code",
   "execution_count": 19,
   "id": "bf6f03df-f0c7-4dbb-ad2a-146ca34c777c",
   "metadata": {},
   "outputs": [
    {
     "name": "stdout",
     "output_type": "stream",
     "text": [
      "The grocery store makes a total profit of $ 125.0\n"
     ]
    }
   ],
   "source": [
    "#Store input data in variables \n",
    "cost_of_ice_bag=1.25\n",
    "profit_margin=.2\n",
    "number_of_bags=500\n",
    "\n",
    "#Perform the required calculations \n",
    "profit_per_bag=cost_of_ice_bag*profit_margin\n",
    "total_profit=number_of_bags*profit_per_bag\n",
    "\n",
    "#display the result\n",
    "print(\"The grocery store makes a total profit of $\",total_profit)"
   ]
  },
  {
   "cell_type": "raw",
   "id": "2703d1f4-a7d1-4e68-84dd-44121ae1bb39",
   "metadata": {},
   "source": [
    "-----------------------------------------------------------------------------------------"
   ]
  },
  {
   "cell_type": "raw",
   "id": "51e987cb-0409-4c83-89c7-3442c46f7092",
   "metadata": {},
   "source": [
    "Evaluating conditions in python"
   ]
  },
  {
   "cell_type": "code",
   "execution_count": 20,
   "id": "00cd6f9e-d372-4453-8873-4e1298cf8b29",
   "metadata": {},
   "outputs": [],
   "source": [
    "my_favorite_number=1\n",
    "my_least_favorite_number=5\n",
    "a_neutral_number=3"
   ]
  },
  {
   "cell_type": "code",
   "execution_count": 21,
   "id": "3bcb15aa-697c-4082-b875-5b8b9af68877",
   "metadata": {},
   "outputs": [
    {
     "data": {
      "text/plain": [
       "True"
      ]
     },
     "execution_count": 21,
     "metadata": {},
     "output_type": "execute_result"
    }
   ],
   "source": [
    "#equality check -True\n",
    "my_favorite_number==1"
   ]
  },
  {
   "cell_type": "code",
   "execution_count": 22,
   "id": "137441f4-759e-4def-86d2-9a7d7c743446",
   "metadata": {},
   "outputs": [
    {
     "data": {
      "text/plain": [
       "False"
      ]
     },
     "execution_count": 22,
     "metadata": {},
     "output_type": "execute_result"
    }
   ],
   "source": [
    "#Equality check - False\n",
    "my_favorite_number==my_least_favorite_number"
   ]
  },
  {
   "cell_type": "code",
   "execution_count": 23,
   "id": "90e16535-7e75-482f-b38d-1a29b4467f54",
   "metadata": {},
   "outputs": [
    {
     "data": {
      "text/plain": [
       "True"
      ]
     },
     "execution_count": 23,
     "metadata": {},
     "output_type": "execute_result"
    }
   ],
   "source": [
    "#Not equal check - true\n",
    "my_favorite_number!=a_neutral_number"
   ]
  },
  {
   "cell_type": "code",
   "execution_count": 24,
   "id": "2633b716-39bf-4a40-8f8f-ba83e8c55335",
   "metadata": {},
   "outputs": [
    {
     "data": {
      "text/plain": [
       "False"
      ]
     },
     "execution_count": 24,
     "metadata": {},
     "output_type": "execute_result"
    }
   ],
   "source": [
    "#Not equal check - False\n",
    "a_neutral_number!=3"
   ]
  },
  {
   "cell_type": "code",
   "execution_count": 25,
   "id": "9c911685-023d-4eb9-b8e1-74033eb51b38",
   "metadata": {},
   "outputs": [
    {
     "data": {
      "text/plain": [
       "True"
      ]
     },
     "execution_count": 25,
     "metadata": {},
     "output_type": "execute_result"
    }
   ],
   "source": [
    "#greater than check -True\n",
    "my_least_favorite_number>a_neutral_number"
   ]
  },
  {
   "cell_type": "code",
   "execution_count": 26,
   "id": "8e817c48-cc4a-4dc8-8686-63976d04c849",
   "metadata": {},
   "outputs": [
    {
     "data": {
      "text/plain": [
       "False"
      ]
     },
     "execution_count": 26,
     "metadata": {},
     "output_type": "execute_result"
    }
   ],
   "source": [
    "#Greater than check -False\n",
    "my_least_favorite_number<a_neutral_number"
   ]
  },
  {
   "cell_type": "code",
   "execution_count": 27,
   "id": "426d1c0e-8374-48a5-b6f0-7f6cf1b97c94",
   "metadata": {},
   "outputs": [
    {
     "data": {
      "text/plain": [
       "False"
      ]
     },
     "execution_count": 27,
     "metadata": {},
     "output_type": "execute_result"
    }
   ],
   "source": [
    "not a_neutral_number ==3\n"
   ]
  },
  {
   "cell_type": "code",
   "execution_count": 28,
   "id": "d980f8e3-6389-456b-971f-df212284b4bc",
   "metadata": {},
   "outputs": [
    {
     "data": {
      "text/plain": [
       "True"
      ]
     },
     "execution_count": 28,
     "metadata": {},
     "output_type": "execute_result"
    }
   ],
   "source": [
    "not a_neutral_number<0"
   ]
  },
  {
   "cell_type": "code",
   "execution_count": 30,
   "id": "b4554dd9-cdae-4ccf-ab90-974606fd9fa4",
   "metadata": {},
   "outputs": [
    {
     "data": {
      "text/plain": [
       "True"
      ]
     },
     "execution_count": 30,
     "metadata": {},
     "output_type": "execute_result"
    }
   ],
   "source": [
    "not False"
   ]
  },
  {
   "cell_type": "code",
   "execution_count": 31,
   "id": "8e0f3378-2799-48d1-930d-0e63a7dd00d5",
   "metadata": {},
   "outputs": [
    {
     "data": {
      "text/plain": [
       "False"
      ]
     },
     "execution_count": 31,
     "metadata": {},
     "output_type": "execute_result"
    }
   ],
   "source": [
    "not True"
   ]
  },
  {
   "cell_type": "markdown",
   "id": "4a2e989e-52d5-456f-8d8d-bbef8aef9ad2",
   "metadata": {},
   "source": []
  }
 ],
 "metadata": {
  "kernelspec": {
   "display_name": "Python 3 (ipykernel)",
   "language": "python",
   "name": "python3"
  },
  "language_info": {
   "codemirror_mode": {
    "name": "ipython",
    "version": 3
   },
   "file_extension": ".py",
   "mimetype": "text/x-python",
   "name": "python",
   "nbconvert_exporter": "python",
   "pygments_lexer": "ipython3",
   "version": "3.12.8"
  }
 },
 "nbformat": 4,
 "nbformat_minor": 5
}
