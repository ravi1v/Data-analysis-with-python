{
 "cells": [
  {
   "cell_type": "markdown",
   "id": "c7050417-f04f-48af-811b-b36789174342",
   "metadata": {},
   "source": [
    "## Working with numerical data\n",
    "\n",
    "The \"data\" in *Data Analysis* typically refers to numerical data, e.g., stock prices, sales figures, sensor measurements, sports scores, database tables, etc. The [Numpy](https://numpy.org) library provides specialized data structures, functions, and other tools for numerical computing in Python. Let's work through an example to see why & how to use Numpy for working with numerical data.\n",
    "\n",
    "\n",
    "> Suppose we want to use climate data like the temperature, rainfall, and humidity to determine if a region is well suited for growing apples. A simple approach for doing this would be to formulate the relationship between the annual yield of apples (tons per hectare) and the climatic conditions like the average temperature (in degrees Fahrenheit), rainfall (in  millimeters) & average relative humidity (in percentage) as a linear equation.\n",
    ">\n",
    "> `yield_of_apples = w1 * temperature + w2 * rainfall + w3 * humidity`\n",
    "\n",
    "We're expressing the yield of apples as a weighted sum of the temperature, rainfall, and humidity. This equation is an approximation since the actual relationship may not necessarily be linear, and there may be other factors involved. But a simple linear model like this often works well in practice.\n",
    "\n",
    "Based on some statical analysis of historical data, we might come up with reasonable values for the weights `w1`, `w2`, and `w3`. Here's an example set of values:"
   ]
  },
  {
   "cell_type": "code",
   "execution_count": 1,
   "id": "6f9bd816-d438-4528-84c9-91f8b09a8604",
   "metadata": {},
   "outputs": [],
   "source": [
    "w1, w2, w3  = 0.3, 0.2, 0.5"
   ]
  },
  {
   "cell_type": "markdown",
   "id": "dd8379a2-1010-4add-83a3-3cb01d835f33",
   "metadata": {},
   "source": [
    "Given some climate data for a region, we can now predict the yield of apples. Here's some sample data:\n",
    "\n",
    "<img src=\"https://i.imgur.com/TXPBiqv.png\" style=\"width:360px;\">\n",
    "\n",
    "To begin, we can define some variables to record climate data for a region."
   ]
  },
  {
   "cell_type": "code",
   "execution_count": 2,
   "id": "1e7a4f7b-d479-4b62-b368-7fa891be39c0",
   "metadata": {},
   "outputs": [],
   "source": [
    "kanto_temp = 73\n",
    "kanto_rainfall = 67\n",
    "kanto_humidity = 43"
   ]
  },
  {
   "cell_type": "code",
   "execution_count": 3,
   "id": "71e0bde9-77f5-4aae-bd80-83a656b9907f",
   "metadata": {},
   "outputs": [],
   "source": [
    "kanto_yield_apples = kanto_temp*w1 + kanto_rainfall*w2 + kanto_humidity*w3"
   ]
  },
  {
   "cell_type": "code",
   "execution_count": 4,
   "id": "89ed5c02-8b40-4e33-b009-854c98d975db",
   "metadata": {},
   "outputs": [
    {
     "data": {
      "text/plain": [
       "56.8"
      ]
     },
     "execution_count": 4,
     "metadata": {},
     "output_type": "execute_result"
    }
   ],
   "source": [
    "kanto_yield_apples"
   ]
  },
  {
   "cell_type": "code",
   "execution_count": 5,
   "id": "4ca45892-1245-49ce-b0f1-03fc7546e61b",
   "metadata": {},
   "outputs": [
    {
     "name": "stdout",
     "output_type": "stream",
     "text": [
      "The expected yield of apples in kanto region is 56.8 is tonnes per hectare.\n"
     ]
    }
   ],
   "source": [
    "print('The expected yield of apples in kanto region is {} is tonnes per hectare.'.format(kanto_yield_apples))"
   ]
  },
  {
   "cell_type": "markdown",
   "id": "19e7a6d4-2063-48ca-bad6-f086c075cd90",
   "metadata": {},
   "source": [
    "To make it easier to perform the above computation for multiple regions, we can represent the climate data for each region as a vector,i.e a list of numbers"
   ]
  },
  {
   "cell_type": "code",
   "execution_count": 14,
   "id": "734521e4-46aa-486e-a23b-77cb68a95914",
   "metadata": {},
   "outputs": [],
   "source": [
    "kanto = [73,67,43]\n",
    "johto = [91,88,64]\n",
    "hoenn = [87,134,58]\n",
    "sinnoh = [102,43,37]\n",
    "unova = [69,96,70]"
   ]
  },
  {
   "cell_type": "markdown",
   "id": "2b664212-1229-4469-86c4-4481434e7968",
   "metadata": {},
   "source": [
    "The three numbers in each vector represent the temperature, rainfall, and humidity data, respectively. \n",
    "\n",
    "We can also represent the set of weights used in the formula as a vector."
   ]
  },
  {
   "cell_type": "code",
   "execution_count": 17,
   "id": "620558f6-2b12-4c7f-a0d8-d17aa31c0c99",
   "metadata": {},
   "outputs": [],
   "source": [
    "weights= [w1,w2,w3]"
   ]
  },
  {
   "cell_type": "code",
   "execution_count": 20,
   "id": "8780e186-2ae5-4ec0-81a7-4ac4540bf463",
   "metadata": {},
   "outputs": [],
   "source": [
    "def crop_yield(region, weights):\n",
    "    result = 0\n",
    "    for x,w in zip(region, weights):\n",
    "        result += x*w\n",
    "    return result"
   ]
  },
  {
   "cell_type": "code",
   "execution_count": 21,
   "id": "5470a26f-5ab4-4ce5-a8f5-2d2127fd2971",
   "metadata": {},
   "outputs": [
    {
     "data": {
      "text/plain": [
       "56.8"
      ]
     },
     "execution_count": 21,
     "metadata": {},
     "output_type": "execute_result"
    }
   ],
   "source": [
    "crop_yield(kanto, weights)"
   ]
  },
  {
   "cell_type": "code",
   "execution_count": 22,
   "id": "b452432a-9c6b-4587-9465-4764e252d52c",
   "metadata": {},
   "outputs": [
    {
     "data": {
      "text/plain": [
       "76.9"
      ]
     },
     "execution_count": 22,
     "metadata": {},
     "output_type": "execute_result"
    }
   ],
   "source": [
    "crop_yield(johto, weights)"
   ]
  },
  {
   "cell_type": "code",
   "execution_count": 23,
   "id": "4604b240-0bee-4857-81ca-ce5d3990b726",
   "metadata": {},
   "outputs": [
    {
     "data": {
      "text/plain": [
       "74.9"
      ]
     },
     "execution_count": 23,
     "metadata": {},
     "output_type": "execute_result"
    }
   ],
   "source": [
    "crop_yield(unova, weights)"
   ]
  },
  {
   "cell_type": "markdown",
   "id": "d6be1e91-bd35-463f-a331-c5b6f5d5691d",
   "metadata": {},
   "source": [
    "## Going from Python lists to Numpy arrays\n",
    "\n",
    "\n",
    "The calculation performed by the `crop_yield` (element-wise multiplication of two vectors and taking a sum of the results) is also called the *dot product*. \n",
    "The Numpy library provides a built-in function to compute the dot product of two vectors. However, we must first convert the lists into Numpy arrays.\n",
    "\n",
    "Let's install the Numpy library using the `pip` package manager."
   ]
  },
  {
   "cell_type": "code",
   "execution_count": 24,
   "id": "d56e93c3-f26f-481f-83bb-53f35e12de50",
   "metadata": {},
   "outputs": [],
   "source": [
    "import numpy as np"
   ]
  },
  {
   "cell_type": "markdown",
   "id": "6f155099-dab2-4861-be64-dc3cb13ebbf6",
   "metadata": {},
   "source": [
    "We can now use the `np.array` function to create Numpy arrays."
   ]
  },
  {
   "cell_type": "code",
   "execution_count": 26,
   "id": "f5e13aab-f971-4019-9803-d5229f46aabf",
   "metadata": {},
   "outputs": [],
   "source": [
    "kanto = np.array([73,67,43])"
   ]
  },
  {
   "cell_type": "code",
   "execution_count": 27,
   "id": "74e1c9da-d50f-43a1-9677-78f9e0ca6c47",
   "metadata": {},
   "outputs": [
    {
     "data": {
      "text/plain": [
       "array([73, 67, 43])"
      ]
     },
     "execution_count": 27,
     "metadata": {},
     "output_type": "execute_result"
    }
   ],
   "source": [
    "kanto"
   ]
  },
  {
   "cell_type": "code",
   "execution_count": 28,
   "id": "f99771a7-e1fa-496b-8532-705d53417fab",
   "metadata": {},
   "outputs": [],
   "source": [
    "weights = np.array([w1,w2,w3])"
   ]
  },
  {
   "cell_type": "code",
   "execution_count": 29,
   "id": "442fb8f4-e1fa-4148-8f6a-606178acd258",
   "metadata": {},
   "outputs": [
    {
     "data": {
      "text/plain": [
       "array([0.3, 0.2, 0.5])"
      ]
     },
     "execution_count": 29,
     "metadata": {},
     "output_type": "execute_result"
    }
   ],
   "source": [
    "weights"
   ]
  },
  {
   "cell_type": "code",
   "execution_count": 30,
   "id": "d4de62fc-695b-4ab7-9af2-51ca03617df6",
   "metadata": {},
   "outputs": [
    {
     "data": {
      "text/plain": [
       "numpy.ndarray"
      ]
     },
     "execution_count": 30,
     "metadata": {},
     "output_type": "execute_result"
    }
   ],
   "source": [
    "type(kanto)"
   ]
  },
  {
   "cell_type": "code",
   "execution_count": 31,
   "id": "ffac7ef7-19cc-46e7-9c4b-b9a491487c15",
   "metadata": {},
   "outputs": [
    {
     "data": {
      "text/plain": [
       "numpy.ndarray"
      ]
     },
     "execution_count": 31,
     "metadata": {},
     "output_type": "execute_result"
    }
   ],
   "source": [
    "type(weights)"
   ]
  },
  {
   "cell_type": "markdown",
   "id": "994f06f4-70d1-482c-b08a-4c1d3f48eb7b",
   "metadata": {},
   "source": [
    "Just like lists,Numpy also supports the indexing notation []."
   ]
  },
  {
   "cell_type": "code",
   "execution_count": 33,
   "id": "44c7b993-6135-4d8e-ad1d-97ff6f594c21",
   "metadata": {},
   "outputs": [
    {
     "data": {
      "text/plain": [
       "np.float64(0.3)"
      ]
     },
     "execution_count": 33,
     "metadata": {},
     "output_type": "execute_result"
    }
   ],
   "source": [
    "weights[0]"
   ]
  },
  {
   "cell_type": "code",
   "execution_count": 34,
   "id": "3246cf14-6072-4c2b-89b1-e4f8ddd7de25",
   "metadata": {},
   "outputs": [
    {
     "data": {
      "text/plain": [
       "np.int64(43)"
      ]
     },
     "execution_count": 34,
     "metadata": {},
     "output_type": "execute_result"
    }
   ],
   "source": [
    "kanto[2]"
   ]
  },
  {
   "cell_type": "markdown",
   "id": "4c1e78a0-5100-41dc-a255-c6aa4518688e",
   "metadata": {},
   "source": [
    "## Operating on Numpy arrays\n",
    "\n",
    "We can now compute the dot product of the two vectors using the `np.dot` function."
   ]
  },
  {
   "cell_type": "code",
   "execution_count": 35,
   "id": "73442342-2e86-4a28-b12d-569e660d8083",
   "metadata": {},
   "outputs": [
    {
     "data": {
      "text/plain": [
       "np.float64(56.8)"
      ]
     },
     "execution_count": 35,
     "metadata": {},
     "output_type": "execute_result"
    }
   ],
   "source": [
    "np.dot(kanto, weights)"
   ]
  },
  {
   "cell_type": "markdown",
   "id": "6907f346-7c4f-47df-a13c-09d3085f4cc5",
   "metadata": {},
   "source": [
    "We can achieve the same result with low-level operations supported by Numpy arrays: performing an element-wise multiplication and calculating the resulting numbers' sum."
   ]
  },
  {
   "cell_type": "code",
   "execution_count": 36,
   "id": "9c7e260d-6c3a-4743-83a6-71935d9353dc",
   "metadata": {},
   "outputs": [
    {
     "data": {
      "text/plain": [
       "np.float64(56.8)"
      ]
     },
     "execution_count": 36,
     "metadata": {},
     "output_type": "execute_result"
    }
   ],
   "source": [
    "(kanto*weights).sum()"
   ]
  },
  {
   "cell_type": "markdown",
   "id": "715c486f-b5ce-44bf-9544-c6b153f3945f",
   "metadata": {},
   "source": [
    "The `*` operator performs an element-wise multiplication of two arrays if they have the same size. The `sum` method calculates the sum of numbers in an array."
   ]
  },
  {
   "cell_type": "code",
   "execution_count": 37,
   "id": "982d47ac-c942-409d-9e6b-ff5c93065e14",
   "metadata": {},
   "outputs": [],
   "source": [
    "arr1 = np.array([1, 2, 3])\n",
    "arr2 = np.array([4, 5, 6])"
   ]
  },
  {
   "cell_type": "code",
   "execution_count": 38,
   "id": "9ccc1d45-1b71-46b2-b280-ad0e403ad121",
   "metadata": {},
   "outputs": [
    {
     "data": {
      "text/plain": [
       "array([ 4, 10, 18])"
      ]
     },
     "execution_count": 38,
     "metadata": {},
     "output_type": "execute_result"
    }
   ],
   "source": [
    "arr1*arr2"
   ]
  },
  {
   "cell_type": "code",
   "execution_count": 39,
   "id": "8b6a4d14-6147-42b8-8dd5-07314565e4d3",
   "metadata": {},
   "outputs": [
    {
     "data": {
      "text/plain": [
       "np.int64(15)"
      ]
     },
     "execution_count": 39,
     "metadata": {},
     "output_type": "execute_result"
    }
   ],
   "source": [
    "arr2.sum()"
   ]
  },
  {
   "cell_type": "markdown",
   "id": "5a638e8f-e35b-46ea-b858-387f5d1a78df",
   "metadata": {},
   "source": [
    "## Benefits of using Numpy arrays\n",
    "\n",
    "Numpy arrays offer the following benefits over Python lists for operating on numerical data:\n",
    "\n",
    "- **Ease of use**: You can write small, concise, and intuitive mathematical expressions like `(kanto * weights).sum()` rather than using loops & custom functions like `crop_yield`.\n",
    "- **Performance**: Numpy operations and functions are implemented internally in C++, which makes them much faster than using Python statements & loops that are interpreted at runtime\n",
    "\n",
    "Here's a comparison of dot products performed using Python loops vs. Numpy arrays on two vectors with a million elements each."
   ]
  },
  {
   "cell_type": "code",
   "execution_count": 41,
   "id": "23570da0-f911-45d8-8a8c-239e20d25403",
   "metadata": {},
   "outputs": [],
   "source": [
    "#Py lists\n",
    "arr1 = list(range(1000000))\n",
    "arr2 = list(range(1000000, 2000000))\n",
    "\n",
    "#Numpy arrays\n",
    "arr1_np = np.array(arr1)\n",
    "arr2_np = np.array(arr2)"
   ]
  },
  {
   "cell_type": "code",
   "execution_count": 42,
   "id": "af96d7d7-0cd4-4d07-9195-b723a5c69e58",
   "metadata": {},
   "outputs": [
    {
     "name": "stdout",
     "output_type": "stream",
     "text": [
      "CPU times: total: 172 ms\n",
      "Wall time: 236 ms\n"
     ]
    },
    {
     "data": {
      "text/plain": [
       "833332333333500000"
      ]
     },
     "execution_count": 42,
     "metadata": {},
     "output_type": "execute_result"
    }
   ],
   "source": [
    "%%time\n",
    "result = 0\n",
    "for x1, x2 in zip(arr1, arr2):\n",
    "    result += x1*x2\n",
    "result"
   ]
  },
  {
   "cell_type": "code",
   "execution_count": 43,
   "id": "9feda373-0dd3-4af4-ba61-df587f3be11f",
   "metadata": {},
   "outputs": [
    {
     "name": "stdout",
     "output_type": "stream",
     "text": [
      "CPU times: total: 0 ns\n",
      "Wall time: 3.9 ms\n"
     ]
    },
    {
     "data": {
      "text/plain": [
       "np.int64(833332333333500000)"
      ]
     },
     "execution_count": 43,
     "metadata": {},
     "output_type": "execute_result"
    }
   ],
   "source": [
    "%%time\n",
    "np.dot(arr1_np,arr2_np)"
   ]
  },
  {
   "cell_type": "markdown",
   "id": "18241698-cd2f-4207-852c-362e47a1c804",
   "metadata": {},
   "source": [
    "As you can see, using `np.dot` is 100 times faster than using a `for` loop. This makes Numpy especially useful while working with really large datasets with tens of thousands or millions of data points.\n",
    "\n",
    "Let's save our work before continuing."
   ]
  },
  {
   "cell_type": "code",
   "execution_count": null,
   "id": "c9064830-4fc0-4b78-a079-5d5c305bedbd",
   "metadata": {},
   "outputs": [],
   "source": []
  }
 ],
 "metadata": {
  "kernelspec": {
   "display_name": "Python 3 (ipykernel)",
   "language": "python",
   "name": "python3"
  },
  "language_info": {
   "codemirror_mode": {
    "name": "ipython",
    "version": 3
   },
   "file_extension": ".py",
   "mimetype": "text/x-python",
   "name": "python",
   "nbconvert_exporter": "python",
   "pygments_lexer": "ipython3",
   "version": "3.12.8"
  }
 },
 "nbformat": 4,
 "nbformat_minor": 5
}
