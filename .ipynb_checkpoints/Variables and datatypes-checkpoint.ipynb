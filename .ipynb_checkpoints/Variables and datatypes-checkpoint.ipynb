{
 "cells": [
  {
   "cell_type": "code",
   "execution_count": 1,
   "id": "2ed7f208-64c2-4a84-9ce3-49512b2fb67b",
   "metadata": {},
   "outputs": [],
   "source": [
    "#Chapter 2--Variables and datatypes"
   ]
  },
  {
   "cell_type": "code",
   "execution_count": 2,
   "id": "66c733f9-85d8-4963-a3b2-3377e58d4709",
   "metadata": {},
   "outputs": [],
   "source": [
    "my_favorite_color=\"blue\""
   ]
  },
  {
   "cell_type": "code",
   "execution_count": 3,
   "id": "d59ce6a5-d595-4247-a495-f9925fefcc96",
   "metadata": {},
   "outputs": [
    {
     "data": {
      "text/plain": [
       "'blue'"
      ]
     },
     "execution_count": 3,
     "metadata": {},
     "output_type": "execute_result"
    }
   ],
   "source": [
    "my_favorite_color"
   ]
  },
  {
   "cell_type": "markdown",
   "id": "52a458c9-aed0-4b76-a8b2-108ab1269102",
   "metadata": {},
   "source": [
    "###\n",
    "A variable is created using an assignment statement. It begins with the variable's name, followed by the assignment operator = followed by the value to be stored within the variable. Note that the assignment operator = is different from the equality comparison operator ==.\n",
    "\n",
    "You can also assign values to multiple variables in a single statement by separating the variable names and values with commas."
   ]
  },
  {
   "cell_type": "code",
   "execution_count": 4,
   "id": "d3894295-a3c1-4604-947d-82b341b9d3b0",
   "metadata": {},
   "outputs": [],
   "source": [
    "color1,color2,color3=\"red\",\"green\",\"blue\""
   ]
  },
  {
   "cell_type": "code",
   "execution_count": 5,
   "id": "d98b3a2b-372a-49bc-a874-7b4987454c54",
   "metadata": {},
   "outputs": [
    {
     "data": {
      "text/plain": [
       "'red'"
      ]
     },
     "execution_count": 5,
     "metadata": {},
     "output_type": "execute_result"
    }
   ],
   "source": [
    "color1"
   ]
  },
  {
   "cell_type": "code",
   "execution_count": 6,
   "id": "448e7b43-44c0-43b4-a3c5-4641ecf6bd0a",
   "metadata": {},
   "outputs": [
    {
     "data": {
      "text/plain": [
       "'green'"
      ]
     },
     "execution_count": 6,
     "metadata": {},
     "output_type": "execute_result"
    }
   ],
   "source": [
    "color2"
   ]
  },
  {
   "cell_type": "code",
   "execution_count": 7,
   "id": "4315680d-6a57-4cf3-aaa6-0aa0a6de8a58",
   "metadata": {},
   "outputs": [
    {
     "data": {
      "text/plain": [
       "'blue'"
      ]
     },
     "execution_count": 7,
     "metadata": {},
     "output_type": "execute_result"
    }
   ],
   "source": [
    "color3"
   ]
  },
  {
   "cell_type": "markdown",
   "id": "3fd6d3b4-e2cc-428e-a402-824e131f2151",
   "metadata": {},
   "source": [
    "You can assign the same value to multiple variables by chaining multiple assignment operations within a single statement."
   ]
  },
  {
   "cell_type": "code",
   "execution_count": 8,
   "id": "53d5b99b-6420-42c8-8dc7-29a48991295f",
   "metadata": {},
   "outputs": [],
   "source": [
    "color4=color5=color6=\"Magenta\""
   ]
  },
  {
   "cell_type": "code",
   "execution_count": 9,
   "id": "1ea55bd9-7e83-4e33-b408-8e03622c175b",
   "metadata": {},
   "outputs": [
    {
     "data": {
      "text/plain": [
       "'Magenta'"
      ]
     },
     "execution_count": 9,
     "metadata": {},
     "output_type": "execute_result"
    }
   ],
   "source": [
    "color4"
   ]
  },
  {
   "cell_type": "code",
   "execution_count": 10,
   "id": "b68b6164-2ad8-477c-b5be-91846da1c405",
   "metadata": {},
   "outputs": [
    {
     "data": {
      "text/plain": [
       "'Magenta'"
      ]
     },
     "execution_count": 10,
     "metadata": {},
     "output_type": "execute_result"
    }
   ],
   "source": [
    "color5"
   ]
  },
  {
   "cell_type": "code",
   "execution_count": 11,
   "id": "eb9c0bf5-68ef-4069-ae3d-e797108d31d5",
   "metadata": {},
   "outputs": [
    {
     "data": {
      "text/plain": [
       "'Magenta'"
      ]
     },
     "execution_count": 11,
     "metadata": {},
     "output_type": "execute_result"
    }
   ],
   "source": [
    "color6"
   ]
  },
  {
   "cell_type": "markdown",
   "id": "f9b3d047-da02-4459-9be4-853061f39e00",
   "metadata": {},
   "source": [
    "You can change the value stored within a variable by assigning a new value to it using another assignment statement. Be careful while reassigning variables: when you assign a new value to the variable, the old value is lost and no longer accessible."
   ]
  },
  {
   "cell_type": "code",
   "execution_count": 12,
   "id": "b8643e28-63a6-42d8-bed2-e55b6428a62c",
   "metadata": {},
   "outputs": [],
   "source": [
    "my_favorite_color=\"red\""
   ]
  },
  {
   "cell_type": "code",
   "execution_count": 13,
   "id": "48fc8f3d-75a6-4e60-8cb3-f0357aaaf9de",
   "metadata": {},
   "outputs": [
    {
     "data": {
      "text/plain": [
       "'red'"
      ]
     },
     "execution_count": 13,
     "metadata": {},
     "output_type": "execute_result"
    }
   ],
   "source": [
    "my_favorite_color"
   ]
  },
  {
   "cell_type": "markdown",
   "id": "f11693a7-9fbc-4836-b7f6-f2e2021d6778",
   "metadata": {},
   "source": [
    "While reassigning a variable, you can also use the variable's previous value to compute the new value."
   ]
  },
  {
   "cell_type": "code",
   "execution_count": 14,
   "id": "5fbdc9a6-e084-4b70-bcce-a5077275eb0e",
   "metadata": {},
   "outputs": [],
   "source": [
    "counter=10"
   ]
  },
  {
   "cell_type": "code",
   "execution_count": 15,
   "id": "3d8663c1-b256-40b3-8a5d-3b4c082ff9e2",
   "metadata": {},
   "outputs": [],
   "source": [
    "counter=counter+1"
   ]
  },
  {
   "cell_type": "code",
   "execution_count": 16,
   "id": "71b34d8a-5361-4800-b214-ba726ba9d99b",
   "metadata": {},
   "outputs": [
    {
     "data": {
      "text/plain": [
       "11"
      ]
     },
     "execution_count": 16,
     "metadata": {},
     "output_type": "execute_result"
    }
   ],
   "source": [
    "counter"
   ]
  },
  {
   "cell_type": "markdown",
   "id": "a1a85b00-f97a-4bf6-a304-94daefb87a09",
   "metadata": {},
   "source": [
    "The pattern `var = var op something` (where `op` is an arithmetic operator like `+`, `-`, `*`, `/`) is very common, so Python provides a *shorthand* syntax for it."
   ]
  },
  {
   "cell_type": "code",
   "execution_count": 17,
   "id": "e42604bc-9757-46a4-bfdb-a1d68aa6aa52",
   "metadata": {},
   "outputs": [],
   "source": [
    "counter=10"
   ]
  },
  {
   "cell_type": "code",
   "execution_count": 18,
   "id": "99f3493a-85ee-4563-a935-bd190aa88c12",
   "metadata": {},
   "outputs": [],
   "source": [
    "counter+=4   #Just like counter=counter+4"
   ]
  },
  {
   "cell_type": "code",
   "execution_count": 19,
   "id": "06607290-07a1-407a-8812-4943f2b65c43",
   "metadata": {},
   "outputs": [
    {
     "data": {
      "text/plain": [
       "14"
      ]
     },
     "execution_count": 19,
     "metadata": {},
     "output_type": "execute_result"
    }
   ],
   "source": [
    "counter"
   ]
  },
  {
   "cell_type": "markdown",
   "id": "325e8440-3759-4b7b-952a-3039c0098607",
   "metadata": {},
   "source": [
    "Variable names can be short (`a`, `x`, `y`, etc.) or descriptive ( `my_favorite_color`, `profit_margin`, `the_3_musketeers`, etc.). However, you must follow these rules while naming Python variables:\n",
    "\n",
    "* A variable's name must start with a letter or the underscore character `_`. It cannot begin with a number.\n",
    "* A variable name can only contain lowercase (small) or uppercase (capital) letters, digits, or underscores (`a`-`z`, `A`-`Z`, `0`-`9`, and `_`).\n",
    "* Variable names are case-sensitive, i.e., `a_variable`, `A_Variable`, and `A_VARIABLE` are all different variables.\n",
    "\n",
    "Here are some valid variable names:"
   ]
  },
  {
   "cell_type": "code",
   "execution_count": 20,
   "id": "9c1fad69-64ec-4f31-8b82-ce6eefc26c15",
   "metadata": {},
   "outputs": [],
   "source": [
    "a_variable = 23\n",
    "is_today_saturday = False\n",
    "my_favorite_car = \"Mercedes\"\n",
    "the_3_musketeers = [\"Athos\" ,\"Porthos\" ,\"Aramis\"]"
   ]
  },
  {
   "cell_type": "markdown",
   "id": "2b174d14-14d8-490a-8941-59af35b8b0a9",
   "metadata": {},
   "source": [
    "Let's try creating some variables with invalid names. Python prints a syntax error if your variable's name is invalid.\n",
    "\n",
    "> **Syntax**: The syntax of a programming language refers to the rules that govern the structure of a valid instruction or *statement*. If a statement does not follow these rules, Python stops execution and informs you that there is a *syntax error*. You can think of syntax as the rules of grammar for a programming language."
   ]
  },
  {
   "cell_type": "code",
   "execution_count": 21,
   "id": "3b6c78a6-5957-4101-b1c9-e4897db0ed8d",
   "metadata": {},
   "outputs": [
    {
     "ename": "SyntaxError",
     "evalue": "invalid syntax (3435034236.py, line 1)",
     "output_type": "error",
     "traceback": [
      "  \u001b[36mCell\u001b[39m\u001b[36m \u001b[39m\u001b[32mIn[21]\u001b[39m\u001b[32m, line 1\u001b[39m\n\u001b[31m    \u001b[39m\u001b[31ma variable=23\u001b[39m\n      ^\n\u001b[31mSyntaxError\u001b[39m\u001b[31m:\u001b[39m invalid syntax\n"
     ]
    }
   ],
   "source": [
    "a variable=23"
   ]
  },
  {
   "cell_type": "code",
   "execution_count": 22,
   "id": "cd5ccad4-e3c9-4be3-879a-c6ef962422c8",
   "metadata": {},
   "outputs": [
    {
     "ename": "SyntaxError",
     "evalue": "invalid syntax (4115463781.py, line 1)",
     "output_type": "error",
     "traceback": [
      "  \u001b[36mCell\u001b[39m\u001b[36m \u001b[39m\u001b[32mIn[22]\u001b[39m\u001b[32m, line 1\u001b[39m\n\u001b[31m    \u001b[39m\u001b[31mis_today_$aturday=False\u001b[39m\n             ^\n\u001b[31mSyntaxError\u001b[39m\u001b[31m:\u001b[39m invalid syntax\n"
     ]
    }
   ],
   "source": [
    "is_today_$aturday=False"
   ]
  },
  {
   "cell_type": "code",
   "execution_count": 23,
   "id": "a30b78cb-80f2-4ffc-afec-ca9ce05032cb",
   "metadata": {},
   "outputs": [
    {
     "ename": "SyntaxError",
     "evalue": "cannot assign to expression here. Maybe you meant '==' instead of '='? (1798234066.py, line 1)",
     "output_type": "error",
     "traceback": [
      "  \u001b[36mCell\u001b[39m\u001b[36m \u001b[39m\u001b[32mIn[23]\u001b[39m\u001b[32m, line 1\u001b[39m\n\u001b[31m    \u001b[39m\u001b[31mmy-favorite-car=\"Deloran\"\u001b[39m\n    ^\n\u001b[31mSyntaxError\u001b[39m\u001b[31m:\u001b[39m cannot assign to expression here. Maybe you meant '==' instead of '='?\n"
     ]
    }
   ],
   "source": [
    "my-favorite-car=\"Deloran\""
   ]
  },
  {
   "cell_type": "code",
   "execution_count": 24,
   "id": "d6c967a9-2c75-4d6d-8f3f-ea0361f65801",
   "metadata": {},
   "outputs": [
    {
     "ename": "SyntaxError",
     "evalue": "invalid decimal literal (1550770998.py, line 1)",
     "output_type": "error",
     "traceback": [
      "  \u001b[36mCell\u001b[39m\u001b[36m \u001b[39m\u001b[32mIn[24]\u001b[39m\u001b[32m, line 1\u001b[39m\n\u001b[31m    \u001b[39m\u001b[31m3_muskteers=[\"Athos\" ,\"Porthos\" ,\"Aramis\"]\u001b[39m\n     ^\n\u001b[31mSyntaxError\u001b[39m\u001b[31m:\u001b[39m invalid decimal literal\n"
     ]
    }
   ],
   "source": [
    "3_muskteers=[\"Athos\" ,\"Porthos\" ,\"Aramis\"]"
   ]
  },
  {
   "cell_type": "markdown",
   "id": "a0737363-3a66-4c24-9d02-ee956be4b47f",
   "metadata": {},
   "source": [
    "## Built-in data types in Python\n",
    "\n",
    "Any data or information stored within a Python variable has a *type*. You can view the type of data stored within a variable using the `type` function."
   ]
  },
  {
   "cell_type": "code",
   "execution_count": 25,
   "id": "2847fc52-8f9f-45ca-88f0-c83a4cdb1544",
   "metadata": {},
   "outputs": [
    {
     "data": {
      "text/plain": [
       "23"
      ]
     },
     "execution_count": 25,
     "metadata": {},
     "output_type": "execute_result"
    }
   ],
   "source": [
    "a_variable"
   ]
  },
  {
   "cell_type": "code",
   "execution_count": 26,
   "id": "9831e8c5-4eef-4034-97e0-32fa0a1940d9",
   "metadata": {},
   "outputs": [
    {
     "data": {
      "text/plain": [
       "int"
      ]
     },
     "execution_count": 26,
     "metadata": {},
     "output_type": "execute_result"
    }
   ],
   "source": [
    "type(a_variable)"
   ]
  },
  {
   "cell_type": "code",
   "execution_count": 27,
   "id": "2a408bdd-ed4d-4523-9a74-13afe3d65b16",
   "metadata": {},
   "outputs": [
    {
     "data": {
      "text/plain": [
       "False"
      ]
     },
     "execution_count": 27,
     "metadata": {},
     "output_type": "execute_result"
    }
   ],
   "source": [
    "is_today_saturday"
   ]
  },
  {
   "cell_type": "code",
   "execution_count": 28,
   "id": "e58fc5d6-49cd-498d-8d76-601777e0ff97",
   "metadata": {},
   "outputs": [
    {
     "data": {
      "text/plain": [
       "bool"
      ]
     },
     "execution_count": 28,
     "metadata": {},
     "output_type": "execute_result"
    }
   ],
   "source": [
    "type(is_today_saturday)"
   ]
  },
  {
   "cell_type": "code",
   "execution_count": 29,
   "id": "1804e9fb-0aab-415f-8970-58380a378d22",
   "metadata": {},
   "outputs": [
    {
     "data": {
      "text/plain": [
       "'Mercedes'"
      ]
     },
     "execution_count": 29,
     "metadata": {},
     "output_type": "execute_result"
    }
   ],
   "source": [
    "my_favorite_car"
   ]
  },
  {
   "cell_type": "code",
   "execution_count": 30,
   "id": "3c23ef3f-06cf-462d-8030-c9c5ca9221ba",
   "metadata": {},
   "outputs": [
    {
     "data": {
      "text/plain": [
       "str"
      ]
     },
     "execution_count": 30,
     "metadata": {},
     "output_type": "execute_result"
    }
   ],
   "source": [
    "type(my_favorite_car)"
   ]
  },
  {
   "cell_type": "code",
   "execution_count": 31,
   "id": "a7a4fd21-8b50-4028-98b8-93ab7bc068a7",
   "metadata": {},
   "outputs": [
    {
     "data": {
      "text/plain": [
       "['Athos', 'Porthos', 'Aramis']"
      ]
     },
     "execution_count": 31,
     "metadata": {},
     "output_type": "execute_result"
    }
   ],
   "source": [
    "the_3_musketeers"
   ]
  },
  {
   "cell_type": "code",
   "execution_count": 32,
   "id": "66bb666a-e090-4c46-80f8-0c2ad4408423",
   "metadata": {},
   "outputs": [
    {
     "data": {
      "text/plain": [
       "list"
      ]
     },
     "execution_count": 32,
     "metadata": {},
     "output_type": "execute_result"
    }
   ],
   "source": [
    "type(the_3_musketeers)"
   ]
  },
  {
   "cell_type": "markdown",
   "id": "927d035c-526f-48d3-abf6-3b7a417efb88",
   "metadata": {},
   "source": [
    "Python has several built-in data types for storing different kinds of information in variables. Following are some commonly used data types:\n",
    "\n",
    "1. Integer\n",
    "2. Float\n",
    "3. Boolean\n",
    "4. None\n",
    "5. String\n",
    "6. List\n",
    "7. Tuple\n",
    "8. Dictionary\n",
    "\n",
    "Integer, float, boolean, None, and string are *primitive data types* because they represent a single value. Other data types like list, tuple, and dictionary are often called *data structures* or *containers* because they hold multiple pieces of data together."
   ]
  },
  {
   "cell_type": "markdown",
   "id": "70fcfa7e-d94b-4938-8f28-1d1b1405d6b2",
   "metadata": {},
   "source": [
    "### Integer\n",
    "\n",
    "Integers represent positive or negative whole numbers, from negative infinity to infinity. Note that integers should not include decimal points. Integers have the type `int`."
   ]
  },
  {
   "cell_type": "code",
   "execution_count": 33,
   "id": "91f4d515-d8d9-44c6-b070-07e613a05a0d",
   "metadata": {},
   "outputs": [],
   "source": [
    "current_year=2020"
   ]
  },
  {
   "cell_type": "code",
   "execution_count": 34,
   "id": "4fa815cb-0839-476e-be7b-885abcd9003d",
   "metadata": {},
   "outputs": [
    {
     "data": {
      "text/plain": [
       "2020"
      ]
     },
     "execution_count": 34,
     "metadata": {},
     "output_type": "execute_result"
    }
   ],
   "source": [
    "current_year"
   ]
  },
  {
   "cell_type": "code",
   "execution_count": 35,
   "id": "8f90d2c6-2085-40ba-9af1-af73dcc60b28",
   "metadata": {},
   "outputs": [
    {
     "data": {
      "text/plain": [
       "int"
      ]
     },
     "execution_count": 35,
     "metadata": {},
     "output_type": "execute_result"
    }
   ],
   "source": [
    "type(current_year)"
   ]
  },
  {
   "cell_type": "markdown",
   "id": "898f4935-1bde-497d-b303-c422bd939dcd",
   "metadata": {},
   "source": [
    "Unlike some other programming languages, integers in Python can be arbitrarily large (or small). There's no lowest or highest value for integers, and there's just one `int` type (as opposed to `short`, `int`, `long`, `long long`, `unsigned int`, etc. in C/C++/Java)."
   ]
  },
  {
   "cell_type": "code",
   "execution_count": 36,
   "id": "25a20cdf-c184-4d94-8f16-e692f998c6a2",
   "metadata": {},
   "outputs": [],
   "source": [
    "a_large_negative_number=-234342523532532532532523532532532532"
   ]
  },
  {
   "cell_type": "code",
   "execution_count": 37,
   "id": "83c99ade-1386-4f4c-8567-d16116bdfaa7",
   "metadata": {},
   "outputs": [
    {
     "data": {
      "text/plain": [
       "-234342523532532532532523532532532532"
      ]
     },
     "execution_count": 37,
     "metadata": {},
     "output_type": "execute_result"
    }
   ],
   "source": [
    "a_large_negative_number"
   ]
  },
  {
   "cell_type": "code",
   "execution_count": 38,
   "id": "4d7c908f-6c6f-4155-876a-0e0c2644cde5",
   "metadata": {},
   "outputs": [
    {
     "data": {
      "text/plain": [
       "int"
      ]
     },
     "execution_count": 38,
     "metadata": {},
     "output_type": "execute_result"
    }
   ],
   "source": [
    "type(a_large_negative_number)"
   ]
  },
  {
   "cell_type": "markdown",
   "id": "70a1c650-f3a3-44a5-8ca2-759629d51ca9",
   "metadata": {},
   "source": [
    "### Float\n",
    "\n",
    "Floats (or floating-point numbers) are numbers with a decimal point. There are no limits on the value or the number of digits before or after the decimal point. Floating-point numbers have the type `float`."
   ]
  },
  {
   "cell_type": "code",
   "execution_count": 39,
   "id": "f4815398-3c72-4f08-8536-8e89ddc379a5",
   "metadata": {},
   "outputs": [],
   "source": [
    "pi=3.145926535893238"
   ]
  },
  {
   "cell_type": "code",
   "execution_count": 40,
   "id": "9e4c100b-069b-453b-9f45-6dddc9550ca2",
   "metadata": {},
   "outputs": [
    {
     "data": {
      "text/plain": [
       "3.145926535893238"
      ]
     },
     "execution_count": 40,
     "metadata": {},
     "output_type": "execute_result"
    }
   ],
   "source": [
    "pi"
   ]
  },
  {
   "cell_type": "code",
   "execution_count": 41,
   "id": "a39a85ce-04f0-4802-9a71-be2c7f87900d",
   "metadata": {},
   "outputs": [
    {
     "data": {
      "text/plain": [
       "float"
      ]
     },
     "execution_count": 41,
     "metadata": {},
     "output_type": "execute_result"
    }
   ],
   "source": [
    "type(pi)"
   ]
  },
  {
   "cell_type": "markdown",
   "id": "9d5c76c8-d9a4-4660-9199-256d60f00c6b",
   "metadata": {},
   "source": [
    "Note that a whole number is treated as a float if written with a decimal point, even though the decimal portion of the number is zero."
   ]
  },
  {
   "cell_type": "code",
   "execution_count": 42,
   "id": "84b21213-6003-47f4-80e5-244b694e7620",
   "metadata": {},
   "outputs": [],
   "source": [
    "a_number=3.0"
   ]
  },
  {
   "cell_type": "code",
   "execution_count": 43,
   "id": "788ef7e4-605e-4b49-88c7-6014ef84f972",
   "metadata": {},
   "outputs": [
    {
     "data": {
      "text/plain": [
       "float"
      ]
     },
     "execution_count": 43,
     "metadata": {},
     "output_type": "execute_result"
    }
   ],
   "source": [
    "type(a_number)"
   ]
  },
  {
   "cell_type": "code",
   "execution_count": 127,
   "id": "082470e5-9b2b-4cc7-9db0-7cd02bf25f35",
   "metadata": {},
   "outputs": [],
   "source": [
    "another_number=4."
   ]
  },
  {
   "cell_type": "code",
   "execution_count": 128,
   "id": "ed1ee8b9-9fbd-47cc-8526-79175c28a589",
   "metadata": {},
   "outputs": [
    {
     "data": {
      "text/plain": [
       "4.0"
      ]
     },
     "execution_count": 128,
     "metadata": {},
     "output_type": "execute_result"
    }
   ],
   "source": [
    "another_number"
   ]
  },
  {
   "cell_type": "code",
   "execution_count": 129,
   "id": "36686e5c-50e3-492b-ba42-48e6efa94716",
   "metadata": {},
   "outputs": [
    {
     "data": {
      "text/plain": [
       "float"
      ]
     },
     "execution_count": 129,
     "metadata": {},
     "output_type": "execute_result"
    }
   ],
   "source": [
    "type(another_number)"
   ]
  },
  {
   "cell_type": "markdown",
   "id": "89a83943-ae45-4fa7-b3f1-632e86dc01cb",
   "metadata": {},
   "source": [
    "Floating point numbers can also be written using the scientific notation with an \"e\" to indicate the power of 10."
   ]
  },
  {
   "cell_type": "code",
   "execution_count": 130,
   "id": "93e9f7bf-f505-4d14-8916-12f0b25ca521",
   "metadata": {},
   "outputs": [],
   "source": [
    "one_hundredth=1e-2"
   ]
  },
  {
   "cell_type": "code",
   "execution_count": 131,
   "id": "f57bb4b3-1488-4753-914c-46e92a84f7f3",
   "metadata": {},
   "outputs": [
    {
     "data": {
      "text/plain": [
       "0.01"
      ]
     },
     "execution_count": 131,
     "metadata": {},
     "output_type": "execute_result"
    }
   ],
   "source": [
    "one_hundredth"
   ]
  },
  {
   "cell_type": "code",
   "execution_count": 132,
   "id": "e717586b-b322-4220-8b7f-cf2064378875",
   "metadata": {},
   "outputs": [
    {
     "data": {
      "text/plain": [
       "float"
      ]
     },
     "execution_count": 132,
     "metadata": {},
     "output_type": "execute_result"
    }
   ],
   "source": [
    "type(one_hundredth)"
   ]
  },
  {
   "cell_type": "code",
   "execution_count": 133,
   "id": "ad9dce6b-57f9-4c0b-92dd-4c21b3872f15",
   "metadata": {},
   "outputs": [],
   "source": [
    "avagadro_number=6.0221406e23"
   ]
  },
  {
   "cell_type": "code",
   "execution_count": 134,
   "id": "68c19310-b017-48f2-b908-b91f24549d82",
   "metadata": {},
   "outputs": [
    {
     "data": {
      "text/plain": [
       "6.0221406e+23"
      ]
     },
     "execution_count": 134,
     "metadata": {},
     "output_type": "execute_result"
    }
   ],
   "source": [
    "avagadro_number"
   ]
  },
  {
   "cell_type": "code",
   "execution_count": 135,
   "id": "cd4e92ed-1eb9-4107-848a-26490eec7819",
   "metadata": {},
   "outputs": [
    {
     "data": {
      "text/plain": [
       "float"
      ]
     },
     "execution_count": 135,
     "metadata": {},
     "output_type": "execute_result"
    }
   ],
   "source": [
    "type(avagadro_number)"
   ]
  },
  {
   "cell_type": "markdown",
   "id": "0298b96c-742e-46c8-b0e3-e19864a6c806",
   "metadata": {},
   "source": [
    "You can convert floats into integers and vice versa using the `float` and `int` functions. The operation of converting one type of value into another is called casting."
   ]
  },
  {
   "cell_type": "code",
   "execution_count": 136,
   "id": "d8cda7d3-5087-415a-a1a0-b369c6292ef8",
   "metadata": {},
   "outputs": [
    {
     "data": {
      "text/plain": [
       "2020.0"
      ]
     },
     "execution_count": 136,
     "metadata": {},
     "output_type": "execute_result"
    }
   ],
   "source": [
    "float(current_year)"
   ]
  },
  {
   "cell_type": "code",
   "execution_count": 137,
   "id": "32d6f114-5778-4e93-9a89-11f147f9dc1b",
   "metadata": {},
   "outputs": [
    {
     "data": {
      "text/plain": [
       "-2.343425235325325e+35"
      ]
     },
     "execution_count": 137,
     "metadata": {},
     "output_type": "execute_result"
    }
   ],
   "source": [
    "float(a_large_negative_number)"
   ]
  },
  {
   "cell_type": "code",
   "execution_count": 138,
   "id": "cd690f59-4162-4bdc-9860-a4b581bd3ff8",
   "metadata": {},
   "outputs": [
    {
     "data": {
      "text/plain": [
       "3"
      ]
     },
     "execution_count": 138,
     "metadata": {},
     "output_type": "execute_result"
    }
   ],
   "source": [
    "int(pi)"
   ]
  },
  {
   "cell_type": "code",
   "execution_count": 139,
   "id": "b12dbb43-077e-4fc8-979a-5fb7fccc7009",
   "metadata": {},
   "outputs": [
    {
     "data": {
      "text/plain": [
       "602214059999999993839616"
      ]
     },
     "execution_count": 139,
     "metadata": {},
     "output_type": "execute_result"
    }
   ],
   "source": [
    "int(avagadro_number)"
   ]
  },
  {
   "cell_type": "markdown",
   "id": "897c0713-178a-4520-b3da-e5cfe577c2ca",
   "metadata": {},
   "source": [
    "While performing arithmetic operations, integers are automatically converted to `float`s if any of the operands is a `float`. Also, the division operator `/` always returns a `float`, even if both operands are integers. Use the `//` operator if you want the result of the division to be an `int`."
   ]
  },
  {
   "cell_type": "code",
   "execution_count": 140,
   "id": "986f07a2-3050-47db-a2c0-6d67cd701ac4",
   "metadata": {},
   "outputs": [
    {
     "data": {
      "text/plain": [
       "float"
      ]
     },
     "execution_count": 140,
     "metadata": {},
     "output_type": "execute_result"
    }
   ],
   "source": [
    "type(45*3.0)"
   ]
  },
  {
   "cell_type": "code",
   "execution_count": 141,
   "id": "27892c5c-ed60-40b1-b4c5-a47b09cde539",
   "metadata": {},
   "outputs": [
    {
     "data": {
      "text/plain": [
       "int"
      ]
     },
     "execution_count": 141,
     "metadata": {},
     "output_type": "execute_result"
    }
   ],
   "source": [
    "type(45*3)"
   ]
  },
  {
   "cell_type": "code",
   "execution_count": 142,
   "id": "9f69dc8c-9d6f-43a5-a761-dd938a293702",
   "metadata": {},
   "outputs": [
    {
     "data": {
      "text/plain": [
       "float"
      ]
     },
     "execution_count": 142,
     "metadata": {},
     "output_type": "execute_result"
    }
   ],
   "source": [
    "type(10/3)"
   ]
  },
  {
   "cell_type": "code",
   "execution_count": 143,
   "id": "673585e7-b151-45df-89c3-8e5b45c77fd6",
   "metadata": {},
   "outputs": [
    {
     "data": {
      "text/plain": [
       "float"
      ]
     },
     "execution_count": 143,
     "metadata": {},
     "output_type": "execute_result"
    }
   ],
   "source": [
    "type(10/2)"
   ]
  },
  {
   "cell_type": "code",
   "execution_count": 144,
   "id": "8c3b338a-bd2e-4b25-a5a3-dc8547b43fa4",
   "metadata": {},
   "outputs": [
    {
     "data": {
      "text/plain": [
       "int"
      ]
     },
     "execution_count": 144,
     "metadata": {},
     "output_type": "execute_result"
    }
   ],
   "source": [
    "type(10//2)"
   ]
  },
  {
   "cell_type": "markdown",
   "id": "5625073f-8dda-44bc-bd85-10c3ca9485ca",
   "metadata": {},
   "source": [
    "### Boolean\n",
    "\n",
    "Booleans represent one of 2 values: `True` and `False`. Booleans have the type `bool`."
   ]
  },
  {
   "cell_type": "code",
   "execution_count": 145,
   "id": "0b40e086-feeb-4dea-8940-b2f420cca23a",
   "metadata": {},
   "outputs": [],
   "source": [
    "is_today_sunday=True"
   ]
  },
  {
   "cell_type": "code",
   "execution_count": 146,
   "id": "0903aed2-0a10-4d76-8c4d-33eb3c431630",
   "metadata": {},
   "outputs": [
    {
     "data": {
      "text/plain": [
       "True"
      ]
     },
     "execution_count": 146,
     "metadata": {},
     "output_type": "execute_result"
    }
   ],
   "source": [
    "is_today_sunday"
   ]
  },
  {
   "cell_type": "code",
   "execution_count": 147,
   "id": "64ebf8ce-0b25-412b-9ce2-afd7b4700410",
   "metadata": {},
   "outputs": [
    {
     "data": {
      "text/plain": [
       "bool"
      ]
     },
     "execution_count": 147,
     "metadata": {},
     "output_type": "execute_result"
    }
   ],
   "source": [
    "type(is_today_sunday)"
   ]
  },
  {
   "cell_type": "markdown",
   "id": "3441b818-c45e-487f-95f4-3c8921e9a3b9",
   "metadata": {},
   "source": [
    "Booleans are generally the result of a comparison operation, e.g., `==`, `>=`, etc."
   ]
  },
  {
   "cell_type": "code",
   "execution_count": 148,
   "id": "c0f780fd-3364-4a0f-860e-b138a2688ff6",
   "metadata": {},
   "outputs": [],
   "source": [
    "cost_of_ice_bag=1.25\n",
    "is_ice_bag_expensive = cost_of_ice_bag >= 10"
   ]
  },
  {
   "cell_type": "code",
   "execution_count": 149,
   "id": "5bc0611a-9db2-460a-88ef-934015b83a69",
   "metadata": {},
   "outputs": [
    {
     "data": {
      "text/plain": [
       "False"
      ]
     },
     "execution_count": 149,
     "metadata": {},
     "output_type": "execute_result"
    }
   ],
   "source": [
    "is_ice_bag_expensive"
   ]
  },
  {
   "cell_type": "code",
   "execution_count": 150,
   "id": "ca57b7c4-546b-497f-83ba-9e480952b931",
   "metadata": {},
   "outputs": [
    {
     "data": {
      "text/plain": [
       "bool"
      ]
     },
     "execution_count": 150,
     "metadata": {},
     "output_type": "execute_result"
    }
   ],
   "source": [
    "type(is_ice_bag_expensive)"
   ]
  },
  {
   "cell_type": "markdown",
   "id": "51638e6b-c83c-4271-bbde-aec68639b635",
   "metadata": {},
   "source": [
    "Booleans are automatically converted to `int`s when used in arithmetic operations. `True` is converted to `1` and `False` is converted to `0`."
   ]
  },
  {
   "cell_type": "code",
   "execution_count": 151,
   "id": "4b31dfc4-2679-42d2-95f5-38ed207aa4ad",
   "metadata": {},
   "outputs": [
    {
     "data": {
      "text/plain": [
       "5"
      ]
     },
     "execution_count": 151,
     "metadata": {},
     "output_type": "execute_result"
    }
   ],
   "source": [
    "5+False"
   ]
  },
  {
   "cell_type": "code",
   "execution_count": 152,
   "id": "0a2e19ab-bc43-48ae-94c5-0cbb21e809ed",
   "metadata": {},
   "outputs": [
    {
     "data": {
      "text/plain": [
       "4.0"
      ]
     },
     "execution_count": 152,
     "metadata": {},
     "output_type": "execute_result"
    }
   ],
   "source": [
    "3. + True"
   ]
  },
  {
   "cell_type": "markdown",
   "id": "f79275a1-1c25-488f-b139-abe339dcf057",
   "metadata": {},
   "source": [
    "Any value in Python can be converted to a Boolean using the `bool` function. \n",
    "\n",
    "Only the following values evaluate to `False` (they are often called *falsy* values):\n",
    "\n",
    "1. The value `False` itself\n",
    "2. The integer `0`\n",
    "3. The float `0.0`\n",
    "4. The empty value `None`\n",
    "5. The empty text `\"\"`\n",
    "6. The empty list `[]`\n",
    "7. The empty tuple `()`\n",
    "8. The empty dictionary `{}`\n",
    "9. The empty set `set()`\n",
    "10. The empty range `range(0)`\n",
    "\n",
    "Everything else evaluates to `True` (a value that evaluates to `True` is often called a *truthy* value)."
   ]
  },
  {
   "cell_type": "code",
   "execution_count": 153,
   "id": "dc85110f-b508-468b-9b28-bc37e6b7e5d1",
   "metadata": {},
   "outputs": [
    {
     "data": {
      "text/plain": [
       "False"
      ]
     },
     "execution_count": 153,
     "metadata": {},
     "output_type": "execute_result"
    }
   ],
   "source": [
    "bool(False)"
   ]
  },
  {
   "cell_type": "code",
   "execution_count": 154,
   "id": "26756e30-5c28-4bf0-91a3-704b31ab8a27",
   "metadata": {},
   "outputs": [
    {
     "data": {
      "text/plain": [
       "False"
      ]
     },
     "execution_count": 154,
     "metadata": {},
     "output_type": "execute_result"
    }
   ],
   "source": [
    "bool(0)"
   ]
  },
  {
   "cell_type": "code",
   "execution_count": 155,
   "id": "b3b1b84e-931b-4aca-8b26-da05739c9298",
   "metadata": {},
   "outputs": [
    {
     "data": {
      "text/plain": [
       "False"
      ]
     },
     "execution_count": 155,
     "metadata": {},
     "output_type": "execute_result"
    }
   ],
   "source": [
    "bool(0.0)"
   ]
  },
  {
   "cell_type": "code",
   "execution_count": 156,
   "id": "3d37b0ad-0494-4c37-9373-d172be23c25b",
   "metadata": {},
   "outputs": [
    {
     "data": {
      "text/plain": [
       "False"
      ]
     },
     "execution_count": 156,
     "metadata": {},
     "output_type": "execute_result"
    }
   ],
   "source": [
    "bool(None)"
   ]
  },
  {
   "cell_type": "code",
   "execution_count": 157,
   "id": "4f45e7b1-4189-4fa9-a0e9-3be048621f16",
   "metadata": {},
   "outputs": [
    {
     "data": {
      "text/plain": [
       "False"
      ]
     },
     "execution_count": 157,
     "metadata": {},
     "output_type": "execute_result"
    }
   ],
   "source": [
    "bool(\"\")"
   ]
  },
  {
   "cell_type": "code",
   "execution_count": 158,
   "id": "84e17b7e-41ca-40ec-a097-c4be04d0df8d",
   "metadata": {},
   "outputs": [
    {
     "data": {
      "text/plain": [
       "False"
      ]
     },
     "execution_count": 158,
     "metadata": {},
     "output_type": "execute_result"
    }
   ],
   "source": [
    "bool([])"
   ]
  },
  {
   "cell_type": "code",
   "execution_count": 159,
   "id": "edec3b9d-1fb0-4fee-a57a-874dc3f8da0b",
   "metadata": {},
   "outputs": [
    {
     "data": {
      "text/plain": [
       "False"
      ]
     },
     "execution_count": 159,
     "metadata": {},
     "output_type": "execute_result"
    }
   ],
   "source": [
    "bool(())"
   ]
  },
  {
   "cell_type": "code",
   "execution_count": 160,
   "id": "f8bdfc3a-03df-40d1-9a9b-61bdd29374ae",
   "metadata": {},
   "outputs": [
    {
     "data": {
      "text/plain": [
       "False"
      ]
     },
     "execution_count": 160,
     "metadata": {},
     "output_type": "execute_result"
    }
   ],
   "source": [
    "bool({})"
   ]
  },
  {
   "cell_type": "code",
   "execution_count": 161,
   "id": "6b27390e-db7d-480f-8a53-893e1045ee66",
   "metadata": {},
   "outputs": [
    {
     "data": {
      "text/plain": [
       "False"
      ]
     },
     "execution_count": 161,
     "metadata": {},
     "output_type": "execute_result"
    }
   ],
   "source": [
    "bool(set())"
   ]
  },
  {
   "cell_type": "code",
   "execution_count": 162,
   "id": "f77dae62-31ef-4f5b-bd11-7c18e527d7b0",
   "metadata": {},
   "outputs": [
    {
     "data": {
      "text/plain": [
       "False"
      ]
     },
     "execution_count": 162,
     "metadata": {},
     "output_type": "execute_result"
    }
   ],
   "source": [
    "bool(range(0))"
   ]
  },
  {
   "cell_type": "code",
   "execution_count": 163,
   "id": "8ca3f178-2b7a-46be-9ac8-a7272e9d0ff4",
   "metadata": {},
   "outputs": [
    {
     "data": {
      "text/plain": [
       "(True, True, True, True, True, True, True)"
      ]
     },
     "execution_count": 163,
     "metadata": {},
     "output_type": "execute_result"
    }
   ],
   "source": [
    "bool(True),bool(1),bool(2.0),bool(\"Hello\"),bool([1,2]),bool((2,3)),bool(range(10))"
   ]
  },
  {
   "cell_type": "markdown",
   "id": "c84ab0cc-8448-4a99-bab6-fd2cdc2f711c",
   "metadata": {},
   "source": [
    "### None\n",
    "\n",
    "The None type includes a single value `None`, used to indicate the absence of a value. `None` has the type `NoneType`. It is often used to declare a variable whose value may be assigned later."
   ]
  },
  {
   "cell_type": "code",
   "execution_count": 164,
   "id": "50e0b1ca-c64d-4f45-9c41-b65a685a513c",
   "metadata": {},
   "outputs": [],
   "source": [
    "nothing = None"
   ]
  },
  {
   "cell_type": "code",
   "execution_count": 165,
   "id": "6089255e-43d0-4f52-881d-a0e17ad724eb",
   "metadata": {},
   "outputs": [
    {
     "data": {
      "text/plain": [
       "NoneType"
      ]
     },
     "execution_count": 165,
     "metadata": {},
     "output_type": "execute_result"
    }
   ],
   "source": [
    "type(nothing)"
   ]
  },
  {
   "cell_type": "markdown",
   "id": "34b5c753-359f-4213-a604-974ada7af983",
   "metadata": {},
   "source": [
    "### String\n",
    "\n",
    "A string is used to represent text (*a string of characters*) in Python. Strings must be surrounded using quotations (either the single quote `'` or the double quote `\"`). Strings have the type `string`."
   ]
  },
  {
   "cell_type": "code",
   "execution_count": 166,
   "id": "54760199-8e8d-4647-83cb-d453d670ead4",
   "metadata": {},
   "outputs": [],
   "source": [
    "today=\"Saturday\""
   ]
  },
  {
   "cell_type": "code",
   "execution_count": 167,
   "id": "d1f5c985-ba1f-4342-a8ec-e40f053a50de",
   "metadata": {},
   "outputs": [
    {
     "data": {
      "text/plain": [
       "'Saturday'"
      ]
     },
     "execution_count": 167,
     "metadata": {},
     "output_type": "execute_result"
    }
   ],
   "source": [
    "today"
   ]
  },
  {
   "cell_type": "markdown",
   "id": "732e6749-a5da-4c2e-ae96-59921369e437",
   "metadata": {},
   "source": [
    "You can use single quotes inside a string written with double quotes, and vice versa."
   ]
  },
  {
   "cell_type": "code",
   "execution_count": 168,
   "id": "d1e72135-bfd4-4897-82ca-424e8f51db55",
   "metadata": {},
   "outputs": [],
   "source": [
    "my_favorite_movie=\"One flew over the Cuckoo Nest\""
   ]
  },
  {
   "cell_type": "code",
   "execution_count": 169,
   "id": "37afe9f4-38c2-4241-8d18-2f29594468b1",
   "metadata": {},
   "outputs": [
    {
     "data": {
      "text/plain": [
       "'One flew over the Cuckoo Nest'"
      ]
     },
     "execution_count": 169,
     "metadata": {},
     "output_type": "execute_result"
    }
   ],
   "source": [
    "my_favorite_movie"
   ]
  },
  {
   "cell_type": "code",
   "execution_count": 170,
   "id": "ef032927-ff99-4ea3-bdb7-9f2c7ef42af2",
   "metadata": {},
   "outputs": [],
   "source": [
    "my_favorite_pun='Thanks for explaining the word \"many\" to me ,it means a lot.'"
   ]
  },
  {
   "cell_type": "code",
   "execution_count": 171,
   "id": "94daa7cf-3df4-4907-8f09-124258017220",
   "metadata": {},
   "outputs": [
    {
     "data": {
      "text/plain": [
       "'Thanks for explaining the word \"many\" to me ,it means a lot.'"
      ]
     },
     "execution_count": 171,
     "metadata": {},
     "output_type": "execute_result"
    }
   ],
   "source": [
    "my_favorite_pun"
   ]
  },
  {
   "cell_type": "markdown",
   "id": "f188bcf8-b55c-4ba7-92aa-791894b521d9",
   "metadata": {},
   "source": [
    "To use a double quote within a string written with double quotes, *escape* the inner quotes by prefixing them with the `\\` character."
   ]
  },
  {
   "cell_type": "code",
   "execution_count": 172,
   "id": "7478a714-627e-4063-b684-88b0dd0c1295",
   "metadata": {},
   "outputs": [],
   "source": [
    "another_pun = \"The first time I got a universal remote control, I thought to myself \\\"This changes everything\\\".\""
   ]
  },
  {
   "cell_type": "code",
   "execution_count": 173,
   "id": "d910d24e-a9be-4466-b0a4-d4af247923ae",
   "metadata": {},
   "outputs": [
    {
     "data": {
      "text/plain": [
       "'The first time I got a universal remote control, I thought to myself \"This changes everything\".'"
      ]
     },
     "execution_count": 173,
     "metadata": {},
     "output_type": "execute_result"
    }
   ],
   "source": [
    "another_pun"
   ]
  },
  {
   "cell_type": "markdown",
   "id": "81e2f36d-18bc-4fcc-81f0-75ab7a881a5e",
   "metadata": {},
   "source": [
    "Strings created using single or double quotes must begin and end on the same line. To create multiline strings, use three single quotes `'''` or three double quotes `\"\"\"` to begin and end the string. Line breaks are represented using the newline character `\\n`."
   ]
  },
  {
   "cell_type": "code",
   "execution_count": 174,
   "id": "954bbcc2-cb29-4216-afb8-e6f6f3fcf333",
   "metadata": {},
   "outputs": [],
   "source": [
    "yet_another_pun='''Son : \"Dad ,can you tell me what a solar eclipse is?\"\n",
    "Dad : \"No sun .\"'''"
   ]
  },
  {
   "cell_type": "code",
   "execution_count": 175,
   "id": "69d4bced-68a4-4a8b-bee3-8ae390736937",
   "metadata": {},
   "outputs": [
    {
     "data": {
      "text/plain": [
       "'Son : \"Dad ,can you tell me what a solar eclipse is?\"\\nDad : \"No sun .\"'"
      ]
     },
     "execution_count": 175,
     "metadata": {},
     "output_type": "execute_result"
    }
   ],
   "source": [
    "yet_another_pun"
   ]
  },
  {
   "cell_type": "markdown",
   "id": "6a7cf54c-cc3d-4129-8d03-06b5adabeaad",
   "metadata": {},
   "source": [
    "Multiline strings are best displayed using the `print` function."
   ]
  },
  {
   "cell_type": "code",
   "execution_count": 176,
   "id": "27be73d3-5b08-4344-a4d3-094ce18dc32f",
   "metadata": {},
   "outputs": [
    {
     "name": "stdout",
     "output_type": "stream",
     "text": [
      "Son : \"Dad ,can you tell me what a solar eclipse is?\"\n",
      "Dad : \"No sun .\"\n"
     ]
    }
   ],
   "source": [
    "print(yet_another_pun)"
   ]
  },
  {
   "cell_type": "code",
   "execution_count": 177,
   "id": "562a90a4-ef3e-482f-b3de-d2ce8fb33971",
   "metadata": {},
   "outputs": [],
   "source": [
    "a_music_pun = \"\"\"\n",
    "Two windmills are standing in a field and one asks the other ,\n",
    "\"What kind of music do you like ?\"\n",
    "\n",
    "The other says ,\n",
    "\"I'm a big metal fan.\"\n",
    "\"\"\""
   ]
  },
  {
   "cell_type": "code",
   "execution_count": 178,
   "id": "bbb8ef4f-84dd-48da-9c63-a04cc228fce9",
   "metadata": {},
   "outputs": [
    {
     "name": "stdout",
     "output_type": "stream",
     "text": [
      "\n",
      "Two windmills are standing in a field and one asks the other ,\n",
      "\"What kind of music do you like ?\"\n",
      "\n",
      "The other says ,\n",
      "\"I'm a big metal fan.\"\n",
      "\n"
     ]
    }
   ],
   "source": [
    "print(a_music_pun)"
   ]
  },
  {
   "cell_type": "markdown",
   "id": "8014715c-1a81-4542-bfeb-6245f77b74be",
   "metadata": {},
   "source": [
    "You can ceck the length of the string using 'len' function"
   ]
  },
  {
   "cell_type": "code",
   "execution_count": 179,
   "id": "6ba76ef4-0585-4301-9837-0e09e58f61c8",
   "metadata": {},
   "outputs": [
    {
     "data": {
      "text/plain": [
       "29"
      ]
     },
     "execution_count": 179,
     "metadata": {},
     "output_type": "execute_result"
    }
   ],
   "source": [
    "len(my_favorite_movie)"
   ]
  },
  {
   "cell_type": "markdown",
   "id": "9d35b33e-4b73-4420-8b81-74a44e83959c",
   "metadata": {},
   "source": [
    "Note that special characters like `\\n` and escaped characters like `\\\"` count as a single character, even though they are written and sometimes printed as two characters."
   ]
  },
  {
   "cell_type": "code",
   "execution_count": 180,
   "id": "f006db7a-d7b9-4810-9a6d-5e28bd54af19",
   "metadata": {},
   "outputs": [
    {
     "data": {
      "text/plain": [
       "'a\\nb'"
      ]
     },
     "execution_count": 180,
     "metadata": {},
     "output_type": "execute_result"
    }
   ],
   "source": [
    "multiline_string = \"\"\"a\n",
    "b\"\"\"\n",
    "multiline_string"
   ]
  },
  {
   "cell_type": "code",
   "execution_count": 181,
   "id": "68ce4442-919b-4daa-b714-03cfc3a2bff7",
   "metadata": {},
   "outputs": [
    {
     "data": {
      "text/plain": [
       "3"
      ]
     },
     "execution_count": 181,
     "metadata": {},
     "output_type": "execute_result"
    }
   ],
   "source": [
    "len(multiline_string)"
   ]
  },
  {
   "cell_type": "markdown",
   "id": "286fb324-4ddd-4dfb-ba16-6944ecb1ffa4",
   "metadata": {},
   "source": [
    "A string can be converted into a list of characters using `list` function."
   ]
  },
  {
   "cell_type": "code",
   "execution_count": 182,
   "id": "376725f2-2d21-4907-8d84-b6d7917906a0",
   "metadata": {},
   "outputs": [
    {
     "data": {
      "text/plain": [
       "['a', '\\n', 'b']"
      ]
     },
     "execution_count": 182,
     "metadata": {},
     "output_type": "execute_result"
    }
   ],
   "source": [
    "list(multiline_string)"
   ]
  },
  {
   "cell_type": "markdown",
   "id": "de1dc3f8-b79f-446e-ab06-cf691e676e41",
   "metadata": {},
   "source": [
    "Strings also support several list operations, which are discussed in the next section. We'll look at a couple of examples here.\n",
    "\n",
    "You can access individual characters within a string using the `[]` indexing notation. Note the character indices go from `0` to `n-1`, where `n` is the length of the string."
   ]
  },
  {
   "cell_type": "code",
   "execution_count": 183,
   "id": "691947d1-ac2d-467a-99d9-371cd560953f",
   "metadata": {},
   "outputs": [],
   "source": [
    "today = \"Saturday\""
   ]
  },
  {
   "cell_type": "code",
   "execution_count": 184,
   "id": "2fb5a02b-e000-4d50-9f5a-8e29faa9b717",
   "metadata": {},
   "outputs": [
    {
     "data": {
      "text/plain": [
       "'S'"
      ]
     },
     "execution_count": 184,
     "metadata": {},
     "output_type": "execute_result"
    }
   ],
   "source": [
    "today[0]"
   ]
  },
  {
   "cell_type": "code",
   "execution_count": 185,
   "id": "1ed1a917-584c-4a77-8691-9c07d92b2ce9",
   "metadata": {},
   "outputs": [
    {
     "data": {
      "text/plain": [
       "'u'"
      ]
     },
     "execution_count": 185,
     "metadata": {},
     "output_type": "execute_result"
    }
   ],
   "source": [
    "today[3]"
   ]
  },
  {
   "cell_type": "code",
   "execution_count": 186,
   "id": "1916c8da-c79d-4557-af0e-f9415ca8b274",
   "metadata": {},
   "outputs": [
    {
     "data": {
      "text/plain": [
       "'y'"
      ]
     },
     "execution_count": 186,
     "metadata": {},
     "output_type": "execute_result"
    }
   ],
   "source": [
    "today[7]"
   ]
  },
  {
   "cell_type": "code",
   "execution_count": 187,
   "id": "0633b42d-bd25-4e62-94b6-e57a9f5bc68e",
   "metadata": {},
   "outputs": [
    {
     "data": {
      "text/plain": [
       "'d'"
      ]
     },
     "execution_count": 187,
     "metadata": {},
     "output_type": "execute_result"
    }
   ],
   "source": [
    "today[5]"
   ]
  },
  {
   "cell_type": "markdown",
   "id": "b63547f2-746b-4481-9373-4cff91bf5b56",
   "metadata": {},
   "source": [
    "You can access a part of a string using by providing a `start:end` range instead of a single index in `[]`."
   ]
  },
  {
   "cell_type": "code",
   "execution_count": 188,
   "id": "c0f0845f-efa0-44a5-9c29-65f9496f8cc4",
   "metadata": {},
   "outputs": [
    {
     "data": {
      "text/plain": [
       "'day'"
      ]
     },
     "execution_count": 188,
     "metadata": {},
     "output_type": "execute_result"
    }
   ],
   "source": [
    "today[5:8]"
   ]
  },
  {
   "cell_type": "code",
   "execution_count": 189,
   "id": "c2605ea2-bfa4-4acb-a649-614efe1a7f5c",
   "metadata": {},
   "outputs": [
    {
     "data": {
      "text/plain": [
       "True"
      ]
     },
     "execution_count": 189,
     "metadata": {},
     "output_type": "execute_result"
    }
   ],
   "source": [
    "'day' in today"
   ]
  },
  {
   "cell_type": "code",
   "execution_count": 190,
   "id": "cc4c09a0-9500-4bc3-9d09-ca9d643ffd06",
   "metadata": {},
   "outputs": [
    {
     "data": {
      "text/plain": [
       "False"
      ]
     },
     "execution_count": 190,
     "metadata": {},
     "output_type": "execute_result"
    }
   ],
   "source": [
    "'Sun' in today"
   ]
  },
  {
   "cell_type": "markdown",
   "id": "e295e449-ac5c-423b-b8e8-59e75077d6c5",
   "metadata": {},
   "source": [
    "Two or more strings can be joined or *concatenated* using the `+` operator. Be careful while concatenating strings, sometimes you may need to add a space character `\" \"` between words."
   ]
  },
  {
   "cell_type": "code",
   "execution_count": 191,
   "id": "80e24415-53d1-48a3-840d-654c333f7389",
   "metadata": {},
   "outputs": [],
   "source": [
    "full_name = \"derek O 'Brien\""
   ]
  },
  {
   "cell_type": "code",
   "execution_count": 192,
   "id": "0e5e1ebd-f776-4930-9ef6-cce38b951fc9",
   "metadata": {},
   "outputs": [],
   "source": [
    "greeting = \"Hello\""
   ]
  },
  {
   "cell_type": "code",
   "execution_count": 193,
   "id": "386fa44b-e5eb-4df7-abb8-196f3b6d3750",
   "metadata": {},
   "outputs": [
    {
     "data": {
      "text/plain": [
       "\"Helloderek O 'Brien\""
      ]
     },
     "execution_count": 193,
     "metadata": {},
     "output_type": "execute_result"
    }
   ],
   "source": [
    "greeting + full_name\n"
   ]
  },
  {
   "cell_type": "code",
   "execution_count": 194,
   "id": "9ae4ab1c-0162-48e1-9341-155658ac7db6",
   "metadata": {},
   "outputs": [
    {
     "data": {
      "text/plain": [
       "\"Hello derek O 'Brien!\""
      ]
     },
     "execution_count": 194,
     "metadata": {},
     "output_type": "execute_result"
    }
   ],
   "source": [
    "greeting + \" \" + full_name + \"!\" #additional space for a well defined sentence"
   ]
  },
  {
   "cell_type": "markdown",
   "id": "f1e43773-1ebe-4404-be08-a66158924d54",
   "metadata": {},
   "source": [
    "Strings in Python have many built-in *methods* that are used to manipulate them. Let's try out some common string methods.\n",
    "\n",
    "> **Methods**: Methods are functions associated with data types and are accessed using the `.` notation e.g. `variable_name.method()` or `\"a string\".method()`. Methods are a powerful technique for associating common operations with values of specific data types.\n",
    "\n",
    "The `.lower()`, `.upper()` and `.capitalize()` methods are used to change the case of the characters."
   ]
  },
  {
   "cell_type": "code",
   "execution_count": 195,
   "id": "cfa50926-f959-447f-8ab7-77c1069a2a1d",
   "metadata": {},
   "outputs": [
    {
     "data": {
      "text/plain": [
       "'saturday'"
      ]
     },
     "execution_count": 195,
     "metadata": {},
     "output_type": "execute_result"
    }
   ],
   "source": [
    "today.lower()"
   ]
  },
  {
   "cell_type": "code",
   "execution_count": 196,
   "id": "0328ec01-c26c-477c-b5d7-496ed1503947",
   "metadata": {},
   "outputs": [
    {
     "data": {
      "text/plain": [
       "'SATURDAY'"
      ]
     },
     "execution_count": 196,
     "metadata": {},
     "output_type": "execute_result"
    }
   ],
   "source": [
    "today.upper()"
   ]
  },
  {
   "cell_type": "code",
   "execution_count": 197,
   "id": "6214bec7-6b88-42bf-98ee-5367e1bf46e9",
   "metadata": {},
   "outputs": [
    {
     "data": {
      "text/plain": [
       "'Monday'"
      ]
     },
     "execution_count": 197,
     "metadata": {},
     "output_type": "execute_result"
    }
   ],
   "source": [
    "\"monday\" .capitalize() # Changes the first charecter to uppercase"
   ]
  },
  {
   "cell_type": "markdown",
   "id": "4731e308-ca0c-4e65-9c49-6ac002ab434e",
   "metadata": {},
   "source": [
    "The `.replace` method replaces a part of the string with another string. It takes the portion to be replaced and the replacement text as *inputs* or *arguments*."
   ]
  },
  {
   "cell_type": "code",
   "execution_count": 198,
   "id": "5a632167-853a-44ba-abb5-0cb50d5fdaf3",
   "metadata": {},
   "outputs": [],
   "source": [
    "another_day = today.replace(\"Satur\" ,\"Wednes\")"
   ]
  },
  {
   "cell_type": "code",
   "execution_count": 199,
   "id": "c60172ca-003e-4501-b042-cf6b6d33588d",
   "metadata": {},
   "outputs": [
    {
     "data": {
      "text/plain": [
       "'Wednesday'"
      ]
     },
     "execution_count": 199,
     "metadata": {},
     "output_type": "execute_result"
    }
   ],
   "source": [
    "another_day"
   ]
  },
  {
   "cell_type": "markdown",
   "id": "597d37d4-f89c-461f-855d-01b758828aa8",
   "metadata": {},
   "source": [
    "Note that `replace` returns a new string, and the original string is not modified."
   ]
  },
  {
   "cell_type": "markdown",
   "id": "41e3acf8-8fdb-4498-87d1-807b2a5577f4",
   "metadata": {},
   "source": [
    "today"
   ]
  },
  {
   "cell_type": "markdown",
   "id": "1d3e4317-39ad-4760-b019-91b8782b055e",
   "metadata": {},
   "source": [
    "The `.split` method splits a string into a list of strings at every occurrence of provided character(s)."
   ]
  },
  {
   "cell_type": "code",
   "execution_count": 200,
   "id": "98d84017-8a90-4dde-868e-51e711a24863",
   "metadata": {},
   "outputs": [
    {
     "data": {
      "text/plain": [
       "['Sun', 'Mon', 'Tue', 'Wed', 'Thu', 'Fri', 'Sat']"
      ]
     },
     "execution_count": 200,
     "metadata": {},
     "output_type": "execute_result"
    }
   ],
   "source": [
    "\"Sun,Mon,Tue,Wed,Thu,Fri,Sat\".split(\",\")"
   ]
  },
  {
   "cell_type": "markdown",
   "id": "2355a745-ffa0-4c1c-b144-95216ba7de42",
   "metadata": {},
   "source": [
    "The `.strip` method removes whitespace characters from the beginning and end of a string."
   ]
  },
  {
   "cell_type": "code",
   "execution_count": 201,
   "id": "a176d79e-9e5d-468d-891e-6e51e7401ee6",
   "metadata": {},
   "outputs": [],
   "source": [
    "a_long_line = \"                 This is a long line with some space before , after,            and some apace in the middle ..           \"      "
   ]
  },
  {
   "cell_type": "code",
   "execution_count": 202,
   "id": "608fba79-8c54-48f4-9dc6-572ef9fa7d1e",
   "metadata": {},
   "outputs": [],
   "source": [
    "a_long_line_stripped = a_long_line.strip()"
   ]
  },
  {
   "cell_type": "code",
   "execution_count": 203,
   "id": "06249fae-732c-4571-856a-431d1aa37edd",
   "metadata": {},
   "outputs": [
    {
     "data": {
      "text/plain": [
       "'This is a long line with some space before , after,            and some apace in the middle ..'"
      ]
     },
     "execution_count": 203,
     "metadata": {},
     "output_type": "execute_result"
    }
   ],
   "source": [
    "a_long_line_stripped\n"
   ]
  },
  {
   "cell_type": "markdown",
   "id": "af1b0082-c188-4308-bd5d-fb438112694f",
   "metadata": {},
   "source": [
    "The `.format` method combines values of other data types, e.g., integers, floats, booleans, lists, etc. with strings. You can use `format` to construct output messages for display."
   ]
  },
  {
   "cell_type": "code",
   "execution_count": 204,
   "id": "8fcd0268-f935-4ff1-9734-a33b8ea8b491",
   "metadata": {},
   "outputs": [
    {
     "name": "stdout",
     "output_type": "stream",
     "text": [
      "If grocery store sells ice bags at $ {} per bag ,with a profit margin of {}% ,\n",
      "then the total profit it makes by selling {} ice bags is $ {}.\n"
     ]
    }
   ],
   "source": [
    "#Input variables\n",
    "cost_of_ice_bag = 1.25\n",
    "profit_margin = .2\n",
    "number_of_bags = 500\n",
    "\n",
    "#Template for output message\n",
    "output_template = \"\"\"If grocery store sells ice bags at $ {} per bag ,with a profit margin of {}% ,\n",
    "then the total profit it makes by selling {} ice bags is $ {}.\"\"\"\n",
    "\n",
    "print(output_template)"
   ]
  },
  {
   "cell_type": "code",
   "execution_count": 205,
   "id": "0f0db07a-c8e2-4131-bab5-e2f98d890518",
   "metadata": {},
   "outputs": [
    {
     "name": "stdout",
     "output_type": "stream",
     "text": [
      "If grocery store sells ice bags at $ 1.25 per bag ,with a profit margin of 20.0% ,\n",
      "then the total profit it makes by selling 500 ice bags is $ 125.0.\n"
     ]
    }
   ],
   "source": [
    "#Inserting the values into the string\n",
    "total_profit = cost_of_ice_bag * profit_margin * number_of_bags\n",
    "output_message = output_template.format(cost_of_ice_bag, profit_margin*100 ,number_of_bags, total_profit)\n",
    "\n",
    "print(output_message)"
   ]
  },
  {
   "cell_type": "markdown",
   "id": "4b9ca992-a580-407e-84ef-001dd900632f",
   "metadata": {},
   "source": [
    "Notice how the placeholders `{}` in the `output_template` string are replaced with the arguments provided to the `.format` method.\n",
    "\n",
    "It is also possible to use the string concatenation operator `+` to combine strings with other values. However, those values must first be converted to strings using the `str` function."
   ]
  },
  {
   "cell_type": "code",
   "execution_count": 206,
   "id": "8ca1991a-d845-49db-886a-2cd0663b464d",
   "metadata": {},
   "outputs": [
    {
     "ename": "TypeError",
     "evalue": "can only concatenate str (not \"float\") to str",
     "output_type": "error",
     "traceback": [
      "\u001b[31m---------------------------------------------------------------------------\u001b[39m",
      "\u001b[31mTypeError\u001b[39m                                 Traceback (most recent call last)",
      "\u001b[36mCell\u001b[39m\u001b[36m \u001b[39m\u001b[32mIn[206]\u001b[39m\u001b[32m, line 1\u001b[39m\n\u001b[32m----> \u001b[39m\u001b[32m1\u001b[39m \u001b[33;43m\"\u001b[39;49m\u001b[33;43mIf a grocery store sells ice bags at $ \u001b[39;49m\u001b[33;43m\"\u001b[39;49m\u001b[43m+\u001b[49m\u001b[43m \u001b[49m\u001b[43mcost_of_ice_bag\u001b[49m + \u001b[33m\"\u001b[39m\u001b[33m,with a profit margin of \u001b[39m\u001b[33m\"\u001b[39m + profit_margin\n",
      "\u001b[31mTypeError\u001b[39m: can only concatenate str (not \"float\") to str"
     ]
    }
   ],
   "source": [
    "\"If a grocery store sells ice bags at $ \"+ cost_of_ice_bag + \",with a profit margin of \" + profit_margin"
   ]
  },
  {
   "cell_type": "code",
   "execution_count": 207,
   "id": "71848391-f4ac-439b-8bd8-ea591bf555b7",
   "metadata": {},
   "outputs": [
    {
     "data": {
      "text/plain": [
       "'If a grocery store sells ice bags at $ 1.25,with a profit margin of 0.2'"
      ]
     },
     "execution_count": 207,
     "metadata": {},
     "output_type": "execute_result"
    }
   ],
   "source": [
    "#Instead convert the integer or a dloating point number into a string\n",
    "\"If a grocery store sells ice bags at $ \" + str(cost_of_ice_bag) + \",with a profit margin of \" + str(profit_margin)"
   ]
  },
  {
   "cell_type": "markdown",
   "id": "c2a7c16f-8aba-427a-ae21-d628a2043887",
   "metadata": {},
   "source": [
    "You can `str` to convert a value of any data type into a string."
   ]
  },
  {
   "cell_type": "markdown",
   "id": "52393382-492b-4dbb-88d5-c9f56cb48c6b",
   "metadata": {},
   "source": [
    "### List\n",
    "\n",
    "A list in Python is an ordered collection of values. Lists can hold values of different data types and support operations to add, remove, and change values. Lists have the type `list`.\n",
    "\n",
    "To create a list, enclose a sequence of values within square brackets `[` and `]`, separated by commas."
   ]
  },
  {
   "cell_type": "code",
   "execution_count": 208,
   "id": "bb50f069-7546-4152-8a64-4814ef976976",
   "metadata": {},
   "outputs": [],
   "source": [
    "fruits = ['apple' , 'banana' ,'cherry']"
   ]
  },
  {
   "cell_type": "code",
   "execution_count": 209,
   "id": "268c7369-59c5-4f76-b010-41991d64dc8d",
   "metadata": {},
   "outputs": [
    {
     "data": {
      "text/plain": [
       "['apple', 'banana', 'cherry']"
      ]
     },
     "execution_count": 209,
     "metadata": {},
     "output_type": "execute_result"
    }
   ],
   "source": [
    "fruits"
   ]
  },
  {
   "cell_type": "code",
   "execution_count": 210,
   "id": "1e144293-0d96-483e-a6d6-501aeda15900",
   "metadata": {},
   "outputs": [
    {
     "data": {
      "text/plain": [
       "list"
      ]
     },
     "execution_count": 210,
     "metadata": {},
     "output_type": "execute_result"
    }
   ],
   "source": [
    "type(fruits)"
   ]
  },
  {
   "cell_type": "code",
   "execution_count": 211,
   "id": "4d6806b5-1b0f-482f-a1ad-3ad0af4c077f",
   "metadata": {},
   "outputs": [],
   "source": [
    "a_list = [23 , 'hello' ,None , 3.14 ,fruits, 3 <= 5]\n"
   ]
  },
  {
   "cell_type": "code",
   "execution_count": 212,
   "id": "36a753e8-644b-4505-953b-d613222cee32",
   "metadata": {},
   "outputs": [
    {
     "data": {
      "text/plain": [
       "[23, 'hello', None, 3.14, ['apple', 'banana', 'cherry'], True]"
      ]
     },
     "execution_count": 212,
     "metadata": {},
     "output_type": "execute_result"
    }
   ],
   "source": [
    "a_list"
   ]
  },
  {
   "cell_type": "code",
   "execution_count": 213,
   "id": "54a263ff-9508-453b-963c-97d4f7a018c3",
   "metadata": {},
   "outputs": [],
   "source": [
    "empty_list = []"
   ]
  },
  {
   "cell_type": "code",
   "execution_count": 214,
   "id": "321221ef-6ac0-43a5-b14d-68597c9108a3",
   "metadata": {},
   "outputs": [
    {
     "data": {
      "text/plain": [
       "[]"
      ]
     },
     "execution_count": 214,
     "metadata": {},
     "output_type": "execute_result"
    }
   ],
   "source": [
    "empty_list"
   ]
  },
  {
   "cell_type": "markdown",
   "id": "48c01c70-7b94-466e-abd1-3857a3ec777e",
   "metadata": {},
   "source": [
    "To determine the number of values in a list, use the `len` function. You can use `len`  to determine the number of values in several other data types.len(fruits)"
   ]
  },
  {
   "cell_type": "code",
   "execution_count": 216,
   "id": "8d8849cc-12f2-45d9-8547-4a71abed45ad",
   "metadata": {},
   "outputs": [
    {
     "data": {
      "text/plain": [
       "3"
      ]
     },
     "execution_count": 216,
     "metadata": {},
     "output_type": "execute_result"
    }
   ],
   "source": [
    "len(fruits)"
   ]
  },
  {
   "cell_type": "code",
   "execution_count": 217,
   "id": "2120aea3-3d6a-46fb-95a1-50d0289c31be",
   "metadata": {},
   "outputs": [
    {
     "name": "stdout",
     "output_type": "stream",
     "text": [
      "Number of fruits : 3\n"
     ]
    }
   ],
   "source": [
    "print(\"Number of fruits :\" ,len(fruits))"
   ]
  },
  {
   "cell_type": "code",
   "execution_count": 218,
   "id": "d95a6921-f608-4bb0-a3e2-e6860058d9d7",
   "metadata": {},
   "outputs": [
    {
     "data": {
      "text/plain": [
       "6"
      ]
     },
     "execution_count": 218,
     "metadata": {},
     "output_type": "execute_result"
    }
   ],
   "source": [
    "len(a_list)"
   ]
  },
  {
   "cell_type": "code",
   "execution_count": 219,
   "id": "0a70392d-5567-40e6-a668-5964fb4ece74",
   "metadata": {},
   "outputs": [
    {
     "data": {
      "text/plain": [
       "0"
      ]
     },
     "execution_count": 219,
     "metadata": {},
     "output_type": "execute_result"
    }
   ],
   "source": [
    "len(empty_list)"
   ]
  },
  {
   "cell_type": "markdown",
   "id": "e4797fc8-239c-4987-b7df-9d5d25f9b7fa",
   "metadata": {},
   "source": [
    "You can access an element from the list using its *index*, e.g., `fruits[2]` returns the element at index 2 within the list `fruits`. The starting index of a list is 0."
   ]
  },
  {
   "cell_type": "code",
   "execution_count": 220,
   "id": "e9a63632-1ec1-4561-8b20-67c9db314138",
   "metadata": {},
   "outputs": [
    {
     "data": {
      "text/plain": [
       "'apple'"
      ]
     },
     "execution_count": 220,
     "metadata": {},
     "output_type": "execute_result"
    }
   ],
   "source": [
    "fruits[0]"
   ]
  },
  {
   "cell_type": "code",
   "execution_count": 221,
   "id": "564e664a-1537-4235-a28e-6e4e84466d1f",
   "metadata": {},
   "outputs": [
    {
     "data": {
      "text/plain": [
       "'cherry'"
      ]
     },
     "execution_count": 221,
     "metadata": {},
     "output_type": "execute_result"
    }
   ],
   "source": [
    "fruits[2]"
   ]
  },
  {
   "cell_type": "code",
   "execution_count": 222,
   "id": "5275fd3b-6f19-4364-b369-78fa86beaec9",
   "metadata": {},
   "outputs": [
    {
     "ename": "IndexError",
     "evalue": "list index out of range",
     "output_type": "error",
     "traceback": [
      "\u001b[31m---------------------------------------------------------------------------\u001b[39m",
      "\u001b[31mIndexError\u001b[39m                                Traceback (most recent call last)",
      "\u001b[36mCell\u001b[39m\u001b[36m \u001b[39m\u001b[32mIn[222]\u001b[39m\u001b[32m, line 1\u001b[39m\n\u001b[32m----> \u001b[39m\u001b[32m1\u001b[39m \u001b[43mfruits\u001b[49m\u001b[43m[\u001b[49m\u001b[32;43m3\u001b[39;49m\u001b[43m]\u001b[49m\n",
      "\u001b[31mIndexError\u001b[39m: list index out of range"
     ]
    }
   ],
   "source": [
    "fruits[3]"
   ]
  },
  {
   "cell_type": "code",
   "execution_count": 223,
   "id": "6b12c665-d94b-4e41-a101-e736698baa2f",
   "metadata": {},
   "outputs": [
    {
     "ename": "IndexError",
     "evalue": "list index out of range",
     "output_type": "error",
     "traceback": [
      "\u001b[31m---------------------------------------------------------------------------\u001b[39m",
      "\u001b[31mIndexError\u001b[39m                                Traceback (most recent call last)",
      "\u001b[36mCell\u001b[39m\u001b[36m \u001b[39m\u001b[32mIn[223]\u001b[39m\u001b[32m, line 1\u001b[39m\n\u001b[32m----> \u001b[39m\u001b[32m1\u001b[39m \u001b[43mfruits\u001b[49m\u001b[43m[\u001b[49m\u001b[32;43m4\u001b[39;49m\u001b[43m]\u001b[49m\n",
      "\u001b[31mIndexError\u001b[39m: list index out of range"
     ]
    }
   ],
   "source": [
    "fruits[4]"
   ]
  },
  {
   "cell_type": "markdown",
   "id": "76a644a6-fd00-4d02-a87e-697940f48f9c",
   "metadata": {},
   "source": [
    "You can use negative indices to access elements from the end of a list, e.g., `fruits[-1]` returns the last element, `fruits[-2]` returns the second last element, and so on."
   ]
  },
  {
   "cell_type": "code",
   "execution_count": 224,
   "id": "58debf0a-2a78-4919-a43f-afaac9fe0f3a",
   "metadata": {},
   "outputs": [
    {
     "data": {
      "text/plain": [
       "'cherry'"
      ]
     },
     "execution_count": 224,
     "metadata": {},
     "output_type": "execute_result"
    }
   ],
   "source": [
    "fruits[-1]"
   ]
  },
  {
   "cell_type": "code",
   "execution_count": 225,
   "id": "357124af-8614-42e5-b10d-5b170045ac82",
   "metadata": {},
   "outputs": [
    {
     "data": {
      "text/plain": [
       "'banana'"
      ]
     },
     "execution_count": 225,
     "metadata": {},
     "output_type": "execute_result"
    }
   ],
   "source": [
    "fruits[-2]"
   ]
  },
  {
   "cell_type": "code",
   "execution_count": 226,
   "id": "32ae6b7e-2a3e-4838-b372-5a5f4268ea79",
   "metadata": {},
   "outputs": [
    {
     "data": {
      "text/plain": [
       "'apple'"
      ]
     },
     "execution_count": 226,
     "metadata": {},
     "output_type": "execute_result"
    }
   ],
   "source": [
    "fruits[-3]"
   ]
  },
  {
   "cell_type": "code",
   "execution_count": 227,
   "id": "77da1be0-7821-42df-9d0c-4ea86d554c1d",
   "metadata": {},
   "outputs": [
    {
     "ename": "IndexError",
     "evalue": "list index out of range",
     "output_type": "error",
     "traceback": [
      "\u001b[31m---------------------------------------------------------------------------\u001b[39m",
      "\u001b[31mIndexError\u001b[39m                                Traceback (most recent call last)",
      "\u001b[36mCell\u001b[39m\u001b[36m \u001b[39m\u001b[32mIn[227]\u001b[39m\u001b[32m, line 1\u001b[39m\n\u001b[32m----> \u001b[39m\u001b[32m1\u001b[39m \u001b[43mfruits\u001b[49m\u001b[43m[\u001b[49m\u001b[43m-\u001b[49m\u001b[32;43m4\u001b[39;49m\u001b[43m]\u001b[49m\n",
      "\u001b[31mIndexError\u001b[39m: list index out of range"
     ]
    }
   ],
   "source": [
    "fruits[-4]"
   ]
  },
  {
   "cell_type": "markdown",
   "id": "52056f25-7f99-4003-a95a-77bb8265c929",
   "metadata": {},
   "source": [
    "You can also access a range of values from the list. The result is itself a list. Let us look at some examples."
   ]
  },
  {
   "cell_type": "code",
   "execution_count": 228,
   "id": "4153b77f-a0e7-4287-8cc1-6400ac2026a4",
   "metadata": {},
   "outputs": [],
   "source": [
    "a_list=[23,'hello',None,3.14,fruits ,3<=5]"
   ]
  },
  {
   "cell_type": "code",
   "execution_count": 229,
   "id": "ddebd951-81a8-4476-a9f7-b7de798501a3",
   "metadata": {},
   "outputs": [
    {
     "data": {
      "text/plain": [
       "[23, 'hello', None, 3.14, ['apple', 'banana', 'cherry'], True]"
      ]
     },
     "execution_count": 229,
     "metadata": {},
     "output_type": "execute_result"
    }
   ],
   "source": [
    "a_list"
   ]
  },
  {
   "cell_type": "code",
   "execution_count": 230,
   "id": "98f8a05e-3448-4740-a676-0ad32e2e18cc",
   "metadata": {},
   "outputs": [
    {
     "data": {
      "text/plain": [
       "6"
      ]
     },
     "execution_count": 230,
     "metadata": {},
     "output_type": "execute_result"
    }
   ],
   "source": [
    "len(a_list)"
   ]
  },
  {
   "cell_type": "code",
   "execution_count": 231,
   "id": "6d46b503-635a-4e89-b2a2-536ce5cc2658",
   "metadata": {},
   "outputs": [
    {
     "data": {
      "text/plain": [
       "[None, 3.14, ['apple', 'banana', 'cherry']]"
      ]
     },
     "execution_count": 231,
     "metadata": {},
     "output_type": "execute_result"
    }
   ],
   "source": [
    "a_list[2:5]"
   ]
  },
  {
   "cell_type": "markdown",
   "id": "720f0dfa-a54e-4bf3-9fc3-92b1a886bd17",
   "metadata": {},
   "source": [
    "Note that the range `2:5` includes the element at the start index `2` but does not include the element at the end index `5`. So, the result has 3 values (index `2`, `3`, and `4`).\n",
    "\n",
    "Here are some experiments you should try out (use the empty cells below):\n",
    "\n",
    "* Try setting one or both indices of the range are larger than the size of the list, e.g., `a_list[2:10]`\n",
    "* Try setting the start index of the range to be larger than the end index, e.g., `list_a[2:10]`\n",
    "* Try leaving out the start or end index of a range, e.g., `a_list[2:]` or `a_list[:5]`\n",
    "* Try using negative indices for the range, e.g., `a_list[-2:-5]` or `a_list[-5:-2]` (can you explain the results?)\n",
    "\n",
    "> The flexible and interactive nature of Jupyter notebooks makes them an excellent tool for learning and experimentation. If you are new to Python, you can resolve most questions as soon as they arise simply by typing the code into a cell and executing it. Let your curiosity run wild, discover what Python is capable of and what it isn't! "
   ]
  },
  {
   "cell_type": "code",
   "execution_count": null,
   "id": "5dbeb8f7-20e4-4d7b-9cd8-547e49f7c12b",
   "metadata": {},
   "outputs": [],
   "source": []
  },
  {
   "cell_type": "code",
   "execution_count": null,
   "id": "eb43872a-5c09-44ef-97d2-9e5f79934e2e",
   "metadata": {},
   "outputs": [],
   "source": []
  },
  {
   "cell_type": "code",
   "execution_count": null,
   "id": "1659624b-091b-468f-a91b-46cdb567831d",
   "metadata": {},
   "outputs": [],
   "source": []
  },
  {
   "cell_type": "code",
   "execution_count": 232,
   "id": "204f0544-fd4f-4f67-8a99-a19ade6c0d9e",
   "metadata": {},
   "outputs": [
    {
     "data": {
      "text/plain": [
       "['apple', 'banana', 'cherry']"
      ]
     },
     "execution_count": 232,
     "metadata": {},
     "output_type": "execute_result"
    }
   ],
   "source": [
    "fruits"
   ]
  },
  {
   "cell_type": "code",
   "execution_count": 233,
   "id": "2dafc212-a8aa-4252-b6b7-835fe1be1d9c",
   "metadata": {},
   "outputs": [],
   "source": [
    "fruits[1]='strawberry'"
   ]
  },
  {
   "cell_type": "code",
   "execution_count": 234,
   "id": "fa3f31b4-1598-4cab-8b02-b7478f5f7cec",
   "metadata": {},
   "outputs": [
    {
     "data": {
      "text/plain": [
       "['apple', 'strawberry', 'cherry']"
      ]
     },
     "execution_count": 234,
     "metadata": {},
     "output_type": "execute_result"
    }
   ],
   "source": [
    "fruits"
   ]
  },
  {
   "cell_type": "code",
   "execution_count": 235,
   "id": "1775e822-50a2-4949-8189-c3f520220974",
   "metadata": {},
   "outputs": [],
   "source": [
    "fruits.append('dates')"
   ]
  },
  {
   "cell_type": "code",
   "execution_count": 236,
   "id": "9e05a321-159a-425b-98a8-ccf62472fb11",
   "metadata": {},
   "outputs": [
    {
     "data": {
      "text/plain": [
       "['apple', 'strawberry', 'cherry', 'dates']"
      ]
     },
     "execution_count": 236,
     "metadata": {},
     "output_type": "execute_result"
    }
   ],
   "source": [
    "fruits"
   ]
  },
  {
   "cell_type": "code",
   "execution_count": 237,
   "id": "1742e820-20b0-43f3-bd2f-98f13e646903",
   "metadata": {},
   "outputs": [],
   "source": [
    "fruits.insert(1,'banana')"
   ]
  },
  {
   "cell_type": "code",
   "execution_count": 238,
   "id": "030035fd-9f84-4af4-afa5-5c3690206924",
   "metadata": {},
   "outputs": [
    {
     "data": {
      "text/plain": [
       "['apple', 'banana', 'strawberry', 'cherry', 'dates']"
      ]
     },
     "execution_count": 238,
     "metadata": {},
     "output_type": "execute_result"
    }
   ],
   "source": [
    "fruits"
   ]
  },
  {
   "cell_type": "code",
   "execution_count": 240,
   "id": "b35e76d2-83ca-4f14-aba4-970cbab62dcf",
   "metadata": {},
   "outputs": [],
   "source": [
    "fruits.insert(0,'Mango')"
   ]
  },
  {
   "cell_type": "code",
   "execution_count": 241,
   "id": "a59e0a4f-ee36-4f90-9ea9-1df7564220cb",
   "metadata": {},
   "outputs": [
    {
     "data": {
      "text/plain": [
       "['Mango', 'apple', 'banana', 'strawberry', 'cherry', 'dates']"
      ]
     },
     "execution_count": 241,
     "metadata": {},
     "output_type": "execute_result"
    }
   ],
   "source": [
    "fruits"
   ]
  },
  {
   "cell_type": "markdown",
   "id": "b0ec32e3-05a8-491f-9d64-e1fc0037f518",
   "metadata": {},
   "source": [
    "You can remove a value from a list using the `remove` method."
   ]
  },
  {
   "cell_type": "code",
   "execution_count": 243,
   "id": "104ed471-665a-4c0c-85e2-505a0346f614",
   "metadata": {},
   "outputs": [],
   "source": [
    "fruits.remove('Mango')"
   ]
  },
  {
   "cell_type": "code",
   "execution_count": 244,
   "id": "ba1c2b65-5014-46be-898e-0b7759467db7",
   "metadata": {},
   "outputs": [
    {
     "data": {
      "text/plain": [
       "['apple', 'banana', 'strawberry', 'cherry', 'dates']"
      ]
     },
     "execution_count": 244,
     "metadata": {},
     "output_type": "execute_result"
    }
   ],
   "source": [
    "fruits"
   ]
  },
  {
   "cell_type": "code",
   "execution_count": 247,
   "id": "123eeee7-e47a-4518-ba8b-d0bc25a4862d",
   "metadata": {},
   "outputs": [],
   "source": [
    "fruits.remove('cherry')"
   ]
  },
  {
   "cell_type": "code",
   "execution_count": 248,
   "id": "1110e751-7be5-4ba7-b807-812f3cb017bb",
   "metadata": {},
   "outputs": [
    {
     "data": {
      "text/plain": [
       "['apple', 'banana', 'strawberry', 'dates']"
      ]
     },
     "execution_count": 248,
     "metadata": {},
     "output_type": "execute_result"
    }
   ],
   "source": [
    "fruits"
   ]
  },
  {
   "cell_type": "code",
   "execution_count": 249,
   "id": "8526759a-06fe-4ff9-9d1e-8def482edad0",
   "metadata": {},
   "outputs": [
    {
     "data": {
      "text/plain": [
       "'dates'"
      ]
     },
     "execution_count": 249,
     "metadata": {},
     "output_type": "execute_result"
    }
   ],
   "source": [
    "fruits.pop(3)"
   ]
  },
  {
   "cell_type": "code",
   "execution_count": 250,
   "id": "515aede2-6216-4950-a6e6-e50b221e001a",
   "metadata": {},
   "outputs": [
    {
     "data": {
      "text/plain": [
       "['apple', 'banana', 'strawberry']"
      ]
     },
     "execution_count": 250,
     "metadata": {},
     "output_type": "execute_result"
    }
   ],
   "source": [
    "fruits"
   ]
  },
  {
   "cell_type": "code",
   "execution_count": 252,
   "id": "61b38091-27ff-4854-aa59-f8178b66d444",
   "metadata": {},
   "outputs": [
    {
     "data": {
      "text/plain": [
       "'strawberry'"
      ]
     },
     "execution_count": 252,
     "metadata": {},
     "output_type": "execute_result"
    }
   ],
   "source": [
    "fruits.pop()"
   ]
  },
  {
   "cell_type": "raw",
   "id": "2199deea-35b5-402b-9561-c9cfc34ee8a6",
   "metadata": {},
   "source": [
    "fruits.pop()"
   ]
  },
  {
   "cell_type": "code",
   "execution_count": 253,
   "id": "a53fa73e-1155-400d-b361-7b43df234da4",
   "metadata": {},
   "outputs": [
    {
     "data": {
      "text/plain": [
       "['apple', 'banana']"
      ]
     },
     "execution_count": 253,
     "metadata": {},
     "output_type": "execute_result"
    }
   ],
   "source": [
    "fruits"
   ]
  },
  {
   "cell_type": "code",
   "execution_count": 254,
   "id": "d818b1b8-f8ab-4efa-a295-1e4804f43239",
   "metadata": {},
   "outputs": [],
   "source": [
    "fruits.append('Pineapple')"
   ]
  },
  {
   "cell_type": "code",
   "execution_count": 255,
   "id": "43f827ea-e7a4-4418-b4a7-4f11d9554eed",
   "metadata": {},
   "outputs": [],
   "source": [
    "fruits.insert(3,'Custard apple')"
   ]
  },
  {
   "cell_type": "code",
   "execution_count": 256,
   "id": "8c8f153a-7877-4bf2-8d1f-3c99ece929d4",
   "metadata": {},
   "outputs": [
    {
     "data": {
      "text/plain": [
       "['apple', 'banana', 'Pineapple', 'Custard apple']"
      ]
     },
     "execution_count": 256,
     "metadata": {},
     "output_type": "execute_result"
    }
   ],
   "source": [
    "fruits"
   ]
  },
  {
   "cell_type": "markdown",
   "id": "20c40422-aeb5-4bba-a5c5-84ca72139c00",
   "metadata": {},
   "source": [
    "You can test whether a list contains a value using the `in` operator."
   ]
  },
  {
   "cell_type": "code",
   "execution_count": 258,
   "id": "d600aa9d-132a-4967-96e9-e2f6b98f57c9",
   "metadata": {},
   "outputs": [
    {
     "data": {
      "text/plain": [
       "True"
      ]
     },
     "execution_count": 258,
     "metadata": {},
     "output_type": "execute_result"
    }
   ],
   "source": [
    "'Pineapple' in fruits"
   ]
  },
  {
   "cell_type": "code",
   "execution_count": 259,
   "id": "696e8c71-3ced-40bc-90c7-8631254ee0d5",
   "metadata": {},
   "outputs": [
    {
     "data": {
      "text/plain": [
       "False"
      ]
     },
     "execution_count": 259,
     "metadata": {},
     "output_type": "execute_result"
    }
   ],
   "source": [
    "'Mango' in fruits"
   ]
  },
  {
   "cell_type": "markdown",
   "id": "e610169a-f1de-45b8-9ae3-9ec34b8c3133",
   "metadata": {},
   "source": [
    "To combine two or more lists, use the `+` operator. This operation is also called *concatenation*."
   ]
  },
  {
   "cell_type": "code",
   "execution_count": 260,
   "id": "978e254a-e6c0-442f-bf56-a576f237042a",
   "metadata": {},
   "outputs": [
    {
     "data": {
      "text/plain": [
       "['apple', 'banana', 'Pineapple', 'Custard apple']"
      ]
     },
     "execution_count": 260,
     "metadata": {},
     "output_type": "execute_result"
    }
   ],
   "source": [
    "fruits"
   ]
  },
  {
   "cell_type": "code",
   "execution_count": 261,
   "id": "d785d76c-2eb3-46a3-afc9-26c489f22a16",
   "metadata": {},
   "outputs": [],
   "source": [
    "more_fruits = fruits + ['Mango' , 'Tomato' ,'guava'] + ['Watermelon', 'Papaya']"
   ]
  },
  {
   "cell_type": "code",
   "execution_count": 262,
   "id": "9a129dcd-6272-4a84-ba95-dc02b104260c",
   "metadata": {},
   "outputs": [
    {
     "data": {
      "text/plain": [
       "['apple',\n",
       " 'banana',\n",
       " 'Pineapple',\n",
       " 'Custard apple',\n",
       " 'Mango',\n",
       " 'Tomato',\n",
       " 'guava',\n",
       " 'Watermelon',\n",
       " 'Papaya']"
      ]
     },
     "execution_count": 262,
     "metadata": {},
     "output_type": "execute_result"
    }
   ],
   "source": [
    "more_fruits"
   ]
  },
  {
   "cell_type": "code",
   "execution_count": 271,
   "id": "22fd72ad-adc2-4569-b2fd-125299c4b6e8",
   "metadata": {},
   "outputs": [],
   "source": [
    "more_fruits_copy = more_fruits.copy()"
   ]
  },
  {
   "cell_type": "code",
   "execution_count": 272,
   "id": "b3f675c0-16f6-4d6f-9ce0-82b62adf0a05",
   "metadata": {},
   "outputs": [
    {
     "data": {
      "text/plain": [
       "['apple',\n",
       " 'banana',\n",
       " 'Pineapple',\n",
       " 'Custard apple',\n",
       " 'Mango',\n",
       " 'Tomato',\n",
       " 'guava',\n",
       " 'Watermelon',\n",
       " 'Papaya']"
      ]
     },
     "execution_count": 272,
     "metadata": {},
     "output_type": "execute_result"
    }
   ],
   "source": [
    "more_fruits_copy"
   ]
  },
  {
   "cell_type": "code",
   "execution_count": 273,
   "id": "1b75c1a6-0e4a-4bf3-b00c-d953d49a2af2",
   "metadata": {},
   "outputs": [
    {
     "data": {
      "text/plain": [
       "['apple', 'banana', 'Custard apple', 'Mango', 'Tomato', 'guava', 'Watermelon']"
      ]
     },
     "execution_count": 273,
     "metadata": {},
     "output_type": "execute_result"
    }
   ],
   "source": [
    "#We can also modify the copy and the original list remains unchanged\n",
    "\n",
    "more_fruits_copy.remove('Pineapple')   #This removes pineapple from the list\n",
    "more_fruits_copy.pop()                 #This removes Papaya from the list\n",
    "more_fruits_copy"
   ]
  },
  {
   "cell_type": "code",
   "execution_count": 274,
   "id": "2f0e56f1-e1eb-43c5-8b09-3208d0eed5fc",
   "metadata": {},
   "outputs": [
    {
     "data": {
      "text/plain": [
       "['apple',\n",
       " 'banana',\n",
       " 'Pineapple',\n",
       " 'Custard apple',\n",
       " 'Mango',\n",
       " 'Tomato',\n",
       " 'guava',\n",
       " 'Watermelon',\n",
       " 'Papaya']"
      ]
     },
     "execution_count": 274,
     "metadata": {},
     "output_type": "execute_result"
    }
   ],
   "source": [
    "#Original more_fruits list remains unchanged\n",
    "\n",
    "more_fruits"
   ]
  },
  {
   "cell_type": "code",
   "execution_count": null,
   "id": "bbc4f589-c948-436e-8833-6d0e4a95dc2e",
   "metadata": {},
   "outputs": [],
   "source": []
  },
  {
   "cell_type": "code",
   "execution_count": null,
   "id": "d8f2c6bf-4565-44de-ae45-64e2c6bd3321",
   "metadata": {},
   "outputs": [],
   "source": []
  },
  {
   "cell_type": "code",
   "execution_count": null,
   "id": "0e43a2a1-d87a-4e63-b59c-dd4e5f8dfad3",
   "metadata": {},
   "outputs": [],
   "source": []
  },
  {
   "cell_type": "code",
   "execution_count": null,
   "id": "12d550a3-a76d-4a28-bb7e-182ed6f5ada0",
   "metadata": {},
   "outputs": [],
   "source": []
  },
  {
   "cell_type": "markdown",
   "id": "165f756e-a7d5-4bac-bfe8-43f9c9054798",
   "metadata": {},
   "source": [
    "### Tuple\n",
    "\n",
    "A tuple is an ordered collection of values, similar to a list. However, it is not possible to add, remove, or modify values in a tuple. A tuple is created by enclosing values within parentheses `(` and `)`, separated by commas.\n",
    "\n",
    "> Any data structure that cannot be modified after creation is called *immutable*. You can think of tuples as immutable lists.\n",
    "\n",
    "Let's try some experiments with tuples."
   ]
  },
  {
   "cell_type": "code",
   "execution_count": 275,
   "id": "3066147e-19cf-49d2-ae44-d684578c1a60",
   "metadata": {},
   "outputs": [],
   "source": [
    "fruits = ('apple' ,'cherry' ,'dates')"
   ]
  },
  {
   "cell_type": "code",
   "execution_count": 276,
   "id": "d23debe8-2298-4097-a924-0198469acc4b",
   "metadata": {},
   "outputs": [
    {
     "data": {
      "text/plain": [
       "3"
      ]
     },
     "execution_count": 276,
     "metadata": {},
     "output_type": "execute_result"
    }
   ],
   "source": [
    "#check no. of elements\n",
    "len(fruits)"
   ]
  },
  {
   "cell_type": "code",
   "execution_count": 277,
   "id": "af619e0e-59d8-4e39-9647-0617133f8d67",
   "metadata": {},
   "outputs": [
    {
     "data": {
      "text/plain": [
       "'apple'"
      ]
     },
     "execution_count": 277,
     "metadata": {},
     "output_type": "execute_result"
    }
   ],
   "source": [
    "#get an element positive index\n",
    "fruits[0]"
   ]
  },
  {
   "cell_type": "code",
   "execution_count": 278,
   "id": "cb45c53f-1ee8-43af-85fd-abe6a80920cf",
   "metadata": {},
   "outputs": [
    {
     "data": {
      "text/plain": [
       "'cherry'"
      ]
     },
     "execution_count": 278,
     "metadata": {},
     "output_type": "execute_result"
    }
   ],
   "source": [
    "#get an element negative index\n",
    "fruits[-2]"
   ]
  },
  {
   "cell_type": "code",
   "execution_count": 279,
   "id": "a799ee9d-a45c-45b4-a477-2fe4aef4e54c",
   "metadata": {},
   "outputs": [
    {
     "data": {
      "text/plain": [
       "True"
      ]
     },
     "execution_count": 279,
     "metadata": {},
     "output_type": "execute_result"
    }
   ],
   "source": [
    "#check if a tuple contains a following element\n",
    "'dates' in fruits"
   ]
  },
  {
   "cell_type": "code",
   "execution_count": 280,
   "id": "f43a8c49-0938-42e2-8560-a152efad6d05",
   "metadata": {},
   "outputs": [
    {
     "ename": "TypeError",
     "evalue": "'tuple' object does not support item assignment",
     "output_type": "error",
     "traceback": [
      "\u001b[31m---------------------------------------------------------------------------\u001b[39m",
      "\u001b[31mTypeError\u001b[39m                                 Traceback (most recent call last)",
      "\u001b[36mCell\u001b[39m\u001b[36m \u001b[39m\u001b[32mIn[280]\u001b[39m\u001b[32m, line 2\u001b[39m\n\u001b[32m      1\u001b[39m \u001b[38;5;66;03m#try to change an element\u001b[39;00m\n\u001b[32m----> \u001b[39m\u001b[32m2\u001b[39m \u001b[43mfruits\u001b[49m\u001b[43m[\u001b[49m\u001b[32;43m0\u001b[39;49m\u001b[43m]\u001b[49m=\u001b[33m'\u001b[39m\u001b[33mAvacado\u001b[39m\u001b[33m'\u001b[39m\n",
      "\u001b[31mTypeError\u001b[39m: 'tuple' object does not support item assignment"
     ]
    }
   ],
   "source": [
    "#try to change an element\n",
    "fruits[0]='Avacado'"
   ]
  },
  {
   "cell_type": "code",
   "execution_count": 281,
   "id": "c0a07648-2edd-4ffd-beda-90d2acfd3f75",
   "metadata": {},
   "outputs": [
    {
     "ename": "AttributeError",
     "evalue": "'tuple' object has no attribute 'append'",
     "output_type": "error",
     "traceback": [
      "\u001b[31m---------------------------------------------------------------------------\u001b[39m",
      "\u001b[31mAttributeError\u001b[39m                            Traceback (most recent call last)",
      "\u001b[36mCell\u001b[39m\u001b[36m \u001b[39m\u001b[32mIn[281]\u001b[39m\u001b[32m, line 2\u001b[39m\n\u001b[32m      1\u001b[39m \u001b[38;5;66;03m#try to append an element \u001b[39;00m\n\u001b[32m----> \u001b[39m\u001b[32m2\u001b[39m \u001b[43mfruits\u001b[49m\u001b[43m.\u001b[49m\u001b[43mappend\u001b[49m(\u001b[33m'\u001b[39m\u001b[33mStrawberry\u001b[39m\u001b[33m'\u001b[39m)\n",
      "\u001b[31mAttributeError\u001b[39m: 'tuple' object has no attribute 'append'"
     ]
    }
   ],
   "source": [
    "#try to append an element \n",
    "fruits.append('Strawberry')"
   ]
  },
  {
   "cell_type": "code",
   "execution_count": 285,
   "id": "5d65fd3b-1b63-4bd4-bf2e-af78e2132794",
   "metadata": {},
   "outputs": [
    {
     "ename": "AttributeError",
     "evalue": "'tuple' object has no attribute 'remove'",
     "output_type": "error",
     "traceback": [
      "\u001b[31m---------------------------------------------------------------------------\u001b[39m",
      "\u001b[31mAttributeError\u001b[39m                            Traceback (most recent call last)",
      "\u001b[36mCell\u001b[39m\u001b[36m \u001b[39m\u001b[32mIn[285]\u001b[39m\u001b[32m, line 2\u001b[39m\n\u001b[32m      1\u001b[39m \u001b[38;5;66;03m#try to remove an element from a tuple\u001b[39;00m\n\u001b[32m----> \u001b[39m\u001b[32m2\u001b[39m \u001b[43mfruits\u001b[49m\u001b[43m.\u001b[49m\u001b[43mremove\u001b[49m(\u001b[33m'\u001b[39m\u001b[33mdates\u001b[39m\u001b[33m'\u001b[39m)\n",
      "\u001b[31mAttributeError\u001b[39m: 'tuple' object has no attribute 'remove'"
     ]
    }
   ],
   "source": [
    "#try to remove an element from a tuple\n",
    "fruits.remove('dates')"
   ]
  },
  {
   "cell_type": "markdown",
   "id": "2cd62f25-fb6f-4ee6-a932-36003c42631d",
   "metadata": {},
   "source": [
    "You can also skip the parantheses `(` and `)` while creating a tuple. Python automatically converts comma-separated values into a tuple."
   ]
  },
  {
   "cell_type": "code",
   "execution_count": 286,
   "id": "d44fd295-a2f7-4573-bea5-6c47e9fe6ff2",
   "metadata": {},
   "outputs": [],
   "source": [
    "the_3_muskteers = 'Athos' ,'Porthos' ,'Aramis'"
   ]
  },
  {
   "cell_type": "code",
   "execution_count": 287,
   "id": "d54d736a-4960-4703-bb4e-8e707798eb23",
   "metadata": {},
   "outputs": [
    {
     "data": {
      "text/plain": [
       "('Athos', 'Porthos', 'Aramis')"
      ]
     },
     "execution_count": 287,
     "metadata": {},
     "output_type": "execute_result"
    }
   ],
   "source": [
    "the_3_muskteers"
   ]
  },
  {
   "cell_type": "markdown",
   "id": "b4e6c541-e803-4eb2-b46d-2336acb5559e",
   "metadata": {},
   "source": [
    "You can also create a tuple with just one element by typing a comma after it. Just wrapping it with parentheses `(` and `)` won't make it a tuple."
   ]
  },
  {
   "cell_type": "code",
   "execution_count": 294,
   "id": "34a81b27-0272-44e5-beee-ec73a14d0ec8",
   "metadata": {},
   "outputs": [],
   "source": [
    "single_element_tuple = 4,"
   ]
  },
  {
   "cell_type": "code",
   "execution_count": 299,
   "id": "30683560-3602-4118-8b45-8005de324064",
   "metadata": {},
   "outputs": [
    {
     "data": {
      "text/plain": [
       "(4,)"
      ]
     },
     "execution_count": 299,
     "metadata": {},
     "output_type": "execute_result"
    }
   ],
   "source": [
    "single_element_tuple"
   ]
  },
  {
   "cell_type": "code",
   "execution_count": 300,
   "id": "564064be-3e86-481b-8548-49c63a7b00df",
   "metadata": {},
   "outputs": [],
   "source": [
    "another_single_element_tuple = (4,)"
   ]
  },
  {
   "cell_type": "code",
   "execution_count": 301,
   "id": "2709ac7b-e323-42ff-bfcd-11eb224ce6d4",
   "metadata": {},
   "outputs": [
    {
     "data": {
      "text/plain": [
       "(4,)"
      ]
     },
     "execution_count": 301,
     "metadata": {},
     "output_type": "execute_result"
    }
   ],
   "source": [
    "another_single_element_tuple"
   ]
  },
  {
   "cell_type": "code",
   "execution_count": 302,
   "id": "8ca7db14-5a72-45bc-ba12-1ab87f37bb59",
   "metadata": {},
   "outputs": [],
   "source": [
    "not_a_tuple =(4)"
   ]
  },
  {
   "cell_type": "code",
   "execution_count": 303,
   "id": "dbc72b51-c4e9-45b5-b23a-f721caf55c63",
   "metadata": {},
   "outputs": [
    {
     "data": {
      "text/plain": [
       "4"
      ]
     },
     "execution_count": 303,
     "metadata": {},
     "output_type": "execute_result"
    }
   ],
   "source": [
    "not_a_tuple"
   ]
  },
  {
   "cell_type": "code",
   "execution_count": null,
   "id": "2543b2f9-e070-4902-af39-a5fa41051b32",
   "metadata": {},
   "outputs": [],
   "source": []
  }
 ],
 "metadata": {
  "kernelspec": {
   "display_name": "Python 3 (ipykernel)",
   "language": "python",
   "name": "python3"
  },
  "language_info": {
   "codemirror_mode": {
    "name": "ipython",
    "version": 3
   },
   "file_extension": ".py",
   "mimetype": "text/x-python",
   "name": "python",
   "nbconvert_exporter": "python",
   "pygments_lexer": "ipython3",
   "version": "3.12.8"
  }
 },
 "nbformat": 4,
 "nbformat_minor": 5
}
