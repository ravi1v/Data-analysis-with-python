{
 "cells": [
  {
   "cell_type": "code",
   "execution_count": 22,
   "id": "2ed7f208-64c2-4a84-9ce3-49512b2fb67b",
   "metadata": {},
   "outputs": [],
   "source": [
    "#Chapter 2--Variables and datatypes"
   ]
  },
  {
   "cell_type": "code",
   "execution_count": 23,
   "id": "66c733f9-85d8-4963-a3b2-3377e58d4709",
   "metadata": {},
   "outputs": [],
   "source": [
    "my_favorite_color=\"blue\""
   ]
  },
  {
   "cell_type": "code",
   "execution_count": 24,
   "id": "d59ce6a5-d595-4247-a495-f9925fefcc96",
   "metadata": {},
   "outputs": [
    {
     "data": {
      "text/plain": [
       "'blue'"
      ]
     },
     "execution_count": 24,
     "metadata": {},
     "output_type": "execute_result"
    }
   ],
   "source": [
    "my_favorite_color"
   ]
  },
  {
   "cell_type": "markdown",
   "id": "52a458c9-aed0-4b76-a8b2-108ab1269102",
   "metadata": {},
   "source": [
    "###\n",
    "A variable is created using an assignment statement. It begins with the variable's name, followed by the assignment operator = followed by the value to be stored within the variable. Note that the assignment operator = is different from the equality comparison operator ==.\n",
    "\n",
    "You can also assign values to multiple variables in a single statement by separating the variable names and values with commas."
   ]
  },
  {
   "cell_type": "code",
   "execution_count": 25,
   "id": "d3894295-a3c1-4604-947d-82b341b9d3b0",
   "metadata": {},
   "outputs": [],
   "source": [
    "color1,color2,color3=\"red\",\"green\",\"blue\""
   ]
  },
  {
   "cell_type": "code",
   "execution_count": 26,
   "id": "d98b3a2b-372a-49bc-a874-7b4987454c54",
   "metadata": {},
   "outputs": [
    {
     "data": {
      "text/plain": [
       "'red'"
      ]
     },
     "execution_count": 26,
     "metadata": {},
     "output_type": "execute_result"
    }
   ],
   "source": [
    "color1"
   ]
  },
  {
   "cell_type": "code",
   "execution_count": 27,
   "id": "448e7b43-44c0-43b4-a3c5-4641ecf6bd0a",
   "metadata": {},
   "outputs": [
    {
     "data": {
      "text/plain": [
       "'green'"
      ]
     },
     "execution_count": 27,
     "metadata": {},
     "output_type": "execute_result"
    }
   ],
   "source": [
    "color2"
   ]
  },
  {
   "cell_type": "code",
   "execution_count": 28,
   "id": "4315680d-6a57-4cf3-aaa6-0aa0a6de8a58",
   "metadata": {},
   "outputs": [
    {
     "data": {
      "text/plain": [
       "'blue'"
      ]
     },
     "execution_count": 28,
     "metadata": {},
     "output_type": "execute_result"
    }
   ],
   "source": [
    "color3"
   ]
  },
  {
   "cell_type": "markdown",
   "id": "3fd6d3b4-e2cc-428e-a402-824e131f2151",
   "metadata": {},
   "source": [
    "You can assign the same value to multiple variables by chaining multiple assignment operations within a single statement."
   ]
  },
  {
   "cell_type": "code",
   "execution_count": 29,
   "id": "53d5b99b-6420-42c8-8dc7-29a48991295f",
   "metadata": {},
   "outputs": [],
   "source": [
    "color4=color5=color6=\"Magenta\""
   ]
  },
  {
   "cell_type": "code",
   "execution_count": 30,
   "id": "1ea55bd9-7e83-4e33-b408-8e03622c175b",
   "metadata": {},
   "outputs": [
    {
     "data": {
      "text/plain": [
       "'Magenta'"
      ]
     },
     "execution_count": 30,
     "metadata": {},
     "output_type": "execute_result"
    }
   ],
   "source": [
    "color4"
   ]
  },
  {
   "cell_type": "code",
   "execution_count": 31,
   "id": "b68b6164-2ad8-477c-b5be-91846da1c405",
   "metadata": {},
   "outputs": [
    {
     "data": {
      "text/plain": [
       "'Magenta'"
      ]
     },
     "execution_count": 31,
     "metadata": {},
     "output_type": "execute_result"
    }
   ],
   "source": [
    "color5"
   ]
  },
  {
   "cell_type": "code",
   "execution_count": 32,
   "id": "eb9c0bf5-68ef-4069-ae3d-e797108d31d5",
   "metadata": {},
   "outputs": [
    {
     "data": {
      "text/plain": [
       "'Magenta'"
      ]
     },
     "execution_count": 32,
     "metadata": {},
     "output_type": "execute_result"
    }
   ],
   "source": [
    "color6"
   ]
  },
  {
   "cell_type": "markdown",
   "id": "f9b3d047-da02-4459-9be4-853061f39e00",
   "metadata": {},
   "source": [
    "You can change the value stored within a variable by assigning a new value to it using another assignment statement. Be careful while reassigning variables: when you assign a new value to the variable, the old value is lost and no longer accessible."
   ]
  },
  {
   "cell_type": "code",
   "execution_count": 33,
   "id": "b8643e28-63a6-42d8-bed2-e55b6428a62c",
   "metadata": {},
   "outputs": [],
   "source": [
    "my_favorite_color=\"red\""
   ]
  },
  {
   "cell_type": "code",
   "execution_count": 34,
   "id": "48fc8f3d-75a6-4e60-8cb3-f0357aaaf9de",
   "metadata": {},
   "outputs": [
    {
     "data": {
      "text/plain": [
       "'red'"
      ]
     },
     "execution_count": 34,
     "metadata": {},
     "output_type": "execute_result"
    }
   ],
   "source": [
    "my_favorite_color"
   ]
  },
  {
   "cell_type": "markdown",
   "id": "f11693a7-9fbc-4836-b7f6-f2e2021d6778",
   "metadata": {},
   "source": [
    "While reassigning a variable, you can also use the variable's previous value to compute the new value."
   ]
  },
  {
   "cell_type": "code",
   "execution_count": 35,
   "id": "5fbdc9a6-e084-4b70-bcce-a5077275eb0e",
   "metadata": {},
   "outputs": [],
   "source": [
    "counter=10"
   ]
  },
  {
   "cell_type": "code",
   "execution_count": 36,
   "id": "3d8663c1-b256-40b3-8a5d-3b4c082ff9e2",
   "metadata": {},
   "outputs": [],
   "source": [
    "counter=counter+1"
   ]
  },
  {
   "cell_type": "code",
   "execution_count": 37,
   "id": "71b34d8a-5361-4800-b214-ba726ba9d99b",
   "metadata": {},
   "outputs": [
    {
     "data": {
      "text/plain": [
       "11"
      ]
     },
     "execution_count": 37,
     "metadata": {},
     "output_type": "execute_result"
    }
   ],
   "source": [
    "counter"
   ]
  },
  {
   "cell_type": "markdown",
   "id": "a1a85b00-f97a-4bf6-a304-94daefb87a09",
   "metadata": {},
   "source": [
    "The pattern `var = var op something` (where `op` is an arithmetic operator like `+`, `-`, `*`, `/`) is very common, so Python provides a *shorthand* syntax for it."
   ]
  },
  {
   "cell_type": "code",
   "execution_count": 38,
   "id": "e42604bc-9757-46a4-bfdb-a1d68aa6aa52",
   "metadata": {},
   "outputs": [],
   "source": [
    "counter=10"
   ]
  },
  {
   "cell_type": "code",
   "execution_count": 39,
   "id": "99f3493a-85ee-4563-a935-bd190aa88c12",
   "metadata": {},
   "outputs": [],
   "source": [
    "counter+=4   #Just like counter=counter+4"
   ]
  },
  {
   "cell_type": "code",
   "execution_count": 40,
   "id": "06607290-07a1-407a-8812-4943f2b65c43",
   "metadata": {},
   "outputs": [
    {
     "data": {
      "text/plain": [
       "14"
      ]
     },
     "execution_count": 40,
     "metadata": {},
     "output_type": "execute_result"
    }
   ],
   "source": [
    "counter"
   ]
  },
  {
   "cell_type": "markdown",
   "id": "325e8440-3759-4b7b-952a-3039c0098607",
   "metadata": {},
   "source": [
    "Variable names can be short (`a`, `x`, `y`, etc.) or descriptive ( `my_favorite_color`, `profit_margin`, `the_3_musketeers`, etc.). However, you must follow these rules while naming Python variables:\n",
    "\n",
    "* A variable's name must start with a letter or the underscore character `_`. It cannot begin with a number.\n",
    "* A variable name can only contain lowercase (small) or uppercase (capital) letters, digits, or underscores (`a`-`z`, `A`-`Z`, `0`-`9`, and `_`).\n",
    "* Variable names are case-sensitive, i.e., `a_variable`, `A_Variable`, and `A_VARIABLE` are all different variables.\n",
    "\n",
    "Here are some valid variable names:"
   ]
  },
  {
   "cell_type": "code",
   "execution_count": 41,
   "id": "9c1fad69-64ec-4f31-8b82-ce6eefc26c15",
   "metadata": {},
   "outputs": [],
   "source": [
    "a_variable = 23\n",
    "is_today_saturday = False\n",
    "my_favorite_car = \"Mercedes\"\n",
    "the_3_musketeers = [\"Athos\" ,\"Porthos\" ,\"Aramis\"]"
   ]
  },
  {
   "cell_type": "markdown",
   "id": "2b174d14-14d8-490a-8941-59af35b8b0a9",
   "metadata": {},
   "source": [
    "Let's try creating some variables with invalid names. Python prints a syntax error if your variable's name is invalid.\n",
    "\n",
    "> **Syntax**: The syntax of a programming language refers to the rules that govern the structure of a valid instruction or *statement*. If a statement does not follow these rules, Python stops execution and informs you that there is a *syntax error*. You can think of syntax as the rules of grammar for a programming language."
   ]
  },
  {
   "cell_type": "code",
   "execution_count": 42,
   "id": "3b6c78a6-5957-4101-b1c9-e4897db0ed8d",
   "metadata": {},
   "outputs": [
    {
     "ename": "SyntaxError",
     "evalue": "invalid syntax (3435034236.py, line 1)",
     "output_type": "error",
     "traceback": [
      "  \u001b[36mCell\u001b[39m\u001b[36m \u001b[39m\u001b[32mIn[42]\u001b[39m\u001b[32m, line 1\u001b[39m\n\u001b[31m    \u001b[39m\u001b[31ma variable=23\u001b[39m\n      ^\n\u001b[31mSyntaxError\u001b[39m\u001b[31m:\u001b[39m invalid syntax\n"
     ]
    }
   ],
   "source": [
    "a variable=23"
   ]
  },
  {
   "cell_type": "code",
   "execution_count": 43,
   "id": "cd5ccad4-e3c9-4be3-879a-c6ef962422c8",
   "metadata": {},
   "outputs": [
    {
     "ename": "SyntaxError",
     "evalue": "invalid syntax (4115463781.py, line 1)",
     "output_type": "error",
     "traceback": [
      "  \u001b[36mCell\u001b[39m\u001b[36m \u001b[39m\u001b[32mIn[43]\u001b[39m\u001b[32m, line 1\u001b[39m\n\u001b[31m    \u001b[39m\u001b[31mis_today_$aturday=False\u001b[39m\n             ^\n\u001b[31mSyntaxError\u001b[39m\u001b[31m:\u001b[39m invalid syntax\n"
     ]
    }
   ],
   "source": [
    "is_today_$aturday=False"
   ]
  },
  {
   "cell_type": "code",
   "execution_count": 44,
   "id": "a30b78cb-80f2-4ffc-afec-ca9ce05032cb",
   "metadata": {},
   "outputs": [
    {
     "ename": "SyntaxError",
     "evalue": "cannot assign to expression here. Maybe you meant '==' instead of '='? (1798234066.py, line 1)",
     "output_type": "error",
     "traceback": [
      "  \u001b[36mCell\u001b[39m\u001b[36m \u001b[39m\u001b[32mIn[44]\u001b[39m\u001b[32m, line 1\u001b[39m\n\u001b[31m    \u001b[39m\u001b[31mmy-favorite-car=\"Deloran\"\u001b[39m\n    ^\n\u001b[31mSyntaxError\u001b[39m\u001b[31m:\u001b[39m cannot assign to expression here. Maybe you meant '==' instead of '='?\n"
     ]
    }
   ],
   "source": [
    "my-favorite-car=\"Deloran\""
   ]
  },
  {
   "cell_type": "code",
   "execution_count": 45,
   "id": "d6c967a9-2c75-4d6d-8f3f-ea0361f65801",
   "metadata": {},
   "outputs": [
    {
     "ename": "SyntaxError",
     "evalue": "invalid decimal literal (1550770998.py, line 1)",
     "output_type": "error",
     "traceback": [
      "  \u001b[36mCell\u001b[39m\u001b[36m \u001b[39m\u001b[32mIn[45]\u001b[39m\u001b[32m, line 1\u001b[39m\n\u001b[31m    \u001b[39m\u001b[31m3_muskteers=[\"Athos\" ,\"Porthos\" ,\"Aramis\"]\u001b[39m\n     ^\n\u001b[31mSyntaxError\u001b[39m\u001b[31m:\u001b[39m invalid decimal literal\n"
     ]
    }
   ],
   "source": [
    "3_muskteers=[\"Athos\" ,\"Porthos\" ,\"Aramis\"]"
   ]
  },
  {
   "cell_type": "markdown",
   "id": "a0737363-3a66-4c24-9d02-ee956be4b47f",
   "metadata": {},
   "source": [
    "## Built-in data types in Python\n",
    "\n",
    "Any data or information stored within a Python variable has a *type*. You can view the type of data stored within a variable using the `type` function."
   ]
  },
  {
   "cell_type": "code",
   "execution_count": 46,
   "id": "2847fc52-8f9f-45ca-88f0-c83a4cdb1544",
   "metadata": {},
   "outputs": [
    {
     "data": {
      "text/plain": [
       "23"
      ]
     },
     "execution_count": 46,
     "metadata": {},
     "output_type": "execute_result"
    }
   ],
   "source": [
    "a_variable"
   ]
  },
  {
   "cell_type": "code",
   "execution_count": 47,
   "id": "9831e8c5-4eef-4034-97e0-32fa0a1940d9",
   "metadata": {},
   "outputs": [
    {
     "data": {
      "text/plain": [
       "int"
      ]
     },
     "execution_count": 47,
     "metadata": {},
     "output_type": "execute_result"
    }
   ],
   "source": [
    "type(a_variable)"
   ]
  },
  {
   "cell_type": "code",
   "execution_count": 48,
   "id": "2a408bdd-ed4d-4523-9a74-13afe3d65b16",
   "metadata": {},
   "outputs": [
    {
     "data": {
      "text/plain": [
       "False"
      ]
     },
     "execution_count": 48,
     "metadata": {},
     "output_type": "execute_result"
    }
   ],
   "source": [
    "is_today_saturday"
   ]
  },
  {
   "cell_type": "code",
   "execution_count": 49,
   "id": "e58fc5d6-49cd-498d-8d76-601777e0ff97",
   "metadata": {},
   "outputs": [
    {
     "data": {
      "text/plain": [
       "bool"
      ]
     },
     "execution_count": 49,
     "metadata": {},
     "output_type": "execute_result"
    }
   ],
   "source": [
    "type(is_today_saturday)"
   ]
  },
  {
   "cell_type": "code",
   "execution_count": 50,
   "id": "1804e9fb-0aab-415f-8970-58380a378d22",
   "metadata": {},
   "outputs": [
    {
     "data": {
      "text/plain": [
       "'Mercedes'"
      ]
     },
     "execution_count": 50,
     "metadata": {},
     "output_type": "execute_result"
    }
   ],
   "source": [
    "my_favorite_car"
   ]
  },
  {
   "cell_type": "code",
   "execution_count": 51,
   "id": "3c23ef3f-06cf-462d-8030-c9c5ca9221ba",
   "metadata": {},
   "outputs": [
    {
     "data": {
      "text/plain": [
       "str"
      ]
     },
     "execution_count": 51,
     "metadata": {},
     "output_type": "execute_result"
    }
   ],
   "source": [
    "type(my_favorite_car)"
   ]
  },
  {
   "cell_type": "code",
   "execution_count": 52,
   "id": "a7a4fd21-8b50-4028-98b8-93ab7bc068a7",
   "metadata": {},
   "outputs": [
    {
     "data": {
      "text/plain": [
       "['Athos', 'Porthos', 'Aramis']"
      ]
     },
     "execution_count": 52,
     "metadata": {},
     "output_type": "execute_result"
    }
   ],
   "source": [
    "the_3_musketeers"
   ]
  },
  {
   "cell_type": "code",
   "execution_count": 53,
   "id": "66bb666a-e090-4c46-80f8-0c2ad4408423",
   "metadata": {},
   "outputs": [
    {
     "data": {
      "text/plain": [
       "list"
      ]
     },
     "execution_count": 53,
     "metadata": {},
     "output_type": "execute_result"
    }
   ],
   "source": [
    "type(the_3_musketeers)"
   ]
  },
  {
   "cell_type": "markdown",
   "id": "927d035c-526f-48d3-abf6-3b7a417efb88",
   "metadata": {},
   "source": [
    "Python has several built-in data types for storing different kinds of information in variables. Following are some commonly used data types:\n",
    "\n",
    "1. Integer\n",
    "2. Float\n",
    "3. Boolean\n",
    "4. None\n",
    "5. String\n",
    "6. List\n",
    "7. Tuple\n",
    "8. Dictionary\n",
    "\n",
    "Integer, float, boolean, None, and string are *primitive data types* because they represent a single value. Other data types like list, tuple, and dictionary are often called *data structures* or *containers* because they hold multiple pieces of data together."
   ]
  },
  {
   "cell_type": "markdown",
   "id": "70fcfa7e-d94b-4938-8f28-1d1b1405d6b2",
   "metadata": {},
   "source": [
    "### Integer\n",
    "\n",
    "Integers represent positive or negative whole numbers, from negative infinity to infinity. Note that integers should not include decimal points. Integers have the type `int`."
   ]
  },
  {
   "cell_type": "code",
   "execution_count": 54,
   "id": "91f4d515-d8d9-44c6-b070-07e613a05a0d",
   "metadata": {},
   "outputs": [],
   "source": [
    "current_year=2020"
   ]
  },
  {
   "cell_type": "code",
   "execution_count": 55,
   "id": "4fa815cb-0839-476e-be7b-885abcd9003d",
   "metadata": {},
   "outputs": [
    {
     "data": {
      "text/plain": [
       "2020"
      ]
     },
     "execution_count": 55,
     "metadata": {},
     "output_type": "execute_result"
    }
   ],
   "source": [
    "current_year"
   ]
  },
  {
   "cell_type": "code",
   "execution_count": 56,
   "id": "8f90d2c6-2085-40ba-9af1-af73dcc60b28",
   "metadata": {},
   "outputs": [
    {
     "data": {
      "text/plain": [
       "int"
      ]
     },
     "execution_count": 56,
     "metadata": {},
     "output_type": "execute_result"
    }
   ],
   "source": [
    "type(current_year)"
   ]
  },
  {
   "cell_type": "markdown",
   "id": "898f4935-1bde-497d-b303-c422bd939dcd",
   "metadata": {},
   "source": [
    "Unlike some other programming languages, integers in Python can be arbitrarily large (or small). There's no lowest or highest value for integers, and there's just one `int` type (as opposed to `short`, `int`, `long`, `long long`, `unsigned int`, etc. in C/C++/Java)."
   ]
  },
  {
   "cell_type": "code",
   "execution_count": 57,
   "id": "25a20cdf-c184-4d94-8f16-e692f998c6a2",
   "metadata": {},
   "outputs": [],
   "source": [
    "a_large_negative_number=-234342523532532532532523532532532532"
   ]
  },
  {
   "cell_type": "code",
   "execution_count": 58,
   "id": "83c99ade-1386-4f4c-8567-d16116bdfaa7",
   "metadata": {},
   "outputs": [
    {
     "data": {
      "text/plain": [
       "-234342523532532532532523532532532532"
      ]
     },
     "execution_count": 58,
     "metadata": {},
     "output_type": "execute_result"
    }
   ],
   "source": [
    "a_large_negative_number"
   ]
  },
  {
   "cell_type": "code",
   "execution_count": 59,
   "id": "4d7c908f-6c6f-4155-876a-0e0c2644cde5",
   "metadata": {},
   "outputs": [
    {
     "data": {
      "text/plain": [
       "int"
      ]
     },
     "execution_count": 59,
     "metadata": {},
     "output_type": "execute_result"
    }
   ],
   "source": [
    "type(a_large_negative_number)"
   ]
  },
  {
   "cell_type": "markdown",
   "id": "70a1c650-f3a3-44a5-8ca2-759629d51ca9",
   "metadata": {},
   "source": [
    "### Float\n",
    "\n",
    "Floats (or floating-point numbers) are numbers with a decimal point. There are no limits on the value or the number of digits before or after the decimal point. Floating-point numbers have the type `float`."
   ]
  },
  {
   "cell_type": "code",
   "execution_count": 60,
   "id": "f4815398-3c72-4f08-8536-8e89ddc379a5",
   "metadata": {},
   "outputs": [],
   "source": [
    "pi=3.145926535893238"
   ]
  },
  {
   "cell_type": "code",
   "execution_count": 61,
   "id": "9e4c100b-069b-453b-9f45-6dddc9550ca2",
   "metadata": {},
   "outputs": [
    {
     "data": {
      "text/plain": [
       "3.145926535893238"
      ]
     },
     "execution_count": 61,
     "metadata": {},
     "output_type": "execute_result"
    }
   ],
   "source": [
    "pi"
   ]
  },
  {
   "cell_type": "code",
   "execution_count": 62,
   "id": "a39a85ce-04f0-4802-9a71-be2c7f87900d",
   "metadata": {},
   "outputs": [
    {
     "data": {
      "text/plain": [
       "float"
      ]
     },
     "execution_count": 62,
     "metadata": {},
     "output_type": "execute_result"
    }
   ],
   "source": [
    "type(pi)"
   ]
  },
  {
   "cell_type": "markdown",
   "id": "9d5c76c8-d9a4-4660-9199-256d60f00c6b",
   "metadata": {},
   "source": [
    "Note that a whole number is treated as a float if written with a decimal point, even though the decimal portion of the number is zero."
   ]
  },
  {
   "cell_type": "code",
   "execution_count": 63,
   "id": "84b21213-6003-47f4-80e5-244b694e7620",
   "metadata": {},
   "outputs": [],
   "source": [
    "a_number=3.0"
   ]
  },
  {
   "cell_type": "code",
   "execution_count": 64,
   "id": "788ef7e4-605e-4b49-88c7-6014ef84f972",
   "metadata": {},
   "outputs": [
    {
     "data": {
      "text/plain": [
       "float"
      ]
     },
     "execution_count": 64,
     "metadata": {},
     "output_type": "execute_result"
    }
   ],
   "source": [
    "type(a_number)"
   ]
  },
  {
   "cell_type": "code",
   "execution_count": 65,
   "id": "082470e5-9b2b-4cc7-9db0-7cd02bf25f35",
   "metadata": {},
   "outputs": [],
   "source": [
    "another_number=4."
   ]
  },
  {
   "cell_type": "code",
   "execution_count": 66,
   "id": "ed1ee8b9-9fbd-47cc-8526-79175c28a589",
   "metadata": {},
   "outputs": [
    {
     "data": {
      "text/plain": [
       "4.0"
      ]
     },
     "execution_count": 66,
     "metadata": {},
     "output_type": "execute_result"
    }
   ],
   "source": [
    "another_number"
   ]
  },
  {
   "cell_type": "code",
   "execution_count": 67,
   "id": "36686e5c-50e3-492b-ba42-48e6efa94716",
   "metadata": {},
   "outputs": [
    {
     "data": {
      "text/plain": [
       "float"
      ]
     },
     "execution_count": 67,
     "metadata": {},
     "output_type": "execute_result"
    }
   ],
   "source": [
    "type(another_number)"
   ]
  },
  {
   "cell_type": "markdown",
   "id": "89a83943-ae45-4fa7-b3f1-632e86dc01cb",
   "metadata": {},
   "source": [
    "Floating point numbers can also be written using the scientific notation with an \"e\" to indicate the power of 10."
   ]
  },
  {
   "cell_type": "code",
   "execution_count": 68,
   "id": "93e9f7bf-f505-4d14-8916-12f0b25ca521",
   "metadata": {},
   "outputs": [],
   "source": [
    "one_hundredth=1e-2"
   ]
  },
  {
   "cell_type": "code",
   "execution_count": 69,
   "id": "f57bb4b3-1488-4753-914c-46e92a84f7f3",
   "metadata": {},
   "outputs": [
    {
     "data": {
      "text/plain": [
       "0.01"
      ]
     },
     "execution_count": 69,
     "metadata": {},
     "output_type": "execute_result"
    }
   ],
   "source": [
    "one_hundredth"
   ]
  },
  {
   "cell_type": "code",
   "execution_count": 70,
   "id": "e717586b-b322-4220-8b7f-cf2064378875",
   "metadata": {},
   "outputs": [
    {
     "data": {
      "text/plain": [
       "float"
      ]
     },
     "execution_count": 70,
     "metadata": {},
     "output_type": "execute_result"
    }
   ],
   "source": [
    "type(one_hundredth)"
   ]
  },
  {
   "cell_type": "code",
   "execution_count": 71,
   "id": "ad9dce6b-57f9-4c0b-92dd-4c21b3872f15",
   "metadata": {},
   "outputs": [],
   "source": [
    "avagadro_number=6.0221406e23"
   ]
  },
  {
   "cell_type": "code",
   "execution_count": 72,
   "id": "68c19310-b017-48f2-b908-b91f24549d82",
   "metadata": {},
   "outputs": [
    {
     "data": {
      "text/plain": [
       "6.0221406e+23"
      ]
     },
     "execution_count": 72,
     "metadata": {},
     "output_type": "execute_result"
    }
   ],
   "source": [
    "avagadro_number"
   ]
  },
  {
   "cell_type": "code",
   "execution_count": 73,
   "id": "cd4e92ed-1eb9-4107-848a-26490eec7819",
   "metadata": {},
   "outputs": [
    {
     "data": {
      "text/plain": [
       "float"
      ]
     },
     "execution_count": 73,
     "metadata": {},
     "output_type": "execute_result"
    }
   ],
   "source": [
    "type(avagadro_number)"
   ]
  },
  {
   "cell_type": "markdown",
   "id": "0298b96c-742e-46c8-b0e3-e19864a6c806",
   "metadata": {},
   "source": [
    "You can convert floats into integers and vice versa using the `float` and `int` functions. The operation of converting one type of value into another is called casting."
   ]
  },
  {
   "cell_type": "code",
   "execution_count": 74,
   "id": "d8cda7d3-5087-415a-a1a0-b369c6292ef8",
   "metadata": {},
   "outputs": [
    {
     "data": {
      "text/plain": [
       "2020.0"
      ]
     },
     "execution_count": 74,
     "metadata": {},
     "output_type": "execute_result"
    }
   ],
   "source": [
    "float(current_year)"
   ]
  },
  {
   "cell_type": "code",
   "execution_count": 75,
   "id": "32d6f114-5778-4e93-9a89-11f147f9dc1b",
   "metadata": {},
   "outputs": [
    {
     "data": {
      "text/plain": [
       "-2.343425235325325e+35"
      ]
     },
     "execution_count": 75,
     "metadata": {},
     "output_type": "execute_result"
    }
   ],
   "source": [
    "float(a_large_negative_number)"
   ]
  },
  {
   "cell_type": "code",
   "execution_count": 76,
   "id": "cd690f59-4162-4bdc-9860-a4b581bd3ff8",
   "metadata": {},
   "outputs": [
    {
     "data": {
      "text/plain": [
       "3"
      ]
     },
     "execution_count": 76,
     "metadata": {},
     "output_type": "execute_result"
    }
   ],
   "source": [
    "int(pi)"
   ]
  },
  {
   "cell_type": "code",
   "execution_count": 77,
   "id": "b12dbb43-077e-4fc8-979a-5fb7fccc7009",
   "metadata": {},
   "outputs": [
    {
     "data": {
      "text/plain": [
       "602214059999999993839616"
      ]
     },
     "execution_count": 77,
     "metadata": {},
     "output_type": "execute_result"
    }
   ],
   "source": [
    "int(avagadro_number)"
   ]
  },
  {
   "cell_type": "markdown",
   "id": "897c0713-178a-4520-b3da-e5cfe577c2ca",
   "metadata": {},
   "source": [
    "While performing arithmetic operations, integers are automatically converted to `float`s if any of the operands is a `float`. Also, the division operator `/` always returns a `float`, even if both operands are integers. Use the `//` operator if you want the result of the division to be an `int`."
   ]
  },
  {
   "cell_type": "code",
   "execution_count": 78,
   "id": "986f07a2-3050-47db-a2c0-6d67cd701ac4",
   "metadata": {},
   "outputs": [
    {
     "data": {
      "text/plain": [
       "float"
      ]
     },
     "execution_count": 78,
     "metadata": {},
     "output_type": "execute_result"
    }
   ],
   "source": [
    "type(45*3.0)"
   ]
  },
  {
   "cell_type": "code",
   "execution_count": 79,
   "id": "27892c5c-ed60-40b1-b4c5-a47b09cde539",
   "metadata": {},
   "outputs": [
    {
     "data": {
      "text/plain": [
       "int"
      ]
     },
     "execution_count": 79,
     "metadata": {},
     "output_type": "execute_result"
    }
   ],
   "source": [
    "type(45*3)"
   ]
  },
  {
   "cell_type": "code",
   "execution_count": 80,
   "id": "9f69dc8c-9d6f-43a5-a761-dd938a293702",
   "metadata": {},
   "outputs": [
    {
     "data": {
      "text/plain": [
       "float"
      ]
     },
     "execution_count": 80,
     "metadata": {},
     "output_type": "execute_result"
    }
   ],
   "source": [
    "type(10/3)"
   ]
  },
  {
   "cell_type": "code",
   "execution_count": 81,
   "id": "673585e7-b151-45df-89c3-8e5b45c77fd6",
   "metadata": {},
   "outputs": [
    {
     "data": {
      "text/plain": [
       "float"
      ]
     },
     "execution_count": 81,
     "metadata": {},
     "output_type": "execute_result"
    }
   ],
   "source": [
    "type(10/2)"
   ]
  },
  {
   "cell_type": "code",
   "execution_count": 82,
   "id": "8c3b338a-bd2e-4b25-a5a3-dc8547b43fa4",
   "metadata": {},
   "outputs": [
    {
     "data": {
      "text/plain": [
       "int"
      ]
     },
     "execution_count": 82,
     "metadata": {},
     "output_type": "execute_result"
    }
   ],
   "source": [
    "type(10//2)"
   ]
  },
  {
   "cell_type": "markdown",
   "id": "5625073f-8dda-44bc-bd85-10c3ca9485ca",
   "metadata": {},
   "source": [
    "### Boolean\n",
    "\n",
    "Booleans represent one of 2 values: `True` and `False`. Booleans have the type `bool`."
   ]
  },
  {
   "cell_type": "code",
   "execution_count": 83,
   "id": "0b40e086-feeb-4dea-8940-b2f420cca23a",
   "metadata": {},
   "outputs": [],
   "source": [
    "is_today_sunday=True"
   ]
  },
  {
   "cell_type": "code",
   "execution_count": 84,
   "id": "0903aed2-0a10-4d76-8c4d-33eb3c431630",
   "metadata": {},
   "outputs": [
    {
     "data": {
      "text/plain": [
       "True"
      ]
     },
     "execution_count": 84,
     "metadata": {},
     "output_type": "execute_result"
    }
   ],
   "source": [
    "is_today_sunday"
   ]
  },
  {
   "cell_type": "code",
   "execution_count": 85,
   "id": "64ebf8ce-0b25-412b-9ce2-afd7b4700410",
   "metadata": {},
   "outputs": [
    {
     "data": {
      "text/plain": [
       "bool"
      ]
     },
     "execution_count": 85,
     "metadata": {},
     "output_type": "execute_result"
    }
   ],
   "source": [
    "type(is_today_sunday)"
   ]
  },
  {
   "cell_type": "markdown",
   "id": "3441b818-c45e-487f-95f4-3c8921e9a3b9",
   "metadata": {},
   "source": [
    "Booleans are generally the result of a comparison operation, e.g., `==`, `>=`, etc."
   ]
  },
  {
   "cell_type": "code",
   "execution_count": 87,
   "id": "c0f780fd-3364-4a0f-860e-b138a2688ff6",
   "metadata": {},
   "outputs": [],
   "source": [
    "cost_of_ice_bag=1.25\n",
    "is_ice_bag_expensive = cost_of_ice_bag >= 10"
   ]
  },
  {
   "cell_type": "code",
   "execution_count": 88,
   "id": "5bc0611a-9db2-460a-88ef-934015b83a69",
   "metadata": {},
   "outputs": [
    {
     "data": {
      "text/plain": [
       "False"
      ]
     },
     "execution_count": 88,
     "metadata": {},
     "output_type": "execute_result"
    }
   ],
   "source": [
    "is_ice_bag_expensive"
   ]
  },
  {
   "cell_type": "code",
   "execution_count": 89,
   "id": "ca57b7c4-546b-497f-83ba-9e480952b931",
   "metadata": {},
   "outputs": [
    {
     "data": {
      "text/plain": [
       "bool"
      ]
     },
     "execution_count": 89,
     "metadata": {},
     "output_type": "execute_result"
    }
   ],
   "source": [
    "type(is_ice_bag_expensive)"
   ]
  },
  {
   "cell_type": "markdown",
   "id": "51638e6b-c83c-4271-bbde-aec68639b635",
   "metadata": {},
   "source": [
    "Booleans are automatically converted to `int`s when used in arithmetic operations. `True` is converted to `1` and `False` is converted to `0`."
   ]
  },
  {
   "cell_type": "code",
   "execution_count": 90,
   "id": "4b31dfc4-2679-42d2-95f5-38ed207aa4ad",
   "metadata": {},
   "outputs": [
    {
     "data": {
      "text/plain": [
       "5"
      ]
     },
     "execution_count": 90,
     "metadata": {},
     "output_type": "execute_result"
    }
   ],
   "source": [
    "5+False"
   ]
  },
  {
   "cell_type": "code",
   "execution_count": 92,
   "id": "0a2e19ab-bc43-48ae-94c5-0cbb21e809ed",
   "metadata": {},
   "outputs": [
    {
     "data": {
      "text/plain": [
       "4.0"
      ]
     },
     "execution_count": 92,
     "metadata": {},
     "output_type": "execute_result"
    }
   ],
   "source": [
    "3. + True"
   ]
  },
  {
   "cell_type": "markdown",
   "id": "f79275a1-1c25-488f-b139-abe339dcf057",
   "metadata": {},
   "source": [
    "Any value in Python can be converted to a Boolean using the `bool` function. \n",
    "\n",
    "Only the following values evaluate to `False` (they are often called *falsy* values):\n",
    "\n",
    "1. The value `False` itself\n",
    "2. The integer `0`\n",
    "3. The float `0.0`\n",
    "4. The empty value `None`\n",
    "5. The empty text `\"\"`\n",
    "6. The empty list `[]`\n",
    "7. The empty tuple `()`\n",
    "8. The empty dictionary `{}`\n",
    "9. The empty set `set()`\n",
    "10. The empty range `range(0)`\n",
    "\n",
    "Everything else evaluates to `True` (a value that evaluates to `True` is often called a *truthy* value)."
   ]
  },
  {
   "cell_type": "code",
   "execution_count": 93,
   "id": "dc85110f-b508-468b-9b28-bc37e6b7e5d1",
   "metadata": {},
   "outputs": [
    {
     "data": {
      "text/plain": [
       "False"
      ]
     },
     "execution_count": 93,
     "metadata": {},
     "output_type": "execute_result"
    }
   ],
   "source": [
    "bool(False)"
   ]
  },
  {
   "cell_type": "code",
   "execution_count": 94,
   "id": "26756e30-5c28-4bf0-91a3-704b31ab8a27",
   "metadata": {},
   "outputs": [
    {
     "data": {
      "text/plain": [
       "False"
      ]
     },
     "execution_count": 94,
     "metadata": {},
     "output_type": "execute_result"
    }
   ],
   "source": [
    "bool(0)"
   ]
  },
  {
   "cell_type": "code",
   "execution_count": 95,
   "id": "b3b1b84e-931b-4aca-8b26-da05739c9298",
   "metadata": {},
   "outputs": [
    {
     "data": {
      "text/plain": [
       "False"
      ]
     },
     "execution_count": 95,
     "metadata": {},
     "output_type": "execute_result"
    }
   ],
   "source": [
    "bool(0.0)"
   ]
  },
  {
   "cell_type": "code",
   "execution_count": 97,
   "id": "3d37b0ad-0494-4c37-9373-d172be23c25b",
   "metadata": {},
   "outputs": [
    {
     "data": {
      "text/plain": [
       "False"
      ]
     },
     "execution_count": 97,
     "metadata": {},
     "output_type": "execute_result"
    }
   ],
   "source": [
    "bool(None)"
   ]
  },
  {
   "cell_type": "code",
   "execution_count": 98,
   "id": "4f45e7b1-4189-4fa9-a0e9-3be048621f16",
   "metadata": {},
   "outputs": [
    {
     "data": {
      "text/plain": [
       "False"
      ]
     },
     "execution_count": 98,
     "metadata": {},
     "output_type": "execute_result"
    }
   ],
   "source": [
    "bool(\"\")"
   ]
  },
  {
   "cell_type": "code",
   "execution_count": 99,
   "id": "84e17b7e-41ca-40ec-a097-c4be04d0df8d",
   "metadata": {},
   "outputs": [
    {
     "data": {
      "text/plain": [
       "False"
      ]
     },
     "execution_count": 99,
     "metadata": {},
     "output_type": "execute_result"
    }
   ],
   "source": [
    "bool([])"
   ]
  },
  {
   "cell_type": "code",
   "execution_count": 100,
   "id": "edec3b9d-1fb0-4fee-a57a-874dc3f8da0b",
   "metadata": {},
   "outputs": [
    {
     "data": {
      "text/plain": [
       "False"
      ]
     },
     "execution_count": 100,
     "metadata": {},
     "output_type": "execute_result"
    }
   ],
   "source": [
    "bool(())"
   ]
  },
  {
   "cell_type": "code",
   "execution_count": 101,
   "id": "f8bdfc3a-03df-40d1-9a9b-61bdd29374ae",
   "metadata": {},
   "outputs": [
    {
     "data": {
      "text/plain": [
       "False"
      ]
     },
     "execution_count": 101,
     "metadata": {},
     "output_type": "execute_result"
    }
   ],
   "source": [
    "bool({})"
   ]
  },
  {
   "cell_type": "code",
   "execution_count": 102,
   "id": "6b27390e-db7d-480f-8a53-893e1045ee66",
   "metadata": {},
   "outputs": [
    {
     "data": {
      "text/plain": [
       "False"
      ]
     },
     "execution_count": 102,
     "metadata": {},
     "output_type": "execute_result"
    }
   ],
   "source": [
    "bool(set())"
   ]
  },
  {
   "cell_type": "code",
   "execution_count": 103,
   "id": "f77dae62-31ef-4f5b-bd11-7c18e527d7b0",
   "metadata": {},
   "outputs": [
    {
     "data": {
      "text/plain": [
       "False"
      ]
     },
     "execution_count": 103,
     "metadata": {},
     "output_type": "execute_result"
    }
   ],
   "source": [
    "bool(range(0))"
   ]
  },
  {
   "cell_type": "code",
   "execution_count": 104,
   "id": "8ca3f178-2b7a-46be-9ac8-a7272e9d0ff4",
   "metadata": {},
   "outputs": [
    {
     "data": {
      "text/plain": [
       "(True, True, True, True, True, True, True)"
      ]
     },
     "execution_count": 104,
     "metadata": {},
     "output_type": "execute_result"
    }
   ],
   "source": [
    "bool(True),bool(1),bool(2.0),bool(\"Hello\"),bool([1,2]),bool((2,3)),bool(range(10))"
   ]
  },
  {
   "cell_type": "markdown",
   "id": "c84ab0cc-8448-4a99-bab6-fd2cdc2f711c",
   "metadata": {},
   "source": [
    "### None\n",
    "\n",
    "The None type includes a single value `None`, used to indicate the absence of a value. `None` has the type `NoneType`. It is often used to declare a variable whose value may be assigned later."
   ]
  },
  {
   "cell_type": "code",
   "execution_count": 105,
   "id": "50e0b1ca-c64d-4f45-9c41-b65a685a513c",
   "metadata": {},
   "outputs": [],
   "source": [
    "nothing = None"
   ]
  },
  {
   "cell_type": "code",
   "execution_count": 106,
   "id": "6089255e-43d0-4f52-881d-a0e17ad724eb",
   "metadata": {},
   "outputs": [
    {
     "data": {
      "text/plain": [
       "NoneType"
      ]
     },
     "execution_count": 106,
     "metadata": {},
     "output_type": "execute_result"
    }
   ],
   "source": [
    "type(nothing)"
   ]
  },
  {
   "cell_type": "code",
   "execution_count": null,
   "id": "d5895ae3-3138-4306-a97f-e8aa9a4e9250",
   "metadata": {},
   "outputs": [],
   "source": [
    "SSSS"
   ]
  }
 ],
 "metadata": {
  "kernelspec": {
   "display_name": "Python 3 (ipykernel)",
   "language": "python",
   "name": "python3"
  },
  "language_info": {
   "codemirror_mode": {
    "name": "ipython",
    "version": 3
   },
   "file_extension": ".py",
   "mimetype": "text/x-python",
   "name": "python",
   "nbconvert_exporter": "python",
   "pygments_lexer": "ipython3",
   "version": "3.12.8"
  }
 },
 "nbformat": 4,
 "nbformat_minor": 5
}
