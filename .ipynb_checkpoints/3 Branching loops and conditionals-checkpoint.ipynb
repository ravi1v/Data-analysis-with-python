{
 "cells": [
  {
   "cell_type": "markdown",
   "id": "e9d37d9c-ee2c-4200-a484-d79cfbda0752",
   "metadata": {},
   "source": [
    "## Branching with `if`, `else` and `elif`\n",
    "\n",
    "One of the most powerful features of programming languages is *branching*: the ability to make decisions and execute a different set of statements based on whether one or more conditions are true.\n",
    "\n",
    "### The `if` statement\n",
    "\n",
    "In Python, branching is implemented using the `if` statement, which is written as follows:\n",
    "\n",
    "```\n",
    "if condition:\n",
    "    statement1\n",
    "    statement2\n",
    "```\n",
    "\n",
    "The `condition` can be a value, variable or expression. If the condition evaluates to `True`, then the statements within the *`if` block* are executed. Notice the four spaces before `statement1`, `statement2`, etc. The spaces inform Python that these statements are associated with the `if` statement above. This technique of structuring code by adding spaces is called *indentation*.\n",
    "\n",
    "> **Indentation**: Python relies heavily on *indentation* (white space before a statement) to define code structure. This makes Python code easy to read and understand. You can run into problems if you don't use indentation properly. Indent your code by placing the cursor at the start of the line and pressing the `Tab` key once to add 4 spaces. Pressing `Tab` again will indent the code further by 4 more spaces, and press `Shift+Tab` will reduce the indentation by 4 spaces. \n",
    "\n",
    "\n",
    "For example, let's write some code to check and print a message if a given number is even."
   ]
  },
  {
   "cell_type": "code",
   "execution_count": 1,
   "id": "00741366-c9fb-4a53-8555-9236ffc9e29e",
   "metadata": {},
   "outputs": [],
   "source": [
    "a_number=34"
   ]
  },
  {
   "cell_type": "code",
   "execution_count": 13,
   "id": "2a94dfc1-5cec-4bf7-8359-a2857bfdac69",
   "metadata": {},
   "outputs": [
    {
     "name": "stdout",
     "output_type": "stream",
     "text": [
      "We 're inside an if block\n",
      "The given number 34 is even.\n"
     ]
    }
   ],
   "source": [
    "if a_number % 2 == 0:\n",
    "    print(\"We 're inside an if block\")\n",
    "    print(\"The given number {} is even.\".format(a_number))"
   ]
  },
  {
   "cell_type": "markdown",
   "id": "6ba5a078-c131-46af-bb29-66defa07a2e5",
   "metadata": {},
   "source": [
    "We use the modulus operator `%` to calculate the remainder from the division of `a_number` by `2`. Then, we use the comparison operator `==` check if the remainder is `0`, which tells us whether the number is even, i.e., divisible by 2.\n",
    "\n",
    "Since `34` is divisible by `2`, the expression `a_number % 2 == 0` evaluates to `True`, so the `print` statement under the `if` statement is executed. Also, note that we are using the string `format` method to include the number within the message.\n",
    "\n",
    "Let's try the above again with an odd number."
   ]
  },
  {
   "cell_type": "code",
   "execution_count": 14,
   "id": "2f3fbe43-6fbd-4eb1-85c8-47affc9bff80",
   "metadata": {},
   "outputs": [],
   "source": [
    "another_number = 33"
   ]
  },
  {
   "cell_type": "code",
   "execution_count": 15,
   "id": "be16d96c-44bc-4936-8c7b-c826bf5924f7",
   "metadata": {},
   "outputs": [],
   "source": [
    "if another_number % 2 == 0:\n",
    "    print(\"Given number {} is even .\".format(another_number))"
   ]
  },
  {
   "cell_type": "markdown",
   "id": "badf8268-5cea-4e27-abe6-1ca0e0a6c821",
   "metadata": {},
   "source": [
    "As expected, since the condition `another_number % 2 == 0` evaluates to `False`, no message is printed. \n",
    "\n",
    "### The `else` statement\n",
    "\n",
    "We may want to print a different message if the number is not even in the above example. This can be done by adding the `else` statement. It is written as follows:\n",
    "\n",
    "```\n",
    "if condition:\n",
    "    statement1\n",
    "    statement2\n",
    "else:\n",
    "    statement4\n",
    "    statement5\n",
    "\n",
    "```\n",
    "\n",
    "If `condition` evaluates to `True`, the statements in the `if` block are executed. If it evaluates to `False`, the statements in the `else` block are executed."
   ]
  },
  {
   "cell_type": "code",
   "execution_count": 16,
   "id": "4ff22681-a475-47ef-bb95-d30aa2e1d7bf",
   "metadata": {},
   "outputs": [
    {
     "data": {
      "text/plain": [
       "33"
      ]
     },
     "execution_count": 16,
     "metadata": {},
     "output_type": "execute_result"
    }
   ],
   "source": [
    "another_number"
   ]
  },
  {
   "cell_type": "code",
   "execution_count": 17,
   "id": "80c4c546-a6bd-4ec4-8316-c1319cfd6e09",
   "metadata": {},
   "outputs": [
    {
     "name": "stdout",
     "output_type": "stream",
     "text": [
      "Given number 33 is odd .\n"
     ]
    }
   ],
   "source": [
    "if another_number % 2 == 0:\n",
    "    print(\"Given number {} is even .\".format(another_number))\n",
    "else:\n",
    "    print(\"Given number {} is odd .\".format(another_number))"
   ]
  },
  {
   "cell_type": "markdown",
   "id": "10e8c54a-3a22-4413-be0e-86aedbbfc419",
   "metadata": {},
   "source": [
    "Here's another example, which uses the `in` operator to check membership within a tuple."
   ]
  },
  {
   "cell_type": "code",
   "execution_count": 18,
   "id": "eb57fb2b-d10a-4d84-a89a-cabd86c691bf",
   "metadata": {},
   "outputs": [],
   "source": [
    "the_3_muskteers = ('Athos' ,'Porthos' ,'Aramis')"
   ]
  },
  {
   "cell_type": "code",
   "execution_count": 19,
   "id": "27bb5845-091c-4adf-9690-1003618ed1df",
   "metadata": {},
   "outputs": [
    {
     "data": {
      "text/plain": [
       "('Athos', 'Porthos', 'Aramis')"
      ]
     },
     "execution_count": 19,
     "metadata": {},
     "output_type": "execute_result"
    }
   ],
   "source": [
    "the_3_muskteers"
   ]
  },
  {
   "cell_type": "code",
   "execution_count": 20,
   "id": "d41700f3-f742-48f1-bb82-1c24cfe08286",
   "metadata": {},
   "outputs": [],
   "source": [
    "a_candidate = 'Larry'"
   ]
  },
  {
   "cell_type": "code",
   "execution_count": 21,
   "id": "c82a18b0-5e3a-4ec0-859f-1cd8e1b39ba2",
   "metadata": {},
   "outputs": [
    {
     "name": "stdout",
     "output_type": "stream",
     "text": [
      "Larry is not a muskteer.\n"
     ]
    }
   ],
   "source": [
    "if a_candidate in the_3_muskteers:\n",
    "    print(\"{} is a muskteer.\".format(a_candidate))\n",
    "else:\n",
    "    print(\"{} is not a muskteer.\".format(a_candidate))"
   ]
  },
  {
   "cell_type": "markdown",
   "id": "a3168b9e-8418-49d8-9584-ae3d04a4607d",
   "metadata": {},
   "source": [
    "### The `elif` statement\n",
    "\n",
    "Python also provides an `elif` statement (short for \"else if\") to chain a series of conditional blocks. The conditions are evaluated one by one. For the first condition that evaluates to `True`, the block of statements below it is executed. The remaining conditions and statements are not evaluated. So, in an `if`, `elif`, `elif`... chain, at most one block of statements is executed, the one corresponding to the first condition that evaluates to `True`. "
   ]
  },
  {
   "cell_type": "code",
   "execution_count": 24,
   "id": "38dc6e82-02b9-4302-bd05-937768577abe",
   "metadata": {},
   "outputs": [],
   "source": [
    "\n",
    "today = \"Wednesday\""
   ]
  },
  {
   "cell_type": "code",
   "execution_count": 25,
   "id": "e3b630fb-4d55-43af-a5f0-641c90f24f68",
   "metadata": {},
   "outputs": [
    {
     "name": "stdout",
     "output_type": "stream",
     "text": [
      "Today is wednesday I have to study TOC and attempt test \n"
     ]
    }
   ],
   "source": [
    "if today == 'Sunday':\n",
    "    print(\"Today is sunday I have to rest\")\n",
    "elif today == 'Monday':\n",
    "    print(\"Today is monday I have to study OS\")\n",
    "elif today == 'Tuesday':\n",
    "    print(\"Today is tuesday I have to study programming and DSA\")\n",
    "elif today == 'Wednesday':\n",
    "    print(\"Today is wednesday I have to study TOC and attempt test \")\n",
    "elif today == 'Thursday':\n",
    "    print(\"Today is thursday I have to learn python for data analytics\")\n",
    "elif today == 'Friday':\n",
    "    print(\"Today is Friday I have to wrap up with Linear algebra\")\n",
    "elif today == 'Saturday':\n",
    "    print(\"Today is saturday write all subjects weekly test for GATE I covered in this week\")\n",
    "\n"
   ]
  },
  {
   "cell_type": "markdown",
   "id": "e1f56b43-af97-4489-bddf-a3fb80c575b0",
   "metadata": {},
   "source": [
    "In the above example, the first 3 conditions evaluate to `False`, so none of the first 3 messages are printed. The fourth condition evaluates to `True`, so the corresponding message is printed. The remaining conditions are skipped. Try changing the value of `today` above and re-executing the cells to print all the different messages.\n",
    "\n",
    "\n",
    "To verify that the remaining conditions are skipped, let us try another example."
   ]
  },
  {
   "cell_type": "code",
   "execution_count": 26,
   "id": "1f19eef7-dfc3-4b27-8840-256e45206673",
   "metadata": {},
   "outputs": [],
   "source": [
    "a_number = 15"
   ]
  },
  {
   "cell_type": "code",
   "execution_count": 27,
   "id": "0e3e508a-8f88-4cd3-ada2-2e930d2149a9",
   "metadata": {},
   "outputs": [
    {
     "name": "stdout",
     "output_type": "stream",
     "text": [
      "15 is divisible by 3\n"
     ]
    }
   ],
   "source": [
    "if a_number % 2 == 0:\n",
    "    print(\"{} is divisible by 2 \".format(a_number))\n",
    "elif a_number % 3 ==0:\n",
    "    print(\"{} is divisible by 3\".format(a_number))\n",
    "elif a_number % 5 == 0:\n",
    "    print(\"{} is divisible by 5\".format(a_number))\n",
    "elif a_number % 7 == 0:\n",
    "    print(\"{} is divisible by 7\".format(a_number))"
   ]
  },
  {
   "cell_type": "markdown",
   "id": "70fa3be2-a69c-430a-95ea-4a86ba93c351",
   "metadata": {},
   "source": [
    "Note that the message `15 is divisible by 5` is not printed because the condition `a_number % 5 == 0` isn't evaluated, since the previous condition `a_number % 3 == 0` evaluates to `True`. This is the key difference between using a chain of `if`, `elif`, `elif`... statements vs. a chain of `if` statements, where each condition is evaluated independently."
   ]
  },
  {
   "cell_type": "code",
   "execution_count": 28,
   "id": "93b0bd14-20c4-4154-b8b5-df87d6fe8b6f",
   "metadata": {},
   "outputs": [
    {
     "name": "stdout",
     "output_type": "stream",
     "text": [
      "15 is divisible by 3\n",
      "15 is divisible by 5\n"
     ]
    }
   ],
   "source": [
    "if a_number % 2 == 0:\n",
    "    print(\"{} is divisible by 2 \".format(a_number))\n",
    "if a_number % 3 ==0:\n",
    "    print(\"{} is divisible by 3\".format(a_number))\n",
    "if a_number % 5 == 0:\n",
    "    print(\"{} is divisible by 5\".format(a_number))\n",
    "if a_number % 7 == 0:\n",
    "    print(\"{} is divisible by 7\".format(a_number))"
   ]
  },
  {
   "cell_type": "markdown",
   "id": "6144d799-47bc-47af-aca4-86b3dce71674",
   "metadata": {},
   "source": [
    "### Using `if`, `elif`, and `else` together\n",
    "\n",
    "You can also include an `else` statement at the end of a chain of `if`, `elif`... statements. This code within the `else` block is evaluated when none of the conditions hold true."
   ]
  },
  {
   "cell_type": "code",
   "execution_count": 29,
   "id": "25044f27-f7d4-43b4-bd95-8ef465894575",
   "metadata": {},
   "outputs": [],
   "source": [
    "a_number = 49\n"
   ]
  },
  {
   "cell_type": "code",
   "execution_count": 32,
   "id": "20fe02a6-f42a-4871-8e68-bc8abd326672",
   "metadata": {},
   "outputs": [
    {
     "name": "stdout",
     "output_type": "stream",
     "text": [
      "All checks failed!\n",
      "49 is not divisible by 2 , 3 or 5\n"
     ]
    }
   ],
   "source": [
    "if a_number % 2 == 0:\n",
    "    print(\"{} is divisible by 2\".format(a_number))\n",
    "elif a_number % 3 == 0:\n",
    "    print(\"{} is divisible by 3\".format(a_number))\n",
    "elif a_number % 5 == 0:\n",
    "    print(\"{} is divisible by 5\" .format(a_number))\n",
    "\n",
    "# If all conditionals failed \n",
    "else:\n",
    "    print(\"All checks failed!\")\n",
    "    print(\"{} is not divisible by 2 , 3 or 5\".format(a_number))"
   ]
  },
  {
   "cell_type": "markdown",
   "id": "e14febea-b5e3-47eb-9b48-b650adc18926",
   "metadata": {},
   "source": [
    "Conditions can also be combined using the logical operators `and`, `or` and `not`."
   ]
  },
  {
   "cell_type": "code",
   "execution_count": 36,
   "id": "7c0c088a-2de4-442c-bafa-aa81b53a7c49",
   "metadata": {},
   "outputs": [],
   "source": [
    "a_number = 12"
   ]
  },
  {
   "cell_type": "code",
   "execution_count": 38,
   "id": "b29ff226-bebe-40c6-83c0-f4c77b44d726",
   "metadata": {},
   "outputs": [
    {
     "name": "stdout",
     "output_type": "stream",
     "text": [
      "The number 12 is not divisible by 5\n"
     ]
    }
   ],
   "source": [
    "if a_number % 3 == 0 and a_number % 5 == 0:\n",
    "    print(\"The number {} is divisible by 3 and 5\".format(a_number))\n",
    "elif not a_number % 5 == 0:\n",
    "    print(\"The number {} is not divisible by 5\".format(a_number))"
   ]
  }
 ],
 "metadata": {
  "kernelspec": {
   "display_name": "Python 3 (ipykernel)",
   "language": "python",
   "name": "python3"
  },
  "language_info": {
   "codemirror_mode": {
    "name": "ipython",
    "version": 3
   },
   "file_extension": ".py",
   "mimetype": "text/x-python",
   "name": "python",
   "nbconvert_exporter": "python",
   "pygments_lexer": "ipython3",
   "version": "3.12.8"
  }
 },
 "nbformat": 4,
 "nbformat_minor": 5
}
