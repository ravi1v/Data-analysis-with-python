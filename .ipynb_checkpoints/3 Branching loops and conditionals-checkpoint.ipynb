{
 "cells": [
  {
   "cell_type": "markdown",
   "id": "e9d37d9c-ee2c-4200-a484-d79cfbda0752",
   "metadata": {},
   "source": [
    "## Branching with `if`, `else` and `elif`\n",
    "\n",
    "One of the most powerful features of programming languages is *branching*: the ability to make decisions and execute a different set of statements based on whether one or more conditions are true.\n",
    "\n",
    "### The `if` statement\n",
    "\n",
    "In Python, branching is implemented using the `if` statement, which is written as follows:\n",
    "\n",
    "```\n",
    "if condition:\n",
    "    statement1\n",
    "    statement2\n",
    "```\n",
    "\n",
    "The `condition` can be a value, variable or expression. If the condition evaluates to `True`, then the statements within the *`if` block* are executed. Notice the four spaces before `statement1`, `statement2`, etc. The spaces inform Python that these statements are associated with the `if` statement above. This technique of structuring code by adding spaces is called *indentation*.\n",
    "\n",
    "> **Indentation**: Python relies heavily on *indentation* (white space before a statement) to define code structure. This makes Python code easy to read and understand. You can run into problems if you don't use indentation properly. Indent your code by placing the cursor at the start of the line and pressing the `Tab` key once to add 4 spaces. Pressing `Tab` again will indent the code further by 4 more spaces, and press `Shift+Tab` will reduce the indentation by 4 spaces. \n",
    "\n",
    "\n",
    "For example, let's write some code to check and print a message if a given number is even."
   ]
  },
  {
   "cell_type": "code",
   "execution_count": 1,
   "id": "00741366-c9fb-4a53-8555-9236ffc9e29e",
   "metadata": {},
   "outputs": [],
   "source": [
    "a_number=34"
   ]
  },
  {
   "cell_type": "code",
   "execution_count": 2,
   "id": "2a94dfc1-5cec-4bf7-8359-a2857bfdac69",
   "metadata": {},
   "outputs": [
    {
     "name": "stdout",
     "output_type": "stream",
     "text": [
      "We 're inside an if block\n",
      "The given number 34 is even.\n"
     ]
    }
   ],
   "source": [
    "if a_number % 2 == 0:\n",
    "    print(\"We 're inside an if block\")\n",
    "    print(\"The given number {} is even.\".format(a_number))"
   ]
  },
  {
   "cell_type": "markdown",
   "id": "6ba5a078-c131-46af-bb29-66defa07a2e5",
   "metadata": {},
   "source": [
    "We use the modulus operator `%` to calculate the remainder from the division of `a_number` by `2`. Then, we use the comparison operator `==` check if the remainder is `0`, which tells us whether the number is even, i.e., divisible by 2.\n",
    "\n",
    "Since `34` is divisible by `2`, the expression `a_number % 2 == 0` evaluates to `True`, so the `print` statement under the `if` statement is executed. Also, note that we are using the string `format` method to include the number within the message.\n",
    "\n",
    "Let's try the above again with an odd number."
   ]
  },
  {
   "cell_type": "code",
   "execution_count": 3,
   "id": "2f3fbe43-6fbd-4eb1-85c8-47affc9bff80",
   "metadata": {},
   "outputs": [],
   "source": [
    "another_number = 33"
   ]
  },
  {
   "cell_type": "code",
   "execution_count": 4,
   "id": "be16d96c-44bc-4936-8c7b-c826bf5924f7",
   "metadata": {},
   "outputs": [],
   "source": [
    "if another_number % 2 == 0:\n",
    "    print(\"Given number {} is even .\".format(another_number))"
   ]
  },
  {
   "cell_type": "markdown",
   "id": "badf8268-5cea-4e27-abe6-1ca0e0a6c821",
   "metadata": {},
   "source": [
    "As expected, since the condition `another_number % 2 == 0` evaluates to `False`, no message is printed. \n",
    "\n",
    "### The `else` statement\n",
    "\n",
    "We may want to print a different message if the number is not even in the above example. This can be done by adding the `else` statement. It is written as follows:\n",
    "\n",
    "```\n",
    "if condition:\n",
    "    statement1\n",
    "    statement2\n",
    "else:\n",
    "    statement4\n",
    "    statement5\n",
    "\n",
    "```\n",
    "\n",
    "If `condition` evaluates to `True`, the statements in the `if` block are executed. If it evaluates to `False`, the statements in the `else` block are executed."
   ]
  },
  {
   "cell_type": "code",
   "execution_count": 5,
   "id": "4ff22681-a475-47ef-bb95-d30aa2e1d7bf",
   "metadata": {},
   "outputs": [
    {
     "data": {
      "text/plain": [
       "33"
      ]
     },
     "execution_count": 5,
     "metadata": {},
     "output_type": "execute_result"
    }
   ],
   "source": [
    "another_number"
   ]
  },
  {
   "cell_type": "code",
   "execution_count": 6,
   "id": "80c4c546-a6bd-4ec4-8316-c1319cfd6e09",
   "metadata": {},
   "outputs": [
    {
     "name": "stdout",
     "output_type": "stream",
     "text": [
      "Given number 33 is odd .\n"
     ]
    }
   ],
   "source": [
    "if another_number % 2 == 0:\n",
    "    print(\"Given number {} is even .\".format(another_number))\n",
    "else:\n",
    "    print(\"Given number {} is odd .\".format(another_number))"
   ]
  },
  {
   "cell_type": "markdown",
   "id": "10e8c54a-3a22-4413-be0e-86aedbbfc419",
   "metadata": {},
   "source": [
    "Here's another example, which uses the `in` operator to check membership within a tuple."
   ]
  },
  {
   "cell_type": "code",
   "execution_count": 7,
   "id": "eb57fb2b-d10a-4d84-a89a-cabd86c691bf",
   "metadata": {},
   "outputs": [],
   "source": [
    "the_3_muskteers = ('Athos' ,'Porthos' ,'Aramis')"
   ]
  },
  {
   "cell_type": "code",
   "execution_count": 8,
   "id": "27bb5845-091c-4adf-9690-1003618ed1df",
   "metadata": {},
   "outputs": [
    {
     "data": {
      "text/plain": [
       "('Athos', 'Porthos', 'Aramis')"
      ]
     },
     "execution_count": 8,
     "metadata": {},
     "output_type": "execute_result"
    }
   ],
   "source": [
    "the_3_muskteers"
   ]
  },
  {
   "cell_type": "code",
   "execution_count": 9,
   "id": "d41700f3-f742-48f1-bb82-1c24cfe08286",
   "metadata": {},
   "outputs": [],
   "source": [
    "a_candidate = 'Larry'"
   ]
  },
  {
   "cell_type": "code",
   "execution_count": 10,
   "id": "c82a18b0-5e3a-4ec0-859f-1cd8e1b39ba2",
   "metadata": {},
   "outputs": [
    {
     "name": "stdout",
     "output_type": "stream",
     "text": [
      "Larry is not a muskteer.\n"
     ]
    }
   ],
   "source": [
    "if a_candidate in the_3_muskteers:\n",
    "    print(\"{} is a muskteer.\".format(a_candidate))\n",
    "else:\n",
    "    print(\"{} is not a muskteer.\".format(a_candidate))"
   ]
  },
  {
   "cell_type": "markdown",
   "id": "a3168b9e-8418-49d8-9584-ae3d04a4607d",
   "metadata": {},
   "source": [
    "### The `elif` statement\n",
    "\n",
    "Python also provides an `elif` statement (short for \"else if\") to chain a series of conditional blocks. The conditions are evaluated one by one. For the first condition that evaluates to `True`, the block of statements below it is executed. The remaining conditions and statements are not evaluated. So, in an `if`, `elif`, `elif`... chain, at most one block of statements is executed, the one corresponding to the first condition that evaluates to `True`. "
   ]
  },
  {
   "cell_type": "code",
   "execution_count": 11,
   "id": "38dc6e82-02b9-4302-bd05-937768577abe",
   "metadata": {},
   "outputs": [],
   "source": [
    "\n",
    "today = \"Wednesday\""
   ]
  },
  {
   "cell_type": "code",
   "execution_count": 12,
   "id": "e3b630fb-4d55-43af-a5f0-641c90f24f68",
   "metadata": {},
   "outputs": [
    {
     "name": "stdout",
     "output_type": "stream",
     "text": [
      "Today is wednesday I have to study TOC and attempt test \n"
     ]
    }
   ],
   "source": [
    "if today == 'Sunday':\n",
    "    print(\"Today is sunday I have to rest\")\n",
    "elif today == 'Monday':\n",
    "    print(\"Today is monday I have to study OS\")\n",
    "elif today == 'Tuesday':\n",
    "    print(\"Today is tuesday I have to study programming and DSA\")\n",
    "elif today == 'Wednesday':\n",
    "    print(\"Today is wednesday I have to study TOC and attempt test \")\n",
    "elif today == 'Thursday':\n",
    "    print(\"Today is thursday I have to learn python for data analytics\")\n",
    "elif today == 'Friday':\n",
    "    print(\"Today is Friday I have to wrap up with Linear algebra\")\n",
    "elif today == 'Saturday':\n",
    "    print(\"Today is saturday write all subjects weekly test for GATE I covered in this week\")\n",
    "\n"
   ]
  },
  {
   "cell_type": "markdown",
   "id": "e1f56b43-af97-4489-bddf-a3fb80c575b0",
   "metadata": {},
   "source": [
    "In the above example, the first 3 conditions evaluate to `False`, so none of the first 3 messages are printed. The fourth condition evaluates to `True`, so the corresponding message is printed. The remaining conditions are skipped. Try changing the value of `today` above and re-executing the cells to print all the different messages.\n",
    "\n",
    "\n",
    "To verify that the remaining conditions are skipped, let us try another example."
   ]
  },
  {
   "cell_type": "code",
   "execution_count": 13,
   "id": "1f19eef7-dfc3-4b27-8840-256e45206673",
   "metadata": {},
   "outputs": [],
   "source": [
    "a_number = 15"
   ]
  },
  {
   "cell_type": "code",
   "execution_count": 14,
   "id": "0e3e508a-8f88-4cd3-ada2-2e930d2149a9",
   "metadata": {},
   "outputs": [
    {
     "name": "stdout",
     "output_type": "stream",
     "text": [
      "15 is divisible by 3\n"
     ]
    }
   ],
   "source": [
    "if a_number % 2 == 0:\n",
    "    print(\"{} is divisible by 2 \".format(a_number))\n",
    "elif a_number % 3 ==0:\n",
    "    print(\"{} is divisible by 3\".format(a_number))\n",
    "elif a_number % 5 == 0:\n",
    "    print(\"{} is divisible by 5\".format(a_number))\n",
    "elif a_number % 7 == 0:\n",
    "    print(\"{} is divisible by 7\".format(a_number))"
   ]
  },
  {
   "cell_type": "markdown",
   "id": "70fa3be2-a69c-430a-95ea-4a86ba93c351",
   "metadata": {},
   "source": [
    "Note that the message `15 is divisible by 5` is not printed because the condition `a_number % 5 == 0` isn't evaluated, since the previous condition `a_number % 3 == 0` evaluates to `True`. This is the key difference between using a chain of `if`, `elif`, `elif`... statements vs. a chain of `if` statements, where each condition is evaluated independently."
   ]
  },
  {
   "cell_type": "code",
   "execution_count": 15,
   "id": "93b0bd14-20c4-4154-b8b5-df87d6fe8b6f",
   "metadata": {},
   "outputs": [
    {
     "name": "stdout",
     "output_type": "stream",
     "text": [
      "15 is divisible by 3\n",
      "15 is divisible by 5\n"
     ]
    }
   ],
   "source": [
    "if a_number % 2 == 0:\n",
    "    print(\"{} is divisible by 2 \".format(a_number))\n",
    "if a_number % 3 ==0:\n",
    "    print(\"{} is divisible by 3\".format(a_number))\n",
    "if a_number % 5 == 0:\n",
    "    print(\"{} is divisible by 5\".format(a_number))\n",
    "if a_number % 7 == 0:\n",
    "    print(\"{} is divisible by 7\".format(a_number))"
   ]
  },
  {
   "cell_type": "markdown",
   "id": "6144d799-47bc-47af-aca4-86b3dce71674",
   "metadata": {},
   "source": [
    "### Using `if`, `elif`, and `else` together\n",
    "\n",
    "You can also include an `else` statement at the end of a chain of `if`, `elif`... statements. This code within the `else` block is evaluated when none of the conditions hold true."
   ]
  },
  {
   "cell_type": "code",
   "execution_count": 16,
   "id": "25044f27-f7d4-43b4-bd95-8ef465894575",
   "metadata": {},
   "outputs": [],
   "source": [
    "a_number = 49\n"
   ]
  },
  {
   "cell_type": "code",
   "execution_count": 17,
   "id": "20fe02a6-f42a-4871-8e68-bc8abd326672",
   "metadata": {},
   "outputs": [
    {
     "name": "stdout",
     "output_type": "stream",
     "text": [
      "All checks failed!\n",
      "49 is not divisible by 2 , 3 or 5\n"
     ]
    }
   ],
   "source": [
    "if a_number % 2 == 0:\n",
    "    print(\"{} is divisible by 2\".format(a_number))\n",
    "elif a_number % 3 == 0:\n",
    "    print(\"{} is divisible by 3\".format(a_number))\n",
    "elif a_number % 5 == 0:\n",
    "    print(\"{} is divisible by 5\" .format(a_number))\n",
    "\n",
    "# If all conditionals failed \n",
    "else:\n",
    "    print(\"All checks failed!\")\n",
    "    print(\"{} is not divisible by 2 , 3 or 5\".format(a_number))"
   ]
  },
  {
   "cell_type": "markdown",
   "id": "e14febea-b5e3-47eb-9b48-b650adc18926",
   "metadata": {},
   "source": [
    "Conditions can also be combined using the logical operators `and`, `or` and `not`."
   ]
  },
  {
   "cell_type": "code",
   "execution_count": 18,
   "id": "7c0c088a-2de4-442c-bafa-aa81b53a7c49",
   "metadata": {},
   "outputs": [],
   "source": [
    "a_number = 12"
   ]
  },
  {
   "cell_type": "code",
   "execution_count": 19,
   "id": "b29ff226-bebe-40c6-83c0-f4c77b44d726",
   "metadata": {},
   "outputs": [
    {
     "name": "stdout",
     "output_type": "stream",
     "text": [
      "The number 12 is not divisible by 5\n"
     ]
    }
   ],
   "source": [
    "if a_number % 3 == 0 and a_number % 5 == 0:\n",
    "    print(\"The number {} is divisible by 3 and 5\".format(a_number))\n",
    "elif not a_number % 5 == 0:\n",
    "    print(\"The number {} is not divisible by 5\".format(a_number))"
   ]
  },
  {
   "cell_type": "markdown",
   "id": "4f21f2b9-acbd-4ec2-a23a-25b695ca8233",
   "metadata": {},
   "source": [
    "### Non-Boolean Conditions\n",
    "\n",
    "Note that conditions do not necessarily have to be booleans. In fact, a condition can be any value. The value is converted into a boolean automatically using the `bool` operator. This means that falsy values like `0`, `''`, `{}`, `[]`, etc. evaluate to `False` and all other values evaluate to `True`."
   ]
  },
  {
   "cell_type": "code",
   "execution_count": 20,
   "id": "8bf3ed0d-9708-44fa-9ea4-747a745ce81c",
   "metadata": {},
   "outputs": [
    {
     "name": "stdout",
     "output_type": "stream",
     "text": [
      "The condition evaluated to Falsse\n"
     ]
    }
   ],
   "source": [
    "if '':\n",
    "    print(\"The condition is evaluated to true\")\n",
    "else:\n",
    "    print(\"The condition evaluated to Falsse\")"
   ]
  },
  {
   "cell_type": "code",
   "execution_count": 21,
   "id": "caa3f0f4-3000-4e10-98fb-038a427e71fe",
   "metadata": {},
   "outputs": [
    {
     "name": "stdout",
     "output_type": "stream",
     "text": [
      "The condition is evaluated to True\n"
     ]
    }
   ],
   "source": [
    "if 'Hello':\n",
    "    print('The condition is evaluated to True')\n",
    "else:\n",
    "    print('The condition is evaluated to false')"
   ]
  },
  {
   "cell_type": "code",
   "execution_count": 22,
   "id": "fc9c0c34-abf6-4d33-a277-fabe97d18d16",
   "metadata": {},
   "outputs": [
    {
     "name": "stdout",
     "output_type": "stream",
     "text": [
      "The condition evaluated to True\n"
     ]
    }
   ],
   "source": [
    "if {'a' : 34}:\n",
    "    print('The condition evaluated to True')\n",
    "else:\n",
    "    print('The condition is evaluated to False')"
   ]
  },
  {
   "cell_type": "markdown",
   "id": "20d3fa02-e74a-42e7-a24c-b9fedf8cb6f9",
   "metadata": {},
   "source": [
    "### Nested conditional statements\n",
    "\n",
    "The code inside an `if` block can also include an `if` statement inside it. This pattern is called `nesting` and is used to check for another condition after a particular condition holds true."
   ]
  },
  {
   "cell_type": "code",
   "execution_count": 23,
   "id": "cb8eb71e-45fc-4b33-a2de-1048db0b9ffd",
   "metadata": {},
   "outputs": [],
   "source": [
    "a_number = 15"
   ]
  },
  {
   "cell_type": "code",
   "execution_count": 24,
   "id": "0f01e32d-502d-4fd3-924a-a78ae0d96796",
   "metadata": {},
   "outputs": [
    {
     "name": "stdout",
     "output_type": "stream",
     "text": [
      "15 is odd .\n",
      "15 is also divisible by 5\n"
     ]
    }
   ],
   "source": [
    "\n",
    "if a_number % 2 == 0:\n",
    "    print(\"{} is even .\".format(a_number))\n",
    "    if a_number % 3 == 0:\n",
    "        print(\"{} is a lso divisible by 3 \".format(a_number))\n",
    "else:\n",
    "    print(\"{} is odd .\".format(a_number))\n",
    "    if a_number % 5 == 0:\n",
    "        print(\"{} is also divisible by 5\".format(a_number))\n",
    "    else:\n",
    "        print(\"{} is not divisible by 5\".format(a_number))"
   ]
  },
  {
   "cell_type": "markdown",
   "id": "142972e7-5805-4c72-9b5a-cdce9533baff",
   "metadata": {},
   "source": [
    "Notice how the `print` statements are indented by 8 spaces to indicate that they are part of the inner `if`/`else` blocks.\n",
    "\n",
    "> Nested `if`, `else` statements are often confusing to read and prone to human error. It's good to avoid nesting whenever possible, or limit the nesting to 1 or 2 levels."
   ]
  },
  {
   "cell_type": "markdown",
   "id": "345c5ff8-614e-4f60-91d3-7cf6a1edaadc",
   "metadata": {},
   "source": [
    "### Shorthand `if` conditional expression\n",
    "\n",
    "A frequent use case of the `if` statement involves testing a condition and setting a variable's value based on the condition."
   ]
  },
  {
   "cell_type": "markdown",
   "id": "3da870d3-e14d-4c82-9932-423b84f74f13",
   "metadata": {},
   "source": [
    "a_number = 13\n",
    "\n",
    "if a_number % 2 == 0:\n",
    "    parity = 'even'\n",
    "else:\n",
    "    parity = 'odd'\n",
    "\n",
    "print('The number {} is {}'.format(a_number,parity))"
   ]
  },
  {
   "cell_type": "markdown",
   "id": "fac624c2-74ba-4060-a978-4f9bc1653664",
   "metadata": {},
   "source": [
    "Python provides a shorter syntax, which allows writing such conditions in a single line of code. It is known as a *conditional expression*, sometimes also referred to as a *ternary operator*. It has the following syntax:\n",
    "\n",
    "```\n",
    "x = true_value if condition else false_value\n",
    "```\n",
    "\n",
    "It has the same behavior as the following `if`-`else` block:\n",
    "\n",
    "```\n",
    "if condition:\n",
    "    x = true_value\n",
    "else:\n",
    "    x = false_value\n",
    "```\n",
    "\n",
    "Let's try it out for the example above."
   ]
  },
  {
   "cell_type": "code",
   "execution_count": 25,
   "id": "3b323ea7-6703-4da9-af8e-2d345574b8a5",
   "metadata": {},
   "outputs": [
    {
     "data": {
      "text/plain": [
       "15"
      ]
     },
     "execution_count": 25,
     "metadata": {},
     "output_type": "execute_result"
    }
   ],
   "source": [
    "a_number"
   ]
  },
  {
   "cell_type": "code",
   "execution_count": 26,
   "id": "7f2c239f-3fe6-41ec-9b49-42165479fe11",
   "metadata": {},
   "outputs": [],
   "source": [
    "parity = 'even' if a_number % 2 == 0 else 'odd'"
   ]
  },
  {
   "cell_type": "code",
   "execution_count": 27,
   "id": "22b827f6-fb8c-4b2f-9303-cf76eb442b2c",
   "metadata": {},
   "outputs": [
    {
     "name": "stdout",
     "output_type": "stream",
     "text": [
      "The number 15 is odd \n"
     ]
    }
   ],
   "source": [
    "print('The number {} is {} '.format(a_number,parity))"
   ]
  },
  {
   "cell_type": "markdown",
   "id": "f1d3db12-6df7-47da-94fc-2440d695b33e",
   "metadata": {},
   "source": [
    "### Statements and Expressions\n",
    "\n",
    "The conditional expression highlights an essential distinction between *statements* and *expressions* in Python. \n",
    "\n",
    "> **Statements**: A statement is an instruction that can be executed. Every line of code we have written so far is a statement e.g. assigning a variable, calling a function, conditional statements using `if`, `else`, and `elif`, loops using `for` and `while` etc.\n",
    "\n",
    "> **Expressions**: An expression is some code that evaluates to a value. Examples include values of different data types, arithmetic expressions, conditions, variables, function calls, conditional expressions, etc. \n",
    "\n",
    "\n",
    "Most expressions can be executed as statements, but not all statements are expressions. For example, the regular `if` statement is not an expression since it does not evaluate to a value. It merely performs some branching in the code. Similarly, loops and function definitions are not expressions (we'll learn more about these in later sections).\n",
    "\n",
    "As a rule of thumb, an expression is anything that can appear on the right side of the assignment operator `=`. You can use this as a test for checking whether something is an expression or not. You'll get a syntax error if you try to assign something that is not an expression."
   ]
  },
  {
   "cell_type": "code",
   "execution_count": 28,
   "id": "e3ebd027-19b7-43bd-b1e6-23d21c2d578e",
   "metadata": {},
   "outputs": [
    {
     "ename": "SyntaxError",
     "evalue": "invalid syntax (2122321328.py, line 2)",
     "output_type": "error",
     "traceback": [
      "  \u001b[36mCell\u001b[39m\u001b[36m \u001b[39m\u001b[32mIn[28]\u001b[39m\u001b[32m, line 2\u001b[39m\n\u001b[31m    \u001b[39m\u001b[31mresult = if a_number % 2 == 0:\u001b[39m\n             ^\n\u001b[31mSyntaxError\u001b[39m\u001b[31m:\u001b[39m invalid syntax\n"
     ]
    }
   ],
   "source": [
    "# if statement\n",
    "result = if a_number % 2 == 0:\n",
    "    'even'\n",
    "else:\n",
    "    'odd'"
   ]
  },
  {
   "cell_type": "code",
   "execution_count": null,
   "id": "2e8bcd6c-22f8-4cee-900f-dea31bf5e8ea",
   "metadata": {},
   "outputs": [],
   "source": [
    "# if expression \n",
    "result = 'even' if a_number % 2 == 0 else 'odd'"
   ]
  },
  {
   "cell_type": "markdown",
   "id": "c78a1a7a-e176-47b4-8a05-64fb06ce6c4a",
   "metadata": {},
   "source": [
    "### The `pass` statement\n",
    "\n",
    "`if` statements cannot be empty, there must be at least one statement in every `if` and `elif` block. You can use the `pass` statement to do nothing and avoid getting an error."
   ]
  },
  {
   "cell_type": "code",
   "execution_count": null,
   "id": "4e65acf0-77a7-471f-8bb2-11bbc3963f6d",
   "metadata": {},
   "outputs": [],
   "source": [
    "a_number = 9\n"
   ]
  },
  {
   "cell_type": "code",
   "execution_count": null,
   "id": "6a684eca-6ac2-4439-9c24-ab51039a6e5b",
   "metadata": {},
   "outputs": [],
   "source": [
    "if a_number % 2 == 0:\n",
    "elif a_number % 3 == 0:\n",
    "    print('{} is dividible by 3 but not divisible by 2')"
   ]
  },
  {
   "cell_type": "code",
   "execution_count": null,
   "id": "47ddb773-3f65-44db-809e-cdc88c3b319d",
   "metadata": {},
   "outputs": [],
   "source": [
    "# To avoid this error we use pass statement insted of leaving a block empty\n",
    "\n",
    "if a_number % 2 == 0:\n",
    "    pass\n",
    "elif a_number % 3 == 0:\n",
    "    print('{} is divisible by 3 but not divisible by 2'.format(a_number))"
   ]
  },
  {
   "cell_type": "markdown",
   "id": "a750b493-393a-41c3-8726-ca331e0ac147",
   "metadata": {},
   "source": [
    "## Iteration with `while` loops\n",
    "\n",
    "Another powerful feature of programming languages, closely related to branching, is running one or more statements multiple times. This feature is often referred to as *iteration* on *looping*, and there are two ways to do this in Python: using `while` loops and `for` loops. \n",
    "\n",
    "`while` loops have the following syntax:\n",
    "\n",
    "```\n",
    "while condition:\n",
    "    statement(s)\n",
    "```\n",
    "\n",
    "Statements in the code block under `while` are executed repeatedly as long as the `condition` evaluates to `True`. Generally, one of the statements under `while` makes some change to a variable that causes the condition to evaluate to `False` after a certain number of iterations.\n",
    "\n",
    "Let's try to calculate the factorial of `100` using a `while` loop. The factorial of a number `n` is the product (multiplication) of all the numbers from `1` to `n`, i.e., `1*2*3*...*(n-2)*(n-1)*n`."
   ]
  },
  {
   "cell_type": "code",
   "execution_count": null,
   "id": "bb00953b-1d94-4125-aa37-20857fb4fe0f",
   "metadata": {},
   "outputs": [],
   "source": [
    "result = 1\n",
    "i=1\n",
    "\n",
    "while i<=100:            # Checks wether value of i is less than or equal to 100(Stops when i is grater than 100)\n",
    "    result = result * i  #Miltiplies result=1* i=1\n",
    "    i=i+1                #Increments i to one number\n",
    "\n",
    "print('The factorial of 100 {}'.format(result))"
   ]
  },
  {
   "cell_type": "markdown",
   "id": "308b4423-43c3-4ce2-83a8-5d5ec1c5f4e4",
   "metadata": {},
   "source": [
    "Here's how the above code works:\n",
    "\n",
    "* We initialize two variables, `result` and, `i`. `result` will contain the final outcome. And `i` is used to keep track of the next number to be multiplied with `result`. Both are initialized to 1 (can you explain why?)\n",
    "\n",
    "* The condition `i <= 100` holds true (since `i` is initially `1`), so the `while` block is executed.\n",
    "\n",
    "* The `result` is updated to `result * i`, `i` is increased by `1` and it now has the value `2`.\n",
    "\n",
    "* At this point, the condition `i <= 100` is evaluated again. Since it continues to hold true, `result` is again updated to `result * i`, and `i` is increased to `3`.\n",
    "\n",
    "* This process is repeated till the condition becomes false, which happens when `i` holds the value `101`. Once the condition evaluates to `False`, the execution of the loop ends, and the `print` statement below it is executed. \n",
    "\n",
    "Can you see why `result` contains the value of the factorial of 100 at the end? If not, try adding `print` statements inside the `while` block to print `result` and `i` in each iteration.\n",
    "\n",
    "\n",
    "> Iteration is a powerful technique because it gives computers a massive advantage over human beings in performing thousands or even millions of repetitive operations really fast. With just 4-5 lines of code, we were able to multiply 100 numbers almost instantly. The same code can be used to multiply a thousand numbers (just change the condition to `i <= 1000`) in a few seconds.\n",
    "\n",
    "You can check how long a cell takes to execute by adding the *magic* command `%%time` at the top of a cell. Try checking how long it takes to compute the factorial of `100`, `1000`, `10000`, `100000`, etc. "
   ]
  },
  {
   "cell_type": "code",
   "execution_count": null,
   "id": "99b0e916-a2c9-43e5-b36a-37f42482f2c2",
   "metadata": {},
   "outputs": [],
   "source": [
    "%%time\n",
    "\n",
    "result = 1\n",
    "i = 1\n",
    "while i <= 100:\n",
    "    result *= i #same as result = result * i\n",
    "    i += 1 # same as i = i + 1\n",
    "\n",
    "print(result)"
   ]
  },
  {
   "cell_type": "markdown",
   "id": "8642f99c-72af-474d-956a-13cd56438a6f",
   "metadata": {},
   "source": [
    "Here's another example that uses two `while` loops to create an interesting pattern."
   ]
  },
  {
   "cell_type": "code",
   "execution_count": null,
   "id": "17cf1c1e-8311-4af2-8d2f-7a753494be62",
   "metadata": {},
   "outputs": [],
   "source": [
    "i = 1\n",
    "length = 6\n",
    "\n",
    "while i <= length:\n",
    "    print('*' * i + ' '*(length - i))\n",
    "    i += 1\n",
    "\n",
    "i = length - 1\n",
    "while i >= 0:\n",
    "    print('*' * i + ' '*(length - i))\n",
    "    i-=1"
   ]
  },
  {
   "cell_type": "markdown",
   "id": "6604a63d-3299-4a32-b917-a8a51b0d8cd4",
   "metadata": {},
   "source": [
    "Can you see how the above example works? As an exercise, try printing the following pattern using a while loop (Hint: use string concatenation):\n",
    "\n",
    "```\n",
    "          *\n",
    "         **\n",
    "        ***\n",
    "       ****\n",
    "      *****\n",
    "     ******\n",
    "      *****\n",
    "       ****\n",
    "        ***\n",
    "         **\n",
    "          *\n",
    "```\n",
    "\n",
    "Here's another one, putting the two together:\n",
    "\n",
    "\n",
    "```\n",
    "          *\n",
    "         ***\n",
    "        *****\n",
    "       *******\n",
    "      *********\n",
    "     ***********\n",
    "      *********\n",
    "       *******\n",
    "        *****\n",
    "         ***\n",
    "          *\n",
    "```"
   ]
  },
  {
   "cell_type": "code",
   "execution_count": null,
   "id": "ce65a875-1375-474d-9426-13dd5078729e",
   "metadata": {},
   "outputs": [],
   "source": [
    "i = 1\n",
    "length = 6\n",
    "\n",
    "while i <= length:\n",
    "    print(' ' * (length - i) + '*' * (2*i - 1))\n",
    "    i += 1\n",
    "\n",
    "i = length - 1\n",
    "while i > 0:\n",
    "    print(' '* (length - i) + '*' * (2*i - 1))\n",
    "    i-=1"
   ]
  },
  {
   "cell_type": "code",
   "execution_count": null,
   "id": "8cb014d3-1758-4af4-8962-ad497bc9b590",
   "metadata": {},
   "outputs": [],
   "source": [
    "i = 1\n",
    "length = 6\n",
    "while i <= length:\n",
    "    print(' '*(length - i) + '*' * i)\n",
    "    i+=1\n",
    "\n",
    "i = length - 1\n",
    "while i >= 0:\n",
    "    print(' '*(length - i) + '*' * i)\n",
    "    i-=1"
   ]
  },
  {
   "cell_type": "markdown",
   "id": "99c27ecc-e732-42b7-9b39-3843cdfe5af3",
   "metadata": {},
   "source": [
    "### Infinite Loops\n",
    "\n",
    "Suppose the condition in a `while` loop always holds true. In that case, Python repeatedly executes the code within the loop forever, and the execution of the code never completes. This situation is called an infinite loop. It generally indicates that you've made a mistake in your code. For example, you may have provided the wrong condition or forgotten to update a variable within the loop, eventually falsifying the condition.\n",
    "\n",
    "If your code is *stuck* in an infinite loop during execution, just press the \"Stop\" button on the toolbar (next to \"Run\") or select \"Kernel > Interrupt\" from the menu bar. This will *interrupt* the execution of the code. The following two cells both lead to infinite loops and need to be interrupted.\n"
   ]
  },
  {
   "cell_type": "code",
   "execution_count": null,
   "id": "e650dd33-e94d-41ac-bafa-3ec37d32cbea",
   "metadata": {},
   "outputs": [],
   "source": [
    "#INFINITE LOOP - INTERRUPT THIS CELL\n",
    "\n",
    "result = 1\n",
    "i = 1 \n",
    "\n",
    "while i <= 100:\n",
    "    result = result * i\n",
    "    #Didnot increment"
   ]
  },
  {
   "cell_type": "code",
   "execution_count": null,
   "id": "3ab31ea5-a75d-4e26-ab52-7e370a9ec772",
   "metadata": {},
   "outputs": [],
   "source": [
    "# INFINITE LOOP - INTERRUPT THIS CELL\n",
    "\n",
    "result = 1\n",
    "i = 1\n",
    "\n",
    "while i > 0 : # wrong condition\n",
    "    result *= i\n",
    "    i += 1"
   ]
  },
  {
   "cell_type": "markdown",
   "id": "ec68cf62-2e5d-4406-9290-6a4fccd55372",
   "metadata": {},
   "source": [
    "### `break` and `continue` statements\n",
    "\n",
    "You can use the `break` statement within the loop's body to immediately stop the execution and *break* out of the loop (even if the condition provided to `while` still holds true)."
   ]
  },
  {
   "cell_type": "code",
   "execution_count": 29,
   "id": "1457b49e-5ac8-4304-8aae-2f2231e80013",
   "metadata": {},
   "outputs": [
    {
     "name": "stdout",
     "output_type": "stream",
     "text": [
      "Magic number 42 reached ! stopped execution\n",
      "i =  42\n",
      "Result =  1405006117752879898543142606244511569936384000000000\n"
     ]
    }
   ],
   "source": [
    "i = 1\n",
    "result = 1\n",
    "\n",
    "while i <= 100:\n",
    "    result *= i\n",
    "    if i == 42:\n",
    "        print(\"Magic number 42 reached ! stopped execution\")\n",
    "        break\n",
    "    i+=1\n",
    "\n",
    "print('i = ',i)\n",
    "print(\"Result = \",result)"
   ]
  },
  {
   "cell_type": "markdown",
   "id": "6b70dac8-d90e-4e56-afd2-01ac422dd3a2",
   "metadata": {},
   "source": [
    "## Iteration with `for` loops\n",
    "\n",
    "A `for` loop is used for iterating or looping over sequences, i.e., lists, tuples, dictionaries, strings, and *ranges*. For loops have the following syntax:\n",
    "\n",
    "```\n",
    "for value in sequence:\n",
    "    statement(s)\n",
    "```\n",
    "\n",
    "The statements within the loop are executed once for each element in `sequence`. Here's an example that prints all the element of a list."
   ]
  },
  {
   "cell_type": "code",
   "execution_count": 30,
   "id": "bbf003a5-92f0-40c7-be82-c73945b1bdf7",
   "metadata": {},
   "outputs": [
    {
     "name": "stdout",
     "output_type": "stream",
     "text": [
      "Monday\n",
      "Tuesday\n",
      "Wednesday\n",
      "Thursday\n",
      "Friday\n"
     ]
    }
   ],
   "source": [
    "days = ['Monday' , 'Tuesday' ,'Wednesday' ,'Thursday' ,'Friday']\n",
    "\n",
    "for day in days:\n",
    "    print(day)"
   ]
  },
  {
   "cell_type": "markdown",
   "id": "06902818-43cb-462d-8ecc-1d4116e1e5ad",
   "metadata": {},
   "source": [
    "Let's try using `for` loops with some other data types."
   ]
  },
  {
   "cell_type": "code",
   "execution_count": 31,
   "id": "46b20b2f-a809-471e-b0bd-27407edb8420",
   "metadata": {},
   "outputs": [
    {
     "name": "stdout",
     "output_type": "stream",
     "text": [
      "M\n",
      "o\n",
      "n\n",
      "d\n",
      "a\n",
      "y\n"
     ]
    }
   ],
   "source": [
    "for char in 'Monday':\n",
    "    print(char)"
   ]
  },
  {
   "cell_type": "code",
   "execution_count": 32,
   "id": "75304c67-8def-4e92-b3ef-280fdec7fe09",
   "metadata": {},
   "outputs": [
    {
     "name": "stdout",
     "output_type": "stream",
     "text": [
      "Here is a fruit: Apple\n",
      "Here is a fruit: Banana\n",
      "Here is a fruit: Guava\n"
     ]
    }
   ],
   "source": [
    "#looping over a tuple\n",
    "\n",
    "for fruit in ('Apple' , 'Banana' , 'Guava'):\n",
    "    print(\"Here is a fruit:\" , fruit)"
   ]
  },
  {
   "cell_type": "code",
   "execution_count": 33,
   "id": "0ca1c567-cc71-4a19-bcfd-1cc53249c80f",
   "metadata": {},
   "outputs": [
    {
     "name": "stdout",
     "output_type": "stream",
     "text": [
      "Key: name , Value: John Doe\n",
      "Key: sex , Value: Male\n",
      "Key: age , Value: 32\n",
      "Key: Married , Value: True\n"
     ]
    }
   ],
   "source": [
    "#looping over a dictionary\n",
    "\n",
    "person = {\n",
    "    'name' : 'John Doe',\n",
    "    'sex' : 'Male' ,\n",
    "    'age' : 32 ,\n",
    "    'Married' : True\n",
    "}\n",
    "\n",
    "for key in person:\n",
    "    print(\"Key:\" , key,\",\" , \"Value:\" ,person[key])"
   ]
  },
  {
   "cell_type": "markdown",
   "id": "f0e62dde-6a60-4063-bd48-d829a44beae8",
   "metadata": {},
   "source": [
    "Note that while using a dictionary with a `for` loop, the iteration happens over the dictionary's keys. The key can be used within the loop to access the value. You can also iterate directly over the values using the `.values` method or over key-value pairs using the `.items` method."
   ]
  },
  {
   "cell_type": "code",
   "execution_count": 35,
   "id": "cb0147c1-8ec6-4a5a-91d4-a91ef0c792cd",
   "metadata": {},
   "outputs": [
    {
     "name": "stdout",
     "output_type": "stream",
     "text": [
      "John Doe\n",
      "Male\n",
      "32\n",
      "True\n"
     ]
    }
   ],
   "source": [
    "for value in person.values():\n",
    "    print(value)"
   ]
  },
  {
   "cell_type": "code",
   "execution_count": 36,
   "id": "b18d61e7-e54d-45d0-84f7-0998187fc68a",
   "metadata": {},
   "outputs": [
    {
     "name": "stdout",
     "output_type": "stream",
     "text": [
      "('name', 'John Doe')\n",
      "('sex', 'Male')\n",
      "('age', 32)\n",
      "('Married', True)\n"
     ]
    }
   ],
   "source": [
    "for key_value_pair in person.items():\n",
    "    print(key_value_pair)"
   ]
  },
  {
   "cell_type": "markdown",
   "id": "e57474d3-e6b1-4917-8d42-f61adbdd3d31",
   "metadata": {},
   "source": [
    "Since a key-value pair is a tuple, we can also extract the key & value into separate variables."
   ]
  },
  {
   "cell_type": "code",
   "execution_count": 37,
   "id": "7e3ce997-aa4d-4434-a29f-88b858b9fd6d",
   "metadata": {},
   "outputs": [
    {
     "name": "stdout",
     "output_type": "stream",
     "text": [
      "Key : name , Value: John Doe\n",
      "Key : sex , Value: Male\n",
      "Key : age , Value: 32\n",
      "Key : Married , Value: True\n"
     ]
    }
   ],
   "source": [
    "for key, value in person.items():\n",
    "    print(\"Key :\",key ,\",\" ,\"Value:\",value)"
   ]
  },
  {
   "cell_type": "markdown",
   "id": "7359aa38-9e71-4057-a6c2-ebfa31ad1efd",
   "metadata": {},
   "source": [
    "### Iterating using `range` and `enumerate`\n",
    "\n",
    "The `range` function is used to create a sequence of numbers that can be iterated over using a `for` loop. It can be used in 3 ways:\n",
    " \n",
    "* `range(n)` - Creates a sequence of numbers from `0` to `n-1`\n",
    "* `range(a, b)` - Creates a sequence of numbers from `a` to `b-1`\n",
    "* `range(a, b, step)` - Creates a sequence of numbers from `a` to `b-1` with increments of `step`\n",
    "\n",
    "Let's try it out."
   ]
  },
  {
   "cell_type": "code",
   "execution_count": 38,
   "id": "cbe4ddfc-194b-4a77-a334-be4296774194",
   "metadata": {},
   "outputs": [
    {
     "name": "stdout",
     "output_type": "stream",
     "text": [
      "0\n",
      "1\n",
      "2\n",
      "3\n",
      "4\n",
      "5\n",
      "6\n"
     ]
    }
   ],
   "source": [
    "for i in range(7):\n",
    "    print(i)"
   ]
  },
  {
   "cell_type": "code",
   "execution_count": 39,
   "id": "5e443d3a-0349-46f0-8489-c589b4fc7603",
   "metadata": {},
   "outputs": [
    {
     "name": "stdout",
     "output_type": "stream",
     "text": [
      "3\n",
      "4\n",
      "5\n",
      "6\n",
      "7\n",
      "8\n",
      "9\n"
     ]
    }
   ],
   "source": [
    "for i in range(3,10):\n",
    "    print(i)"
   ]
  },
  {
   "cell_type": "code",
   "execution_count": 40,
   "id": "2e146ab2-d680-4665-aac5-b0e966d6c9ce",
   "metadata": {},
   "outputs": [
    {
     "name": "stdout",
     "output_type": "stream",
     "text": [
      "3\n",
      "7\n",
      "11\n"
     ]
    }
   ],
   "source": [
    "for i in range(3,14,4):\n",
    "    print(i)"
   ]
  },
  {
   "cell_type": "markdown",
   "id": "70594573-2b66-44b5-9d56-421b7166896d",
   "metadata": {},
   "source": [
    "Ranges are used for iterating over lists when you need to track the index of elements while iterating."
   ]
  },
  {
   "cell_type": "code",
   "execution_count": 41,
   "id": "ed3435c6-ab1b-4f54-99c0-b51c56eecb2a",
   "metadata": {},
   "outputs": [
    {
     "name": "stdout",
     "output_type": "stream",
     "text": [
      "The value at position 0 is Monday.\n",
      "The value at position 1 is Tuesday.\n",
      "The value at position 2 is Wednesday.\n",
      "The value at position 3 is Thursday.\n",
      "The value at position 4 is Friday.\n"
     ]
    }
   ],
   "source": [
    "a_list = ['Monday' ,'Tuesday' ,'Wednesday' ,'Thursday' ,'Friday']\n",
    "\n",
    "for i in range(len(a_list)):\n",
    "    print('The value at position {} is {}.'.format(i , a_list[i]))"
   ]
  },
  {
   "cell_type": "markdown",
   "id": "30c091da-df47-408a-9037-696949b02af3",
   "metadata": {},
   "source": [
    "Another way to achieve the same result is by using the `enumerate` function with `a_list` as an input, which returns a tuple containing the index and the corresponding element."
   ]
  },
  {
   "cell_type": "code",
   "execution_count": 42,
   "id": "0b3d14d1-b140-43e1-9295-4fdcfafe28bd",
   "metadata": {},
   "outputs": [
    {
     "name": "stdout",
     "output_type": "stream",
     "text": [
      "The value at position 0 is Monday .\n",
      "The value at position 1 is Tuesday .\n",
      "The value at position 2 is Wednesday .\n",
      "The value at position 3 is Thursday .\n",
      "The value at position 4 is Friday .\n"
     ]
    }
   ],
   "source": [
    "for i ,val in enumerate(a_list):\n",
    "    print('The value at position {} is {} .'.format(i,val))"
   ]
  },
  {
   "cell_type": "markdown",
   "id": "cc873112-ad95-43db-b2d3-3e3c6941f5ca",
   "metadata": {},
   "source": [
    "### `break`, `continue` and `pass` statements\n",
    "\n",
    "Similar to `while` loops, `for` loops also support the `break` and `continue` statements. `break` is used for breaking out of the loop and `continue` is used for skipping ahead to the next iteration."
   ]
  },
  {
   "cell_type": "code",
   "execution_count": 43,
   "id": "7929a5c5-fdcc-4ce4-b739-ba77ec474464",
   "metadata": {},
   "outputs": [],
   "source": [
    "weekdays = ['Monday' ,'Tuesday' ,'Wednesday' ,'Thursday' ,'Friday']"
   ]
  },
  {
   "cell_type": "code",
   "execution_count": 44,
   "id": "8c173679-b47b-4fb8-9648-9589d32330dc",
   "metadata": {},
   "outputs": [
    {
     "name": "stdout",
     "output_type": "stream",
     "text": [
      "Today is Monday\n",
      "Today is Tuesday\n",
      "Today is Wednesday\n",
      "I don't work beyond Wednesday!\n"
     ]
    }
   ],
   "source": [
    "for day in weekdays:\n",
    "    print('Today is {}'.format(day))\n",
    "    if (day == 'Wednesday'):\n",
    "        print(\"I don't work beyond Wednesday!\")\n",
    "        break"
   ]
  },
  {
   "cell_type": "code",
   "execution_count": 45,
   "id": "899ff21c-a9c3-4485-a6ac-7f65dfd8aefb",
   "metadata": {},
   "outputs": [
    {
     "name": "stdout",
     "output_type": "stream",
     "text": [
      "Today is Monday\n",
      "Today is Tuesday\n",
      "I don't work on Wednesday!\n",
      "Today is Thursday\n",
      "Today is Friday\n"
     ]
    }
   ],
   "source": [
    "for day in weekdays:\n",
    "    if(day == 'Wednesday'):\n",
    "        print(\"I don't work on Wednesday!\")\n",
    "        continue\n",
    "    print('Today is {}'.format(day))"
   ]
  },
  {
   "cell_type": "markdown",
   "id": "4a948d2f-0606-41d1-be82-e40981af6b7f",
   "metadata": {},
   "source": [
    "Like `if` statements, `for` loops cannot be empty, so you can use a `pass` statement if you don't want to execute any statements inside the loop."
   ]
  },
  {
   "cell_type": "code",
   "execution_count": 46,
   "id": "2ebe5b97-9ea0-4967-8aa6-2925af67ca4e",
   "metadata": {},
   "outputs": [],
   "source": [
    "for day in weekdays:\n",
    "    pass"
   ]
  },
  {
   "cell_type": "markdown",
   "id": "514edf15-39d5-4a1c-beba-142bc608615f",
   "metadata": {},
   "source": [
    "### Nested `for` and `while` loops\n",
    "\n",
    "Similar to conditional statements, loops can be nested inside other loops. This is useful for looping lists of lists, dictionaries etc."
   ]
  },
  {
   "cell_type": "code",
   "execution_count": 47,
   "id": "feb592dc-9662-4d95-915d-25085379caf1",
   "metadata": {},
   "outputs": [
    {
     "name": "stdout",
     "output_type": "stream",
     "text": [
      "name : John\n",
      "sex : Male\n",
      " \n",
      "name : Jane\n",
      "sex : Female\n",
      " \n"
     ]
    }
   ],
   "source": [
    "persons = [{'name':'John', 'sex':'Male'},{'name':'Jane','sex':'Female'}]\n",
    "\n",
    "for person in persons:\n",
    "    for key in person:\n",
    "        print(key , \":\" ,person[key])\n",
    "    print(\" \")"
   ]
  },
  {
   "cell_type": "code",
   "execution_count": 49,
   "id": "ad429b23-ed6b-4006-83ad-8f84e1702932",
   "metadata": {},
   "outputs": [
    {
     "name": "stdout",
     "output_type": "stream",
     "text": [
      "Monday apple\n",
      "Monday banana\n",
      "Monday Guava\n",
      "Tuesday apple\n",
      "Tuesday banana\n",
      "Tuesday Guava\n",
      "Wednesday apple\n",
      "Wednesday banana\n",
      "Wednesday Guava\n"
     ]
    }
   ],
   "source": [
    "days = ['Monday', 'Tuesday' , 'Wednesday']\n",
    "fruits = ['apple' ,'banana' , 'Guava']\n",
    "\n",
    "for day in days:\n",
    "    for fruit in fruits:\n",
    "        print(day,fruit)"
   ]
  },
  {
   "cell_type": "markdown",
   "id": "8811570a-c664-40bf-a849-539d88daa9c0",
   "metadata": {},
   "source": [
    "## END"
   ]
  }
 ],
 "metadata": {
  "kernelspec": {
   "display_name": "Python 3 (ipykernel)",
   "language": "python",
   "name": "python3"
  },
  "language_info": {
   "codemirror_mode": {
    "name": "ipython",
    "version": 3
   },
   "file_extension": ".py",
   "mimetype": "text/x-python",
   "name": "python",
   "nbconvert_exporter": "python",
   "pygments_lexer": "ipython3",
   "version": "3.12.8"
  }
 },
 "nbformat": 4,
 "nbformat_minor": 5
}
