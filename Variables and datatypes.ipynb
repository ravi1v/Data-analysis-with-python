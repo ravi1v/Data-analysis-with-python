{
 "cells": [
  {
   "cell_type": "code",
   "execution_count": 1,
   "id": "66c733f9-85d8-4963-a3b2-3377e58d4709",
   "metadata": {},
   "outputs": [],
   "source": [
    "my_favorite_color=\"blue\""
   ]
  },
  {
   "cell_type": "code",
   "execution_count": 2,
   "id": "d59ce6a5-d595-4247-a495-f9925fefcc96",
   "metadata": {},
   "outputs": [
    {
     "data": {
      "text/plain": [
       "'blue'"
      ]
     },
     "execution_count": 2,
     "metadata": {},
     "output_type": "execute_result"
    }
   ],
   "source": [
    "my_favorite_color"
   ]
  },
  {
   "cell_type": "markdown",
   "id": "52a458c9-aed0-4b76-a8b2-108ab1269102",
   "metadata": {},
   "source": [
    "###\n",
    "A variable is created using an assignment statement. It begins with the variable's name, followed by the assignment operator = followed by the value to be stored within the variable. Note that the assignment operator = is different from the equality comparison operator ==.\n",
    "\n",
    "You can also assign values to multiple variables in a single statement by separating the variable names and values with commas."
   ]
  },
  {
   "cell_type": "code",
   "execution_count": 3,
   "id": "d3894295-a3c1-4604-947d-82b341b9d3b0",
   "metadata": {},
   "outputs": [],
   "source": [
    "color1,color2,color3=\"red\",\"green\",\"blue\""
   ]
  },
  {
   "cell_type": "code",
   "execution_count": 5,
   "id": "d98b3a2b-372a-49bc-a874-7b4987454c54",
   "metadata": {},
   "outputs": [
    {
     "data": {
      "text/plain": [
       "'red'"
      ]
     },
     "execution_count": 5,
     "metadata": {},
     "output_type": "execute_result"
    }
   ],
   "source": [
    "color1"
   ]
  },
  {
   "cell_type": "code",
   "execution_count": 6,
   "id": "448e7b43-44c0-43b4-a3c5-4641ecf6bd0a",
   "metadata": {},
   "outputs": [
    {
     "data": {
      "text/plain": [
       "'green'"
      ]
     },
     "execution_count": 6,
     "metadata": {},
     "output_type": "execute_result"
    }
   ],
   "source": [
    "color2"
   ]
  },
  {
   "cell_type": "code",
   "execution_count": 7,
   "id": "4315680d-6a57-4cf3-aaa6-0aa0a6de8a58",
   "metadata": {},
   "outputs": [
    {
     "data": {
      "text/plain": [
       "'blue'"
      ]
     },
     "execution_count": 7,
     "metadata": {},
     "output_type": "execute_result"
    }
   ],
   "source": [
    "color3"
   ]
  },
  {
   "cell_type": "markdown",
   "id": "3fd6d3b4-e2cc-428e-a402-824e131f2151",
   "metadata": {},
   "source": [
    "You can assign the same value to multiple variables by chaining multiple assignment operations within a single statement."
   ]
  },
  {
   "cell_type": "code",
   "execution_count": 8,
   "id": "53d5b99b-6420-42c8-8dc7-29a48991295f",
   "metadata": {},
   "outputs": [],
   "source": [
    "color4=color5=color6=\"Magenta\""
   ]
  },
  {
   "cell_type": "code",
   "execution_count": 9,
   "id": "1ea55bd9-7e83-4e33-b408-8e03622c175b",
   "metadata": {},
   "outputs": [
    {
     "data": {
      "text/plain": [
       "'Magenta'"
      ]
     },
     "execution_count": 9,
     "metadata": {},
     "output_type": "execute_result"
    }
   ],
   "source": [
    "color4"
   ]
  },
  {
   "cell_type": "code",
   "execution_count": 10,
   "id": "b68b6164-2ad8-477c-b5be-91846da1c405",
   "metadata": {},
   "outputs": [
    {
     "data": {
      "text/plain": [
       "'Magenta'"
      ]
     },
     "execution_count": 10,
     "metadata": {},
     "output_type": "execute_result"
    }
   ],
   "source": [
    "color5"
   ]
  },
  {
   "cell_type": "code",
   "execution_count": 11,
   "id": "eb9c0bf5-68ef-4069-ae3d-e797108d31d5",
   "metadata": {},
   "outputs": [
    {
     "data": {
      "text/plain": [
       "'Magenta'"
      ]
     },
     "execution_count": 11,
     "metadata": {},
     "output_type": "execute_result"
    }
   ],
   "source": [
    "color6"
   ]
  },
  {
   "cell_type": "markdown",
   "id": "f9b3d047-da02-4459-9be4-853061f39e00",
   "metadata": {},
   "source": [
    "You can change the value stored within a variable by assigning a new value to it using another assignment statement. Be careful while reassigning variables: when you assign a new value to the variable, the old value is lost and no longer accessible."
   ]
  },
  {
   "cell_type": "code",
   "execution_count": 12,
   "id": "b8643e28-63a6-42d8-bed2-e55b6428a62c",
   "metadata": {},
   "outputs": [],
   "source": [
    "my_favorite_color=\"red\""
   ]
  },
  {
   "cell_type": "code",
   "execution_count": 13,
   "id": "48fc8f3d-75a6-4e60-8cb3-f0357aaaf9de",
   "metadata": {},
   "outputs": [
    {
     "data": {
      "text/plain": [
       "'red'"
      ]
     },
     "execution_count": 13,
     "metadata": {},
     "output_type": "execute_result"
    }
   ],
   "source": [
    "my_favorite_color"
   ]
  },
  {
   "cell_type": "markdown",
   "id": "f11693a7-9fbc-4836-b7f6-f2e2021d6778",
   "metadata": {},
   "source": [
    "While reassigning a variable, you can also use the variable's previous value to compute the new value."
   ]
  },
  {
   "cell_type": "code",
   "execution_count": 14,
   "id": "5fbdc9a6-e084-4b70-bcce-a5077275eb0e",
   "metadata": {},
   "outputs": [],
   "source": [
    "counter=10"
   ]
  },
  {
   "cell_type": "code",
   "execution_count": 15,
   "id": "3d8663c1-b256-40b3-8a5d-3b4c082ff9e2",
   "metadata": {},
   "outputs": [],
   "source": [
    "counter=counter+1"
   ]
  },
  {
   "cell_type": "code",
   "execution_count": 16,
   "id": "71b34d8a-5361-4800-b214-ba726ba9d99b",
   "metadata": {},
   "outputs": [
    {
     "data": {
      "text/plain": [
       "11"
      ]
     },
     "execution_count": 16,
     "metadata": {},
     "output_type": "execute_result"
    }
   ],
   "source": [
    "counter"
   ]
  },
  {
   "cell_type": "markdown",
   "id": "a1a85b00-f97a-4bf6-a304-94daefb87a09",
   "metadata": {},
   "source": [
    "The pattern `var = var op something` (where `op` is an arithmetic operator like `+`, `-`, `*`, `/`) is very common, so Python provides a *shorthand* syntax for it."
   ]
  },
  {
   "cell_type": "code",
   "execution_count": 17,
   "id": "e42604bc-9757-46a4-bfdb-a1d68aa6aa52",
   "metadata": {},
   "outputs": [],
   "source": [
    "counter=10"
   ]
  },
  {
   "cell_type": "code",
   "execution_count": 18,
   "id": "99f3493a-85ee-4563-a935-bd190aa88c12",
   "metadata": {},
   "outputs": [],
   "source": [
    "counter+=4   #Just like counter=counter+4"
   ]
  },
  {
   "cell_type": "code",
   "execution_count": 19,
   "id": "06607290-07a1-407a-8812-4943f2b65c43",
   "metadata": {},
   "outputs": [
    {
     "data": {
      "text/plain": [
       "14"
      ]
     },
     "execution_count": 19,
     "metadata": {},
     "output_type": "execute_result"
    }
   ],
   "source": [
    "counter"
   ]
  },
  {
   "cell_type": "markdown",
   "id": "325e8440-3759-4b7b-952a-3039c0098607",
   "metadata": {},
   "source": [
    "Variable names can be short (`a`, `x`, `y`, etc.) or descriptive ( `my_favorite_color`, `profit_margin`, `the_3_musketeers`, etc.). However, you must follow these rules while naming Python variables:\n",
    "\n",
    "* A variable's name must start with a letter or the underscore character `_`. It cannot begin with a number.\n",
    "* A variable name can only contain lowercase (small) or uppercase (capital) letters, digits, or underscores (`a`-`z`, `A`-`Z`, `0`-`9`, and `_`).\n",
    "* Variable names are case-sensitive, i.e., `a_variable`, `A_Variable`, and `A_VARIABLE` are all different variables.\n",
    "\n",
    "Here are some valid variable names:"
   ]
  },
  {
   "cell_type": "code",
   "execution_count": 20,
   "id": "9c1fad69-64ec-4f31-8b82-ce6eefc26c15",
   "metadata": {},
   "outputs": [],
   "source": [
    "a_variable = 23\n",
    "is_today_saturday = False\n",
    "my_favorite_car = \"Mercedes\"\n",
    "the_3_musketeers = [\"Athos\" ,\"Porthos\" ,\"Aramis\"]"
   ]
  },
  {
   "cell_type": "markdown",
   "id": "2b174d14-14d8-490a-8941-59af35b8b0a9",
   "metadata": {},
   "source": [
    "Let's try creating some variables with invalid names. Python prints a syntax error if your variable's name is invalid.\n",
    "\n",
    "> **Syntax**: The syntax of a programming language refers to the rules that govern the structure of a valid instruction or *statement*. If a statement does not follow these rules, Python stops execution and informs you that there is a *syntax error*. You can think of syntax as the rules of grammar for a programming language."
   ]
  },
  {
   "cell_type": "code",
   "execution_count": 21,
   "id": "3b6c78a6-5957-4101-b1c9-e4897db0ed8d",
   "metadata": {},
   "outputs": [
    {
     "ename": "SyntaxError",
     "evalue": "invalid syntax (3435034236.py, line 1)",
     "output_type": "error",
     "traceback": [
      "  \u001b[36mCell\u001b[39m\u001b[36m \u001b[39m\u001b[32mIn[21]\u001b[39m\u001b[32m, line 1\u001b[39m\n\u001b[31m    \u001b[39m\u001b[31ma variable=23\u001b[39m\n      ^\n\u001b[31mSyntaxError\u001b[39m\u001b[31m:\u001b[39m invalid syntax\n"
     ]
    }
   ],
   "source": [
    "a variable=23"
   ]
  },
  {
   "cell_type": "code",
   "execution_count": 22,
   "id": "cd5ccad4-e3c9-4be3-879a-c6ef962422c8",
   "metadata": {},
   "outputs": [
    {
     "ename": "SyntaxError",
     "evalue": "invalid syntax (4115463781.py, line 1)",
     "output_type": "error",
     "traceback": [
      "  \u001b[36mCell\u001b[39m\u001b[36m \u001b[39m\u001b[32mIn[22]\u001b[39m\u001b[32m, line 1\u001b[39m\n\u001b[31m    \u001b[39m\u001b[31mis_today_$aturday=False\u001b[39m\n             ^\n\u001b[31mSyntaxError\u001b[39m\u001b[31m:\u001b[39m invalid syntax\n"
     ]
    }
   ],
   "source": [
    "is_today_$aturday=False"
   ]
  },
  {
   "cell_type": "code",
   "execution_count": 23,
   "id": "a30b78cb-80f2-4ffc-afec-ca9ce05032cb",
   "metadata": {},
   "outputs": [
    {
     "ename": "SyntaxError",
     "evalue": "cannot assign to expression here. Maybe you meant '==' instead of '='? (1798234066.py, line 1)",
     "output_type": "error",
     "traceback": [
      "  \u001b[36mCell\u001b[39m\u001b[36m \u001b[39m\u001b[32mIn[23]\u001b[39m\u001b[32m, line 1\u001b[39m\n\u001b[31m    \u001b[39m\u001b[31mmy-favorite-car=\"Deloran\"\u001b[39m\n    ^\n\u001b[31mSyntaxError\u001b[39m\u001b[31m:\u001b[39m cannot assign to expression here. Maybe you meant '==' instead of '='?\n"
     ]
    }
   ],
   "source": [
    "my-favorite-car=\"Deloran\""
   ]
  },
  {
   "cell_type": "code",
   "execution_count": 24,
   "id": "d6c967a9-2c75-4d6d-8f3f-ea0361f65801",
   "metadata": {},
   "outputs": [
    {
     "ename": "SyntaxError",
     "evalue": "invalid decimal literal (1550770998.py, line 1)",
     "output_type": "error",
     "traceback": [
      "  \u001b[36mCell\u001b[39m\u001b[36m \u001b[39m\u001b[32mIn[24]\u001b[39m\u001b[32m, line 1\u001b[39m\n\u001b[31m    \u001b[39m\u001b[31m3_muskteers=[\"Athos\" ,\"Porthos\" ,\"Aramis\"]\u001b[39m\n     ^\n\u001b[31mSyntaxError\u001b[39m\u001b[31m:\u001b[39m invalid decimal literal\n"
     ]
    }
   ],
   "source": [
    "3_muskteers=[\"Athos\" ,\"Porthos\" ,\"Aramis\"]"
   ]
  },
  {
   "cell_type": "markdown",
   "id": "a0737363-3a66-4c24-9d02-ee956be4b47f",
   "metadata": {},
   "source": [
    "## Built-in data types in Python\n",
    "\n",
    "Any data or information stored within a Python variable has a *type*. You can view the type of data stored within a variable using the `type` function."
   ]
  },
  {
   "cell_type": "code",
   "execution_count": 26,
   "id": "2847fc52-8f9f-45ca-88f0-c83a4cdb1544",
   "metadata": {},
   "outputs": [
    {
     "data": {
      "text/plain": [
       "23"
      ]
     },
     "execution_count": 26,
     "metadata": {},
     "output_type": "execute_result"
    }
   ],
   "source": [
    "a_variable"
   ]
  },
  {
   "cell_type": "code",
   "execution_count": 27,
   "id": "9831e8c5-4eef-4034-97e0-32fa0a1940d9",
   "metadata": {},
   "outputs": [
    {
     "data": {
      "text/plain": [
       "int"
      ]
     },
     "execution_count": 27,
     "metadata": {},
     "output_type": "execute_result"
    }
   ],
   "source": [
    "type(a_variable)"
   ]
  },
  {
   "cell_type": "code",
   "execution_count": 29,
   "id": "2a408bdd-ed4d-4523-9a74-13afe3d65b16",
   "metadata": {},
   "outputs": [
    {
     "data": {
      "text/plain": [
       "False"
      ]
     },
     "execution_count": 29,
     "metadata": {},
     "output_type": "execute_result"
    }
   ],
   "source": [
    "is_today_saturday"
   ]
  },
  {
   "cell_type": "code",
   "execution_count": 30,
   "id": "e58fc5d6-49cd-498d-8d76-601777e0ff97",
   "metadata": {},
   "outputs": [
    {
     "data": {
      "text/plain": [
       "bool"
      ]
     },
     "execution_count": 30,
     "metadata": {},
     "output_type": "execute_result"
    }
   ],
   "source": [
    "type(is_today_saturday)"
   ]
  },
  {
   "cell_type": "code",
   "execution_count": 31,
   "id": "1804e9fb-0aab-415f-8970-58380a378d22",
   "metadata": {},
   "outputs": [
    {
     "data": {
      "text/plain": [
       "'Mercedes'"
      ]
     },
     "execution_count": 31,
     "metadata": {},
     "output_type": "execute_result"
    }
   ],
   "source": [
    "my_favorite_car"
   ]
  },
  {
   "cell_type": "code",
   "execution_count": 32,
   "id": "3c23ef3f-06cf-462d-8030-c9c5ca9221ba",
   "metadata": {},
   "outputs": [
    {
     "data": {
      "text/plain": [
       "str"
      ]
     },
     "execution_count": 32,
     "metadata": {},
     "output_type": "execute_result"
    }
   ],
   "source": [
    "type(my_favorite_car)"
   ]
  },
  {
   "cell_type": "code",
   "execution_count": 34,
   "id": "a7a4fd21-8b50-4028-98b8-93ab7bc068a7",
   "metadata": {},
   "outputs": [
    {
     "data": {
      "text/plain": [
       "['Athos', 'Porthos', 'Aramis']"
      ]
     },
     "execution_count": 34,
     "metadata": {},
     "output_type": "execute_result"
    }
   ],
   "source": [
    "the_3_musketeers"
   ]
  },
  {
   "cell_type": "code",
   "execution_count": 36,
   "id": "66bb666a-e090-4c46-80f8-0c2ad4408423",
   "metadata": {},
   "outputs": [
    {
     "data": {
      "text/plain": [
       "list"
      ]
     },
     "execution_count": 36,
     "metadata": {},
     "output_type": "execute_result"
    }
   ],
   "source": [
    "type(the_3_musketeers)"
   ]
  },
  {
   "cell_type": "markdown",
   "id": "927d035c-526f-48d3-abf6-3b7a417efb88",
   "metadata": {},
   "source": [
    "Python has several built-in data types for storing different kinds of information in variables. Following are some commonly used data types:\n",
    "\n",
    "1. Integer\n",
    "2. Float\n",
    "3. Boolean\n",
    "4. None\n",
    "5. String\n",
    "6. List\n",
    "7. Tuple\n",
    "8. Dictionary\n",
    "\n",
    "Integer, float, boolean, None, and string are *primitive data types* because they represent a single value. Other data types like list, tuple, and dictionary are often called *data structures* or *containers* because they hold multiple pieces of data together."
   ]
  },
  {
   "cell_type": "markdown",
   "id": "70fcfa7e-d94b-4938-8f28-1d1b1405d6b2",
   "metadata": {},
   "source": [
    "### Integer\n",
    "\n",
    "Integers represent positive or negative whole numbers, from negative infinity to infinity. Note that integers should not include decimal points. Integers have the type `int`."
   ]
  },
  {
   "cell_type": "code",
   "execution_count": null,
   "id": "91f4d515-d8d9-44c6-b070-07e613a05a0d",
   "metadata": {},
   "outputs": [],
   "source": [
    "current_year=2020"
   ]
  }
 ],
 "metadata": {
  "kernelspec": {
   "display_name": "Python 3 (ipykernel)",
   "language": "python",
   "name": "python3"
  },
  "language_info": {
   "codemirror_mode": {
    "name": "ipython",
    "version": 3
   },
   "file_extension": ".py",
   "mimetype": "text/x-python",
   "name": "python",
   "nbconvert_exporter": "python",
   "pygments_lexer": "ipython3",
   "version": "3.12.8"
  }
 },
 "nbformat": 4,
 "nbformat_minor": 5
}
