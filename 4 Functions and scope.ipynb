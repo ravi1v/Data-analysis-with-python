{
 "cells": [
  {
   "cell_type": "markdown",
   "id": "0070c336-6634-4cd5-bdfb-4741fc4889c3",
   "metadata": {},
   "source": [
    "## Creating and using functions\n",
    "\n",
    "A function is a reusable set of instructions. A function takes one or more inputs, performs certain operations, and often returns an output. Python provides many in-built functions like `print`, and also allows you to define your own functions.\n",
    "\n",
    "You can define a new function using the `def` keyword."
   ]
  },
  {
   "cell_type": "code",
   "execution_count": null,
   "id": "1d4a500f-1f56-4325-88bb-75ac0e2a2872",
   "metadata": {},
   "outputs": [],
   "source": [
    "def say_hello():\n",
    "    print(\"Hello there!!\")\n",
    "    print(\"How are you??\")"
   ]
  },
  {
   "cell_type": "markdown",
   "id": "ffd2d0dc-7a19-4ce5-95e6-ba5ea8b2dbd0",
   "metadata": {},
   "source": [
    "Note the round brackets or parantheses `()` and colon `:` after the function's name. Both are essential parts of the syntax for defining a function. The *body* of the function can contain one or more statements which are to be executed when the function is called. Simlar to conditional statements and loops, the statements must be indented by 4 spaces.\n",
    "\n",
    "The statements inside a function's body are not executed when a function is defined. To execute the statements, we need to *call* or *invoke* the function."
   ]
  },
  {
   "cell_type": "code",
   "execution_count": null,
   "id": "6328d206-7116-4f95-89f9-3768bb545d3c",
   "metadata": {},
   "outputs": [],
   "source": [
    "say_hello() #This is a function call"
   ]
  },
  {
   "cell_type": "markdown",
   "id": "011e0d00-56ac-4efc-bd60-2ae650e7657e",
   "metadata": {},
   "source": [
    "### Function arguments\n",
    "\n",
    "Functions can also accept one or more values as *inputs* (also knows as *arguments* or *parameters*). Arguments help us write flexible functions which can perform the same operation on different values. Further, functions can also return a value as a result using the `return` keyword, which can be stored in a variable or used in other expressions.\n",
    "\n",
    "Here's a function that filters out the even numbers from a list."
   ]
  },
  {
   "cell_type": "code",
   "execution_count": null,
   "id": "f2b52f5b-bb53-4d6c-bf0e-1142dd445513",
   "metadata": {},
   "outputs": [],
   "source": [
    "def filter_even(number_list):\n",
    "    result_list = []\n",
    "    for number in number_list:\n",
    "        if number % 2 == 0:\n",
    "            result_list.append(number)\n",
    "    return result_list"
   ]
  },
  {
   "cell_type": "code",
   "execution_count": null,
   "id": "6e0f67e5-7cf0-48db-b62d-5ef5a49532f9",
   "metadata": {},
   "outputs": [],
   "source": [
    "even_list = filter_even([1, 2, 3, 4, 5, 6, 7, 8, 9])"
   ]
  },
  {
   "cell_type": "code",
   "execution_count": null,
   "id": "9a7314cf-8d23-4dd8-b0ba-d78bd87d2c88",
   "metadata": {},
   "outputs": [],
   "source": [
    "even_list"
   ]
  },
  {
   "cell_type": "markdown",
   "id": "c0761a0e-61ad-4fb4-b0eb-a3cf9c96f918",
   "metadata": {},
   "source": [
    "## Writing great functions in Python\n",
    "\n",
    "As a programmer, you will spend most of your time writing and using functions, and Python offers many features to make your functions powerful and flexible. Let's explore some of these by solving a problem:\n",
    "\n",
    "> Radha is planning to buy a house that costs `$1,260,000`. She considering two options to finance her purchase:\n",
    ">\n",
    "> * Option 1: Make an immediate down payment of `$300,000`, and take loan 8-year loan with an interest rate of 10% (compounded monthly) for the remaining amount.\n",
    "> * Option 2: Take a 10-year loan with an interest rate of 8% (compounded monthly) for the entire amount.\n",
    ">\n",
    "> Both these loans have to paid back in equal monthly installments (EMIs). Which loan has a lower EMI among the two?\n",
    "\n",
    "\n",
    "Since we need to compare the EMIs for two loan options, it might be helpful to define a function to calculate the EMI for a loan, given inputs like the cost of the house, the down payment, duration of the loan, rate of interest etc. We'll build this function step by step.\n",
    "\n",
    "To begin, let's write a simple function that calculates the EMI on the entire cost of the house, assuming that the loan has to be paid back in one year, and there is no interest or down payment."
   ]
  },
  {
   "cell_type": "code",
   "execution_count": null,
   "id": "d718884c-871f-45c5-942e-1619dd603bc1",
   "metadata": {},
   "outputs": [],
   "source": [
    "def loan_emi(amount):\n",
    "    emi = amount/12\n",
    "    print(\"The EMI is ${}\".format(emi))"
   ]
  },
  {
   "cell_type": "code",
   "execution_count": null,
   "id": "1a0d4ca4-d55e-4747-971e-6ecd502b7515",
   "metadata": {},
   "outputs": [],
   "source": [
    "loan_emi(1260000)"
   ]
  },
  {
   "cell_type": "markdown",
   "id": "fdb3941a-eced-42ea-b0cf-3634c31c17c4",
   "metadata": {},
   "source": [
    "### Local variables and scope\n",
    "\n",
    "Let's add a second argument to account for the duration of the loan, in months."
   ]
  },
  {
   "cell_type": "code",
   "execution_count": null,
   "id": "c11415e7-0ac3-4ed3-93be-38efc92bd808",
   "metadata": {},
   "outputs": [],
   "source": [
    "def loan_emi(amount, duration):\n",
    "    emi = amount / duration\n",
    "    print(\"The EMI is ${}\".format(emi))"
   ]
  },
  {
   "cell_type": "markdown",
   "id": "6e94addb-520c-4ce1-a5db-49651a2f8ebc",
   "metadata": {},
   "source": [
    "Note that the variable `emi` defined inside the function is not accessible outside the function. The same is true for the parameters `amount` and `duration`. These are all *local variables* that lie within the *scope* of the function.\n",
    "\n",
    "> **Scope**: Scope refers to the region within the code where a certain variable is visible. Every function (or class definition) defines a scope within Python. Variables defined in this scope are called *local variables*. Variables that are available everywhere are called *global variables*. Scope rules allow you to use the same variable names in different functions without sharing values from one to the other. "
   ]
  },
  {
   "cell_type": "code",
   "execution_count": null,
   "id": "d073f2a3-f8d7-4883-a4de-3416bd5dd1c9",
   "metadata": {},
   "outputs": [],
   "source": [
    "emi"
   ]
  },
  {
   "cell_type": "code",
   "execution_count": null,
   "id": "0bca2da8-5894-43d8-9fa2-0f43097bffa1",
   "metadata": {},
   "outputs": [],
   "source": [
    "amount"
   ]
  },
  {
   "cell_type": "code",
   "execution_count": null,
   "id": "c24b21d4-04c6-4ec2-a4a1-6aa59d70fab8",
   "metadata": {},
   "outputs": [],
   "source": [
    "duration"
   ]
  },
  {
   "cell_type": "code",
   "execution_count": null,
   "id": "321dc6e9-6c24-4656-8db4-50363ebe875f",
   "metadata": {},
   "outputs": [],
   "source": [
    "loan_emi(1260000,8*12)"
   ]
  },
  {
   "cell_type": "code",
   "execution_count": null,
   "id": "7350514d-0c08-45d0-b94c-9f1b72cdb1e7",
   "metadata": {},
   "outputs": [],
   "source": [
    "loan_emi(1260000,10*12)"
   ]
  },
  {
   "cell_type": "markdown",
   "id": "a3b75832-eafb-414a-a3f1-465e50933db1",
   "metadata": {},
   "source": [
    "### Return values\n",
    "\n",
    "As you might expect, the EMI for the 6-year loan is higher compared to the 10-year loan. Right now we're printing out the result, but it would be better to return it and store the results in variables for easier comparison. We can do this using the `return` statement"
   ]
  },
  {
   "cell_type": "code",
   "execution_count": null,
   "id": "e30f2232-0648-4bbd-816d-d0f4e9079f63",
   "metadata": {},
   "outputs": [],
   "source": [
    "def loan_emi(amount, duration):\n",
    "    emi = amount / duration\n",
    "    return emi"
   ]
  },
  {
   "cell_type": "code",
   "execution_count": null,
   "id": "dd037a9a-26d7-4347-86a5-440210efa50d",
   "metadata": {},
   "outputs": [],
   "source": [
    "emi1 = loan_emi(1260000 , 8*12)"
   ]
  },
  {
   "cell_type": "code",
   "execution_count": null,
   "id": "cd64d106-a378-4d42-8f2c-4c15ae446d5d",
   "metadata": {},
   "outputs": [],
   "source": [
    "emi2 = loan_emi(1260000, 10*12)"
   ]
  },
  {
   "cell_type": "code",
   "execution_count": null,
   "id": "c825b0a4-d969-416f-9da5-126834e9d14f",
   "metadata": {},
   "outputs": [],
   "source": [
    "emi1"
   ]
  },
  {
   "cell_type": "code",
   "execution_count": null,
   "id": "4d332ff8-15d0-4056-9aba-7340d7069da9",
   "metadata": {},
   "outputs": [],
   "source": [
    "emi2"
   ]
  },
  {
   "cell_type": "markdown",
   "id": "79d3bbf3-bbd6-4084-95a4-04d75db52781",
   "metadata": {},
   "source": [
    "### Optional arguments\n",
    "\n",
    "Let's now add another argument to account for the immediate down payment. We'll make this an *optional argument*, with a default value of 0."
   ]
  },
  {
   "cell_type": "code",
   "execution_count": 10,
   "id": "00ebce11-619d-4769-a146-627ab60db8de",
   "metadata": {},
   "outputs": [],
   "source": [
    "def loan_emi(amount ,duration ,down_payment = 0):\n",
    "    loan_amount = amount - down_payment\n",
    "    emi = loan_amount / duration\n",
    "    return emi"
   ]
  },
  {
   "cell_type": "code",
   "execution_count": 11,
   "id": "529201dd-90a2-4376-9d42-28c0c521ded6",
   "metadata": {},
   "outputs": [],
   "source": [
    "emi1 = loan_emi(1260000, 8*12, 3e5)"
   ]
  },
  {
   "cell_type": "code",
   "execution_count": 12,
   "id": "e2244503-09ca-4bf5-b76c-857bf3ecf664",
   "metadata": {},
   "outputs": [
    {
     "data": {
      "text/plain": [
       "10000.0"
      ]
     },
     "execution_count": 12,
     "metadata": {},
     "output_type": "execute_result"
    }
   ],
   "source": [
    "emi1"
   ]
  },
  {
   "cell_type": "code",
   "execution_count": 13,
   "id": "b3951030-9f76-4f2c-9418-29eea2076cc3",
   "metadata": {},
   "outputs": [],
   "source": [
    "emi2 = loan_emi(1260000, 10 * 12)"
   ]
  },
  {
   "cell_type": "code",
   "execution_count": 14,
   "id": "c8ebf12e-c704-4302-9438-fee2b85c6edc",
   "metadata": {},
   "outputs": [
    {
     "data": {
      "text/plain": [
       "10500.0"
      ]
     },
     "execution_count": 14,
     "metadata": {},
     "output_type": "execute_result"
    }
   ],
   "source": [
    "emi2"
   ]
  },
  {
   "cell_type": "markdown",
   "id": "49643194-871d-49f4-aa5a-9bfbed775879",
   "metadata": {},
   "source": [
    "Next, let's add the interest calculation into the function. Here's the formula used to calculate the EMI for a loan:\n",
    "\n",
    "<img src=\"https://i.imgur.com/iKujHGK.png\" style=\"width:240px\">\n",
    "\n",
    "where:\n",
    "\n",
    "* `P` is the loan amount (principal)\n",
    "* `n` is the no. of months\n",
    "* `r` is the rate of interest per month\n",
    "\n"
   ]
  },
  {
   "cell_type": "code",
   "execution_count": 15,
   "id": "f864d08f-efb2-439e-bbee-f2abcd7665c0",
   "metadata": {},
   "outputs": [],
   "source": [
    "def loan_emi(amount, duration, rate, down_payment=0):\n",
    "    loan_amount = amount - down_payment\n",
    "\n",
    "    emi = loan_amount * rate * ((1+rate)**duration) / (((1+rate)**duration)-1)\n",
    "    return emi"
   ]
  },
  {
   "cell_type": "markdown",
   "id": "20d54491-a7fe-4ff0-8592-a76e084b2179",
   "metadata": {},
   "source": [
    "Note that while defining the function, required arguments like `cost`, `duration` and `rate` must appear before optional arguments like `down_payment`.\n",
    "\n",
    "Let's calculate the EMI for Option 1"
   ]
  },
  {
   "cell_type": "code",
   "execution_count": 16,
   "id": "5411158d-c496-4552-8c71-3fe290ce4ce9",
   "metadata": {},
   "outputs": [
    {
     "data": {
      "text/plain": [
       "14567.19753389219"
      ]
     },
     "execution_count": 16,
     "metadata": {},
     "output_type": "execute_result"
    }
   ],
   "source": [
    "loan_emi(1260000 ,8*12 ,0.1/12 ,3e5)"
   ]
  },
  {
   "cell_type": "markdown",
   "id": "40fcc5f3-aaf6-4271-ad45-769d35d099ee",
   "metadata": {},
   "source": [
    "While calculating the EMI for Option 2, we need not include the `down_payment` argument."
   ]
  },
  {
   "cell_type": "code",
   "execution_count": 17,
   "id": "96d01d24-0627-4c20-a591-9d6d9d442572",
   "metadata": {},
   "outputs": [
    {
     "data": {
      "text/plain": [
       "15287.276888775077"
      ]
     },
     "execution_count": 17,
     "metadata": {},
     "output_type": "execute_result"
    }
   ],
   "source": [
    "loan_emi(1260000 ,10*12 ,0.08/12)"
   ]
  },
  {
   "cell_type": "markdown",
   "id": "588e56fa-dad2-42e9-9dd4-665e58158e82",
   "metadata": {},
   "source": [
    "### Named arguments\n",
    "\n",
    "Invoking a function with many arguments can often get confusing, and is prone to human errors. Python provides the option of invoking functions with *named* arguments, for better clarity. Function invocation can also be split into multiple lines."
   ]
  },
  {
   "cell_type": "code",
   "execution_count": 18,
   "id": "a73b7773-b09f-4c89-ac17-b14702e902a4",
   "metadata": {},
   "outputs": [],
   "source": [
    "emi1 = loan_emi(\n",
    "    amount = 1260000 ,\n",
    "    duration = 8*12 ,\n",
    "    rate = 0.1/12 ,\n",
    "    down_payment = 3e5\n",
    ")"
   ]
  },
  {
   "cell_type": "code",
   "execution_count": 19,
   "id": "65074759-3752-4409-9469-85c4eab09bed",
   "metadata": {},
   "outputs": [
    {
     "data": {
      "text/plain": [
       "14567.19753389219"
      ]
     },
     "execution_count": 19,
     "metadata": {},
     "output_type": "execute_result"
    }
   ],
   "source": [
    "emi1"
   ]
  },
  {
   "cell_type": "code",
   "execution_count": 20,
   "id": "ce750249-6ec6-4025-a4d5-638852ae72cb",
   "metadata": {},
   "outputs": [],
   "source": [
    "emi2 = loan_emi(amount = 1260000,duration = 10*12 ,rate= 0.08 /12)"
   ]
  },
  {
   "cell_type": "code",
   "execution_count": 21,
   "id": "f567ad24-3b59-4504-a830-6d7b3eae3225",
   "metadata": {},
   "outputs": [
    {
     "data": {
      "text/plain": [
       "15287.276888775077"
      ]
     },
     "execution_count": 21,
     "metadata": {},
     "output_type": "execute_result"
    }
   ],
   "source": [
    "emi2"
   ]
  },
  {
   "cell_type": "markdown",
   "id": "4493fc08-240f-4293-9822-fa6658e696f7",
   "metadata": {},
   "source": [
    "### Modules and library functions\n",
    "\n",
    "We can already see that the EMI for Option 1 seems to be lower than the EMI for Option 2. However, it would be nice to round up the amount to full dollars, rather than including digits afer the decimal. To achieve this, we might want to write a function which can take a number and round it up to the next integer (e.g. 1.2 is rounded up to 2). That would be a good exercise to try out!\n",
    "\n",
    "However, since rounding numbers is a fairly common operation, Python provides a function for it (along with thousands of other functions) as part of the [Python Standard Library](https://docs.python.org/3/library/). Functions are organized into *modules*, which need to imported in order to use the functions they contain. \n",
    "\n",
    "> **Modules**: Modules are files containing Python code (variables, functions, classes etc.). They provide a way of organizing the code for large Python projects into files and folders. The key benefit offered by modules is *namespaces* - a module or a specific function/class/variable from a module has to imported before it can be used within a Python script or notebook. This provides *encapsulation* and avoid naming conflicts between your code vs. a module, or across modules.\n",
    "\n",
    "For rounding up our EMI amounts, we can use the `ceil` function (short for *ceiling*) from the `math` module. Let's import the module and use it to round up the number 1.2 . "
   ]
  },
  {
   "cell_type": "code",
   "execution_count": 22,
   "id": "f150ca1e-fb4c-4397-a08f-93596adb31b2",
   "metadata": {},
   "outputs": [],
   "source": [
    "import math"
   ]
  },
  {
   "cell_type": "code",
   "execution_count": 23,
   "id": "d088e77e-c363-4b3b-a2e6-a941dce6d4b0",
   "metadata": {},
   "outputs": [
    {
     "name": "stdout",
     "output_type": "stream",
     "text": [
      "Help on built-in function ceil in module math:\n",
      "\n",
      "ceil(x, /)\n",
      "    Return the ceiling of x as an Integral.\n",
      "\n",
      "    This is the smallest integer >= x.\n",
      "\n"
     ]
    }
   ],
   "source": [
    "help(math.ceil)"
   ]
  },
  {
   "cell_type": "code",
   "execution_count": 24,
   "id": "d868e07e-5db6-40e0-8926-1dddbdc955c2",
   "metadata": {},
   "outputs": [
    {
     "data": {
      "text/plain": [
       "2"
      ]
     },
     "execution_count": 24,
     "metadata": {},
     "output_type": "execute_result"
    }
   ],
   "source": [
    "math.ceil(1.2)"
   ]
  },
  {
   "cell_type": "markdown",
   "id": "d024ba93-6c5d-4715-84d8-14774db2fffe",
   "metadata": {},
   "source": [
    "Let's now use the `math.ceil` function within the `home_loan_emi` function to round up the EMI amount. \n",
    "\n",
    "> Using function to build other functions is a great way to reuse code and implement complex business logic while still keeping the code small, understandable and manageable. Ideally, one a fuction should do one thing, and one thing only. If you find yourself doing too many things within a single function, you should consider splitting it into 2 or more smaller, independent functions. As a rule of thumb, try to limit your functions to 10 lines of code or less. Good programmers always write small, simple and readable functions.\n"
   ]
  },
  {
   "cell_type": "code",
   "execution_count": 25,
   "id": "588a2b82-5229-41f3-831e-59f36b92909e",
   "metadata": {},
   "outputs": [],
   "source": [
    "def loan_emi(amount, duration, rate, down_payment = 0):\n",
    "    loan_amount = amount - down_payment\n",
    "    emi = loan_amount * rate *((1+rate)**duration) / (((1+rate)**duration) - 1)\n",
    "    emi = math.ceil(emi)\n",
    "    return emi"
   ]
  },
  {
   "cell_type": "code",
   "execution_count": 26,
   "id": "c8f03306-ed7c-4ba2-bade-5f7db1af33df",
   "metadata": {},
   "outputs": [],
   "source": [
    "emi1 = loan_emi(\n",
    "    amount = 1260000,\n",
    "    duration = 8*12,\n",
    "    rate = 0.1/12,\n",
    "    down_payment = 3e5\n",
    ")"
   ]
  },
  {
   "cell_type": "code",
   "execution_count": 27,
   "id": "a15ba5cb-d77c-4aaf-ac43-0b4b2989d96c",
   "metadata": {},
   "outputs": [
    {
     "data": {
      "text/plain": [
       "14568"
      ]
     },
     "execution_count": 27,
     "metadata": {},
     "output_type": "execute_result"
    }
   ],
   "source": [
    "emi1"
   ]
  },
  {
   "cell_type": "code",
   "execution_count": 28,
   "id": "e1346afe-f08f-434d-bd48-d6d5f5947d70",
   "metadata": {},
   "outputs": [],
   "source": [
    "emi2 = loan_emi(amount = 1260000, duration = 10*12, rate = 0.08/12)"
   ]
  },
  {
   "cell_type": "code",
   "execution_count": 29,
   "id": "8a88e063-9288-4abf-b47b-0b86de0daba3",
   "metadata": {},
   "outputs": [
    {
     "data": {
      "text/plain": [
       "15288"
      ]
     },
     "execution_count": 29,
     "metadata": {},
     "output_type": "execute_result"
    }
   ],
   "source": [
    "emi2 #15287.276888775077 is the value without math.ceil()"
   ]
  },
  {
   "cell_type": "markdown",
   "id": "e02287aa-742c-4de6-8fb2-522b0cd69f88",
   "metadata": {},
   "source": [
    "Let's compare the EMIs and display a message for the option with the lower EMI."
   ]
  },
  {
   "cell_type": "code",
   "execution_count": 30,
   "id": "5b6e0e71-802f-4e44-8b2c-c89151a4280e",
   "metadata": {},
   "outputs": [
    {
     "name": "stdout",
     "output_type": "stream",
     "text": [
      "Option 1 has the lower EMI : $14568\n"
     ]
    }
   ],
   "source": [
    "if emi1 < emi2:\n",
    "    print(\"Option 1 has the lower EMI : ${}\".format(emi1))\n",
    "else:\n",
    "    print(\"Option 2 has the lower EMI : ${}\".format(emi2))"
   ]
  },
  {
   "cell_type": "markdown",
   "id": "ebf21238-d2b4-401d-a5fe-7f21e58d5cbc",
   "metadata": {},
   "source": [
    "### Reusing and improving functions \n",
    "\n",
    "Now we know for cetain that \"Option 1\" has the lower EMI among the two options. But what's even better is that we now have a handy function `loan_emi` that can be used to solve many other similar problems with just a few lines of code. Let's try it with a couple more problems."
   ]
  },
  {
   "cell_type": "markdown",
   "id": "8c27cce3-2f4d-422b-8971-6ebf909525c0",
   "metadata": {},
   "source": [
    "> Q: Shaun is currenly paying back a home loan for a house a few years go. The cost of the house was `$800,000`. Shaun made a down payment of `25%` of the cost, and financed the remaining amount using a 6-year loan with an interest rate of `7%` per annum (compounded monthly). Shaun is now buying a car worth `$60,000`, which he is planning to finance using a 1-year loan with an interest rate of `12%` per annum. Both loans are paid back in EMIs. What is the total monthly payment Shaun makes towards loan repayment?\n",
    "\n",
    "This question is now straightforward to solve, using the `loan_emi` function we've already defined."
   ]
  },
  {
   "cell_type": "code",
   "execution_count": 31,
   "id": "fba5f9a3-a7f9-4607-afc2-834c7e4104f4",
   "metadata": {},
   "outputs": [
    {
     "data": {
      "text/plain": [
       "10230"
      ]
     },
     "execution_count": 31,
     "metadata": {},
     "output_type": "execute_result"
    }
   ],
   "source": [
    "cost_of_house = 800000\n",
    "home_loan_duration = 6*12 #total months:72\n",
    "home_loan_rate = 0.07/12 # monthly payment\n",
    "home_down_payment = .25 * 800000\n",
    "\n",
    "emi_house = loan_emi(amount = cost_of_house,\n",
    "                     duration = home_loan_duration,\n",
    "                     rate = home_loan_rate,\n",
    "                     down_payment = home_down_payment)\n",
    "\n",
    "emi_house"
   ]
  },
  {
   "cell_type": "code",
   "execution_count": 32,
   "id": "58e0f821-2547-4c8d-ab14-3f0ed9e8ed5d",
   "metadata": {},
   "outputs": [
    {
     "data": {
      "text/plain": [
       "5331"
      ]
     },
     "execution_count": 32,
     "metadata": {},
     "output_type": "execute_result"
    }
   ],
   "source": [
    "cost_of_car = 60000\n",
    "car_loan_duration = 1*12 #months\n",
    "car_loan_rate = .12/12 #monthly interest\n",
    "\n",
    "\n",
    "emi_car = loan_emi(amount = cost_of_car,\n",
    "                   duration = car_loan_duration,\n",
    "                   rate = car_loan_rate)\n",
    "\n",
    "emi_car"
   ]
  },
  {
   "cell_type": "code",
   "execution_count": 33,
   "id": "b8157eec-21ec-499d-9cb0-ffb75b123bd4",
   "metadata": {},
   "outputs": [
    {
     "name": "stdout",
     "output_type": "stream",
     "text": [
      "Shaun makes a total monthly payment of $15561 towards loan repayments.\n"
     ]
    }
   ],
   "source": [
    "print(\"Shaun makes a total monthly payment of ${} towards loan repayments.\".format(emi_house+emi_car))"
   ]
  },
  {
   "cell_type": "markdown",
   "id": "c604ac3c-0b0f-40c3-89bd-85997a1107de",
   "metadata": {},
   "source": [
    "### Exceptions and `try`-`except`\n",
    "\n",
    "> Q: If you borrow `$100,000` using a 10-year loan with an interest rate of 9% per annum, what is the total amount you end up paying as interest?\n",
    "\n",
    "One way to solve this problem is to compare the EMIs for two loans: one with the given rate of interest, and another with a 0% rate of interest. The total interest paid is then simply the sum of monthly differences over the duration of the loan."
   ]
  },
  {
   "cell_type": "code",
   "execution_count": 34,
   "id": "1025f8db-6d3f-4485-aca4-f31d55a1ce18",
   "metadata": {},
   "outputs": [
    {
     "data": {
      "text/plain": [
       "1267"
      ]
     },
     "execution_count": 34,
     "metadata": {},
     "output_type": "execute_result"
    }
   ],
   "source": [
    "emi_with_interest = loan_emi(amount = 100000, duration = 10*12, rate = 0.09/12)\n",
    "emi_with_interest"
   ]
  },
  {
   "cell_type": "code",
   "execution_count": 35,
   "id": "d24bb35f-4fc7-4bc5-b564-7587b09ea0db",
   "metadata": {},
   "outputs": [
    {
     "ename": "ZeroDivisionError",
     "evalue": "float division by zero",
     "output_type": "error",
     "traceback": [
      "\u001b[31m---------------------------------------------------------------------------\u001b[39m",
      "\u001b[31mZeroDivisionError\u001b[39m                         Traceback (most recent call last)",
      "\u001b[36mCell\u001b[39m\u001b[36m \u001b[39m\u001b[32mIn[35]\u001b[39m\u001b[32m, line 1\u001b[39m\n\u001b[32m----> \u001b[39m\u001b[32m1\u001b[39m emi_without_interest = \u001b[43mloan_emi\u001b[49m\u001b[43m(\u001b[49m\u001b[43mamount\u001b[49m\u001b[43m \u001b[49m\u001b[43m=\u001b[49m\u001b[43m \u001b[49m\u001b[32;43m100000\u001b[39;49m\u001b[43m,\u001b[49m\u001b[43m \u001b[49m\u001b[43mduration\u001b[49m\u001b[43m \u001b[49m\u001b[43m=\u001b[49m\u001b[43m \u001b[49m\u001b[32;43m10\u001b[39;49m\u001b[43m*\u001b[49m\u001b[32;43m12\u001b[39;49m\u001b[43m,\u001b[49m\u001b[43m \u001b[49m\u001b[43mrate\u001b[49m\u001b[43m \u001b[49m\u001b[43m=\u001b[49m\u001b[43m \u001b[49m\u001b[32;43m0.\u001b[39;49m\u001b[43m/\u001b[49m\u001b[32;43m12\u001b[39;49m\u001b[43m)\u001b[49m\n\u001b[32m      2\u001b[39m emi_without_interest\n",
      "\u001b[36mCell\u001b[39m\u001b[36m \u001b[39m\u001b[32mIn[25]\u001b[39m\u001b[32m, line 3\u001b[39m, in \u001b[36mloan_emi\u001b[39m\u001b[34m(amount, duration, rate, down_payment)\u001b[39m\n\u001b[32m      1\u001b[39m \u001b[38;5;28;01mdef\u001b[39;00m\u001b[38;5;250m \u001b[39m\u001b[34mloan_emi\u001b[39m(amount, duration, rate, down_payment = \u001b[32m0\u001b[39m):\n\u001b[32m      2\u001b[39m     loan_amount = amount - down_payment\n\u001b[32m----> \u001b[39m\u001b[32m3\u001b[39m     emi = \u001b[43mloan_amount\u001b[49m\u001b[43m \u001b[49m\u001b[43m*\u001b[49m\u001b[43m \u001b[49m\u001b[43mrate\u001b[49m\u001b[43m \u001b[49m\u001b[43m*\u001b[49m\u001b[43m(\u001b[49m\u001b[43m(\u001b[49m\u001b[32;43m1\u001b[39;49m\u001b[43m+\u001b[49m\u001b[43mrate\u001b[49m\u001b[43m)\u001b[49m\u001b[43m*\u001b[49m\u001b[43m*\u001b[49m\u001b[43mduration\u001b[49m\u001b[43m)\u001b[49m\u001b[43m \u001b[49m\u001b[43m/\u001b[49m\u001b[43m \u001b[49m\u001b[43m(\u001b[49m\u001b[43m(\u001b[49m\u001b[43m(\u001b[49m\u001b[32;43m1\u001b[39;49m\u001b[43m+\u001b[49m\u001b[43mrate\u001b[49m\u001b[43m)\u001b[49m\u001b[43m*\u001b[49m\u001b[43m*\u001b[49m\u001b[43mduration\u001b[49m\u001b[43m)\u001b[49m\u001b[43m \u001b[49m\u001b[43m-\u001b[49m\u001b[43m \u001b[49m\u001b[32;43m1\u001b[39;49m\u001b[43m)\u001b[49m\n\u001b[32m      4\u001b[39m     emi = math.ceil(emi)\n\u001b[32m      5\u001b[39m     \u001b[38;5;28;01mreturn\u001b[39;00m emi\n",
      "\u001b[31mZeroDivisionError\u001b[39m: float division by zero"
     ]
    }
   ],
   "source": [
    "emi_without_interest = loan_emi(amount = 100000, duration = 10*12, rate = 0./12)\n",
    "emi_without_interest"
   ]
  },
  {
   "cell_type": "markdown",
   "id": "ba022631-ba42-463f-a2cb-8e1d32ba4705",
   "metadata": {},
   "source": [
    "Something seems to have gone wrong! If you look at the error message above carefully, Python tells us exactly what is gone wrong. Python *throws* a `ZeroDivisionError` with a message indicating that we're trying to divide a number by zero. This is an *exception* that stops further execution of the program.\n",
    "\n",
    "> **Exception**: Even if a statement or expression is syntactically correct, it may cause an error when an attempt is made to execute it. Errors detected during execution are called exceptions. We refer to exceptions as being typically stop further execution of the program, unless they are handled within the program using `try`-`except` statements.\n",
    "\n",
    "Python provides many built-in exceptions that are *thrown* when built-in operators, functions or methods are used in an incorrect manner: https://docs.python.org/3/library/exceptions.html#built-in-exceptions . You can also define your own custom exception by extending `Exception` class (more on that later).\n",
    "\n",
    "You can use the `try` and `except` statements to *handle* and exception. Here's an example:"
   ]
  },
  {
   "cell_type": "code",
   "execution_count": 39,
   "id": "e74374e6-90ea-4dbc-9616-bb841a3317dc",
   "metadata": {},
   "outputs": [
    {
     "name": "stdout",
     "output_type": "stream",
     "text": [
      "Now computing the result..\n",
      "Failed to compare result because you were trying to divide by zero\n",
      "None\n"
     ]
    }
   ],
   "source": [
    "try:\n",
    "    print(\"Now computing the result..\")\n",
    "    result = 5 / 0\n",
    "    print(\"Computation was completed succesfully\")\n",
    "except ZeroDivisionError:\n",
    "    print(\"Failed to compare result because you were trying to divide by zero\")\n",
    "    result = None\n",
    "\n",
    "print(result)"
   ]
  },
  {
   "cell_type": "markdown",
   "id": "60494646-6314-420a-8f7f-9df2e155b9df",
   "metadata": {},
   "source": [
    "When an exception occurs in the code inside a try block, the rest of the statements in the block are skipped, and except statement is executed. If the type of exception throw matches the type of exception being handled by the except statement, then the code inside the except block is executed and the program execution then returns to the normal flow.\n",
    "\n",
    "Let's enhance the loan_emi function to use try-execpt to handle the scenario where the rate of intersest is 0%. It's common practice to make changes/enhancements to functions over time, as new scenarios and use cases come up. It makes functions more flexible & powerful."
   ]
  },
  {
   "cell_type": "code",
   "execution_count": 44,
   "id": "48c59087-fc9e-4a5b-ab61-0ba1057a6ecd",
   "metadata": {},
   "outputs": [],
   "source": [
    "def loan_emi(amount, duration, rate, down_payment= 0):\n",
    "    loan_amount = amount - down_payment\n",
    "    try:\n",
    "        emi = loan_amount * rate * ((1+rate)**duration) / (((1+rate)**duration)-1)\n",
    "    except ZeroDivisionError:\n",
    "        emi = loan_amount / duration\n",
    "    emi = math.ceil(emi)\n",
    "    return emi"
   ]
  },
  {
   "cell_type": "markdown",
   "id": "9df58e2e-2b4e-4e67-b8f5-a8fdf9608f33",
   "metadata": {},
   "source": [
    "We can use the updated `loan_emi` function to solve our problem.\n",
    "\n",
    "> Q: If you borrow `$100,000` using a 10-year loan with an interest rate of 9% per annum, what is the total amount you end up paying as interest?\n"
   ]
  },
  {
   "cell_type": "code",
   "execution_count": 45,
   "id": "5daf1100-926a-4eff-9aca-fc7f82fcee0d",
   "metadata": {},
   "outputs": [
    {
     "data": {
      "text/plain": [
       "1267"
      ]
     },
     "execution_count": 45,
     "metadata": {},
     "output_type": "execute_result"
    }
   ],
   "source": [
    "emi_with_interest = loan_emi(amount=100000, duration=10*12, rate=0.09/12)\n",
    "emi_with_interest"
   ]
  },
  {
   "cell_type": "code",
   "execution_count": 46,
   "id": "c4d1b773-b38e-4106-a82b-5a2c5d99e872",
   "metadata": {},
   "outputs": [
    {
     "data": {
      "text/plain": [
       "834"
      ]
     },
     "execution_count": 46,
     "metadata": {},
     "output_type": "execute_result"
    }
   ],
   "source": [
    "emi_without_interest = loan_emi(amount = 100000, duration = 10*12, rate =0)\n",
    "emi_without_interest"
   ]
  },
  {
   "cell_type": "code",
   "execution_count": 47,
   "id": "42ae7988-4d54-4393-98ad-2b56f8e9b911",
   "metadata": {},
   "outputs": [],
   "source": [
    "total_interest = (emi_with_interest - emi_without_interest) * 10*12"
   ]
  },
  {
   "cell_type": "code",
   "execution_count": 48,
   "id": "1747741c-240b-4031-b09e-f9d1b4390ec2",
   "metadata": {},
   "outputs": [
    {
     "name": "stdout",
     "output_type": "stream",
     "text": [
      "The total interest paid is $51960.\n"
     ]
    }
   ],
   "source": [
    "print(\"The total interest paid is ${}.\".format(total_interest))"
   ]
  },
  {
   "cell_type": "code",
   "execution_count": null,
   "id": "f941fea9-26ac-4649-a39e-0d5ba90159e9",
   "metadata": {},
   "outputs": [],
   "source": []
  }
 ],
 "metadata": {
  "kernelspec": {
   "display_name": "Python 3 (ipykernel)",
   "language": "python",
   "name": "python3"
  },
  "language_info": {
   "codemirror_mode": {
    "name": "ipython",
    "version": 3
   },
   "file_extension": ".py",
   "mimetype": "text/x-python",
   "name": "python",
   "nbconvert_exporter": "python",
   "pygments_lexer": "ipython3",
   "version": "3.12.8"
  }
 },
 "nbformat": 4,
 "nbformat_minor": 5
}
