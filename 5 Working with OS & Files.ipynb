{
 "cells": [
  {
   "cell_type": "markdown",
   "id": "d5630e70-1ae9-4e63-a657-4b40213490d0",
   "metadata": {},
   "source": [
    "## Interacting with the OS and filesystem\n",
    "\n",
    "The `os` module in Python provides many functions for interacting with the OS and the filesystem. Let's import it and try out some examples."
   ]
  },
  {
   "cell_type": "code",
   "execution_count": 1,
   "id": "96ab9eda-aa2b-4be3-94c8-38e513631a6d",
   "metadata": {},
   "outputs": [],
   "source": [
    "import os"
   ]
  },
  {
   "cell_type": "markdown",
   "id": "15d7d2bf-1a2d-4370-991e-6fd9914c9732",
   "metadata": {},
   "source": [
    "We can check the present working directory using the `os.getcwd` function."
   ]
  },
  {
   "cell_type": "code",
   "execution_count": 2,
   "id": "7bc6c012-24fe-4385-89cb-a079e46fa9a7",
   "metadata": {},
   "outputs": [
    {
     "data": {
      "text/plain": [
       "'C:\\\\Users\\\\vrsha\\\\Data analysis'"
      ]
     },
     "execution_count": 2,
     "metadata": {},
     "output_type": "execute_result"
    }
   ],
   "source": [
    "os.getcwd()"
   ]
  },
  {
   "cell_type": "markdown",
   "id": "1c96b777-e23b-4e6f-bdd9-182204fbad0b",
   "metadata": {},
   "source": [
    "To get the list of files in a directory, use `os.listdir`. You pass an absolute or relative path of a directory as the argument to the function."
   ]
  },
  {
   "cell_type": "code",
   "execution_count": 4,
   "id": "76ed70e5-0e1a-4fc7-8ae3-2a8b58d83995",
   "metadata": {},
   "outputs": [
    {
     "name": "stdout",
     "output_type": "stream",
     "text": [
      "Help on built-in function listdir in module nt:\n",
      "\n",
      "listdir(path=None)\n",
      "    Return a list containing the names of the files in the directory.\n",
      "\n",
      "    path can be specified as either str, bytes, or a path-like object.  If path is bytes,\n",
      "      the filenames returned will also be bytes; in all other circumstances\n",
      "      the filenames returned will be str.\n",
      "    If path is None, uses the path='.'.\n",
      "    On some platforms, path may also be specified as an open file descriptor;\\\n",
      "      the file descriptor must refer to a directory.\n",
      "      If this functionality is unavailable, using it raises NotImplementedError.\n",
      "\n",
      "    The list is in arbitrary order.  It does not include the special\n",
      "    entries '.' and '..' even if they are present in the directory.\n",
      "\n"
     ]
    }
   ],
   "source": [
    "help(os.listdir)"
   ]
  },
  {
   "cell_type": "code",
   "execution_count": 8,
   "id": "4212a7bb-c929-4ff4-956e-46082f86a668",
   "metadata": {},
   "outputs": [
    {
     "data": {
      "text/plain": [
       "['.git',\n",
       " '.ipynb_checkpoints',\n",
       " '1 First steps with python.ipynb',\n",
       " '2 Variables and datatypes.ipynb',\n",
       " '3 Branching loops and conditionals.ipynb',\n",
       " '4 Functions and scope.ipynb',\n",
       " '5 Working with OS & Files.ipynb',\n",
       " 'data']"
      ]
     },
     "execution_count": 8,
     "metadata": {},
     "output_type": "execute_result"
    }
   ],
   "source": [
    "os.listdir('.')"
   ]
  },
  {
   "cell_type": "markdown",
   "id": "1fb95420-5110-45a8-accf-6baad53f4da7",
   "metadata": {},
   "source": [
    "You can create a new directory using `os.makedirs`. Let's create a new directory called `data`, where we'll later download some files."
   ]
  },
  {
   "cell_type": "code",
   "execution_count": 11,
   "id": "79c72343-e939-47dd-b3f0-853693f9fd6d",
   "metadata": {},
   "outputs": [
    {
     "data": {
      "text/plain": [
       "['$AV_ASW',\n",
       " '$Recycle.Bin',\n",
       " '.GamingRoot',\n",
       " 'avast! sandbox',\n",
       " 'Config.Msi',\n",
       " 'data',\n",
       " 'Documents and Settings',\n",
       " 'Drivers',\n",
       " 'DumpStack.log.tmp',\n",
       " 'inetpub',\n",
       " 'logUploaderSettings.ini',\n",
       " 'logUploaderSettings_temp.ini',\n",
       " 'OneDriveTemp',\n",
       " 'pagefile.sys',\n",
       " 'PerfLogs',\n",
       " 'Program Files',\n",
       " 'Program Files (x86)',\n",
       " 'ProgramData',\n",
       " 'Python',\n",
       " 'Recovery',\n",
       " 'swapfile.sys',\n",
       " 'System Volume Information',\n",
       " 'Users',\n",
       " 'Windows',\n",
       " 'XboxGames']"
      ]
     },
     "execution_count": 11,
     "metadata": {},
     "output_type": "execute_result"
    }
   ],
   "source": [
    "os.listdir('C:/')"
   ]
  },
  {
   "cell_type": "markdown",
   "id": "8e0c42ca-28a1-492a-ae7e-32ca2ebdb959",
   "metadata": {},
   "source": [
    "You can create a new directory using `os.makedirs`. Let's create a new directory called `data`, where we'll later download some files."
   ]
  },
  {
   "cell_type": "code",
   "execution_count": 12,
   "id": "b3fb4692-29ee-4cc8-9892-145720f0be99",
   "metadata": {},
   "outputs": [],
   "source": [
    "os.makedirs('/data', exist_ok = True)"
   ]
  },
  {
   "cell_type": "markdown",
   "id": "a0c7eba4-effe-4cd3-9dc4-a515a41f4985",
   "metadata": {},
   "source": [
    "Can you figure out what the argument `exist_ok` does? Try using the `help` function or [read the documentation](https://docs.python.org/3/library/os.html#os.makedirs).\n",
    "\n",
    "Let's verify that the directory was created and is currently empty."
   ]
  },
  {
   "cell_type": "code",
   "execution_count": 14,
   "id": "da160616-2f36-4edb-a954-5fde29ef145c",
   "metadata": {},
   "outputs": [
    {
     "data": {
      "text/plain": [
       "True"
      ]
     },
     "execution_count": 14,
     "metadata": {},
     "output_type": "execute_result"
    }
   ],
   "source": [
    "'data' in os.listdir('.')"
   ]
  },
  {
   "cell_type": "code",
   "execution_count": 16,
   "id": "307c7da0-90ca-407e-a23e-1df317e62ca6",
   "metadata": {},
   "outputs": [
    {
     "data": {
      "text/plain": [
       "['.ipynb_checkpoints', 'links.csv', 'movies.csv', 'ratings.csv', 'tags.csv']"
      ]
     },
     "execution_count": 16,
     "metadata": {},
     "output_type": "execute_result"
    }
   ],
   "source": [
    "os.listdir('./data')"
   ]
  },
  {
   "cell_type": "markdown",
   "id": "0a29be7d-f926-4a06-b508-7b1bd9fefa2d",
   "metadata": {},
   "source": [
    "Let us download some files into the `data` directory using the `urllib` module."
   ]
  },
  {
   "cell_type": "code",
   "execution_count": 17,
   "id": "2292e6d4-f108-4300-816f-6c39cb11b4de",
   "metadata": {},
   "outputs": [],
   "source": [
    "url1 = 'https://gist.githubusercontent.com/aakashns/257f6e6c8719c17d0e498ea287d1a386/raw/7def9ef4234ddf0bc82f855ad67dac8b971852ef/loans1.txt'\n",
    "url2 = 'https://gist.githubusercontent.com/aakashns/257f6e6c8719c17d0e498ea287d1a386/raw/7def9ef4234ddf0bc82f855ad67dac8b971852ef/loans2.txt'\n",
    "url3 = 'https://gist.githubusercontent.com/aakashns/257f6e6c8719c17d0e498ea287d1a386/raw/7def9ef4234ddf0bc82f855ad67dac8b971852ef/loans3.txt'"
   ]
  },
  {
   "cell_type": "code",
   "execution_count": 18,
   "id": "414fc46f-f229-4d51-9124-9d8328963b17",
   "metadata": {},
   "outputs": [],
   "source": [
    "from urllib.request import urlretrieve"
   ]
  },
  {
   "cell_type": "code",
   "execution_count": 19,
   "id": "c11cae0e-934d-44fb-bba4-cdd07a16254b",
   "metadata": {},
   "outputs": [
    {
     "data": {
      "text/plain": [
       "('./data/loans1.txt', <http.client.HTTPMessage at 0x1657bf63290>)"
      ]
     },
     "execution_count": 19,
     "metadata": {},
     "output_type": "execute_result"
    }
   ],
   "source": [
    "urlretrieve(url1, './data/loans1.txt')"
   ]
  },
  {
   "cell_type": "code",
   "execution_count": 20,
   "id": "131e0a3a-5013-4d1e-8a06-8328b5638662",
   "metadata": {},
   "outputs": [
    {
     "data": {
      "text/plain": [
       "('./data/loans1.txt', <http.client.HTTPMessage at 0x1657bf61340>)"
      ]
     },
     "execution_count": 20,
     "metadata": {},
     "output_type": "execute_result"
    }
   ],
   "source": [
    "urlretrieve(url2, './data/loans1.txt')"
   ]
  },
  {
   "cell_type": "code",
   "execution_count": 21,
   "id": "a52e011b-f477-47ab-9f37-59beaf15df26",
   "metadata": {},
   "outputs": [
    {
     "data": {
      "text/plain": [
       "('./data/loans3.txt', <http.client.HTTPMessage at 0x1657bf63950>)"
      ]
     },
     "execution_count": 21,
     "metadata": {},
     "output_type": "execute_result"
    }
   ],
   "source": [
    "urlretrieve(url3, './data/loans3.txt')"
   ]
  },
  {
   "cell_type": "code",
   "execution_count": 22,
   "id": "532fa969-715e-4c71-ae7e-8fef35efec42",
   "metadata": {},
   "outputs": [
    {
     "data": {
      "text/plain": [
       "['.ipynb_checkpoints',\n",
       " 'links.csv',\n",
       " 'loans1.txt',\n",
       " 'loans3.txt',\n",
       " 'movies.csv',\n",
       " 'ratings.csv',\n",
       " 'tags.csv']"
      ]
     },
     "execution_count": 22,
     "metadata": {},
     "output_type": "execute_result"
    }
   ],
   "source": [
    "os.listdir('./data')"
   ]
  },
  {
   "cell_type": "markdown",
   "id": "bee58965-84fe-4df5-b14a-70be21182403",
   "metadata": {},
   "source": [
    "You can also use the [`requests`](https://docs.python-requests.org/en/master/) library to dowload URLs, although you'll need to [write some additional code](https://stackoverflow.com/questions/44699682/how-to-save-a-file-downloaded-from-requests-to-another-directory) to save the contents of the page to a file."
   ]
  },
  {
   "cell_type": "markdown",
   "id": "f49ecbde-6861-414c-a649-0ae2b0bce3ea",
   "metadata": {},
   "source": [
    "## Reading from a file \n",
    "\n",
    "To read the contents of a file, we first need to open the file using the built-in `open` function. The `open` function returns a file object and provides several methods for interacting with the file's contents."
   ]
  },
  {
   "cell_type": "code",
   "execution_count": 24,
   "id": "3ad33066-a309-4ab6-b48b-ea755d2c47c8",
   "metadata": {},
   "outputs": [],
   "source": [
    "file1 = open('./data/loans1.txt', mode='r')"
   ]
  },
  {
   "cell_type": "markdown",
   "id": "ef36ec68-96b8-4eda-abf7-71a2a92ee1ce",
   "metadata": {},
   "source": [
    "The `open` function also accepts a `mode` argument to specifies how we can interact with the file. The following options are supported:\n",
    "\n",
    "```\n",
    "    ========= ===============================================================\n",
    "    Character Meaning\n",
    "    --------- ---------------------------------------------------------------\n",
    "    'r'       open for reading (default)\n",
    "    'w'       open for writing, truncating the file first\n",
    "    'x'       create a new file and open it for writing\n",
    "    'a'       open for writing, appending to the end of the file if it exists\n",
    "    'b'       binary mode\n",
    "    't'       text mode (default)\n",
    "    '+'       open a disk file for updating (reading and writing)\n",
    "    'U'       universal newline mode (deprecated)\n",
    "    ========= ===============================================================\n",
    "```\n",
    "\n",
    "To view the contents of the file, we can use the `read` method of the file object."
   ]
  },
  {
   "cell_type": "code",
   "execution_count": 25,
   "id": "4fe7d0f8-e78a-4cd1-b2b4-2d2ffb0be63d",
   "metadata": {},
   "outputs": [],
   "source": [
    "file1_contents = file1.read()"
   ]
  },
  {
   "cell_type": "code",
   "execution_count": 27,
   "id": "95cdce8b-fb6f-4d40-984f-39ba283d27f9",
   "metadata": {},
   "outputs": [
    {
     "name": "stdout",
     "output_type": "stream",
     "text": [
      "amount,duration,rate,down_payment\n",
      "828400,120,0.11,100000\n",
      "4633400,240,0.06,\n",
      "42900,90,0.08,8900\n",
      "983000,16,0.14,\n",
      "15230,48,0.07,4300\n"
     ]
    }
   ],
   "source": [
    "print(file1_contents)"
   ]
  },
  {
   "cell_type": "markdown",
   "id": "ce6ff5fb-a817-4d10-b753-b26482ac3852",
   "metadata": {},
   "source": [
    "The file contains information about loans. It is a set of comma-separated values (CSV). \n",
    "\n",
    "> **CSVs**: A comma-separated values (CSV) file is a delimited text file that uses a comma to separate values. Each line of the file is a data record. Each record consists of one or more fields, separated by commas. A CSV file typically stores tabular data (numbers and text) in plain text, in which case each line will have the same number of fields. (Wikipedia)\n",
    "\n",
    "The first line of the file is the header, indicating what each of the numbers on the remaining lines represents. Each of the remaining lines provides information about a loan. Thus, the second line `10000,36,0.08,20000` represents a loan with:\n",
    "\n",
    "* an *amount* of `$10000`, \n",
    "* *duration* of `36` months, \n",
    "* *rate of interest* of `8%` per annum, and \n",
    "* a down payment of `$20000`\n",
    "\n",
    "The CSV is a standard file format used for sharing data for analysis and visualization. Over the course of this tutorial, we will read the data from these CSV files, process it, and write the results back to files. Before we continue, let's close the file using the `close` method (otherwise, Python will continue to hold the entire file in the RAM)"
   ]
  },
  {
   "cell_type": "code",
   "execution_count": 28,
   "id": "55c0a800-e865-4bc2-9029-a053073c91aa",
   "metadata": {},
   "outputs": [],
   "source": [
    "file1.close()"
   ]
  },
  {
   "cell_type": "markdown",
   "id": "068876ae-69cc-44ac-9513-6da9a3627c6a",
   "metadata": {},
   "source": [
    "Once a file is closed, you can no longer read from it."
   ]
  },
  {
   "cell_type": "code",
   "execution_count": 29,
   "id": "e286c946-fb3a-46e7-978e-5322a013ed15",
   "metadata": {},
   "outputs": [
    {
     "ename": "ValueError",
     "evalue": "I/O operation on closed file.",
     "output_type": "error",
     "traceback": [
      "\u001b[31m---------------------------------------------------------------------------\u001b[39m",
      "\u001b[31mValueError\u001b[39m                                Traceback (most recent call last)",
      "\u001b[36mCell\u001b[39m\u001b[36m \u001b[39m\u001b[32mIn[29]\u001b[39m\u001b[32m, line 1\u001b[39m\n\u001b[32m----> \u001b[39m\u001b[32m1\u001b[39m \u001b[43mfile1\u001b[49m\u001b[43m.\u001b[49m\u001b[43mread\u001b[49m\u001b[43m(\u001b[49m\u001b[43m)\u001b[49m\n",
      "\u001b[31mValueError\u001b[39m: I/O operation on closed file."
     ]
    }
   ],
   "source": [
    "file1.read()"
   ]
  },
  {
   "cell_type": "code",
   "execution_count": 43,
   "id": "fbf85038-cdd4-442a-a204-540507307e59",
   "metadata": {},
   "outputs": [],
   "source": [
    "with open('./data/loans3.txt') as file3:\n",
    "    file3_lines = file3.readlines()"
   ]
  },
  {
   "cell_type": "code",
   "execution_count": 44,
   "id": "1a84d094-65d9-429a-b2da-229b44d68965",
   "metadata": {},
   "outputs": [
    {
     "data": {
      "text/plain": [
       "['amount,duration,rate,down_payment\\n',\n",
       " '45230,48,0.07,4300\\n',\n",
       " '883000,16,0.14,\\n',\n",
       " '100000,12,0.1,\\n',\n",
       " '728400,120,0.12,100000\\n',\n",
       " '3637400,240,0.06,\\n',\n",
       " '82900,90,0.07,8900\\n',\n",
       " '316000,16,0.13,\\n',\n",
       " '15230,48,0.08,4300\\n',\n",
       " '991360,99,0.08,\\n',\n",
       " '323000,27,0.09,4720010000,36,0.08,20000\\n',\n",
       " '528400,120,0.11,100000\\n',\n",
       " '8633400,240,0.06,\\n',\n",
       " '12900,90,0.08,8900']"
      ]
     },
     "execution_count": 44,
     "metadata": {},
     "output_type": "execute_result"
    }
   ],
   "source": [
    "file3_lines\n"
   ]
  },
  {
   "cell_type": "markdown",
   "id": "13036dd0-51db-4972-83af-1ef37d563c6e",
   "metadata": {},
   "source": [
    "Once the statements within the with block are executed, the .close method on file2 is automatically invoked. Let's verify this by trying to read from the file object again."
   ]
  },
  {
   "cell_type": "markdown",
   "id": "8e500633-68b2-4bd0-b42b-972a5078552a",
   "metadata": {},
   "source": [
    "## Processing data from files\n",
    "\n",
    "Before performing any operations on the data stored in a file, we need to convert the file's contents from one large string into Python data types. For the file `loans1.txt` containing information about loans in a CSV format, we can do the following:\n",
    "\n",
    "* Read the file line by line\n",
    "* Parse the first line to get a list of the column names or headers\n",
    "* Split each remaining line and convert each value into a float\n",
    "* Create a dictionary for each loan using the headers as keys\n",
    "* Create a list of dictionaries to keep track of all the loans\n",
    "\n",
    "Since we will perform the same operations for multiple files, it would be useful to define a function `read_csv`. We'll also define some helper functions to build up the functionality step by step. \n",
    "\n",
    "Let's start by defining a function `parse_header` that takes a line as input and returns a list of column headers."
   ]
  },
  {
   "cell_type": "code",
   "execution_count": 45,
   "id": "8de42270-9773-47d3-8d56-057dcd443259",
   "metadata": {},
   "outputs": [],
   "source": [
    "def parse_headers (header_line):\n",
    "    return header_line.strip().split(',')\n",
    "    "
   ]
  },
  {
   "cell_type": "markdown",
   "id": "bb10a1d0-277e-4d79-bac6-39bf677e49ff",
   "metadata": {},
   "source": [
    "The `strip` method removes any extra spaces and the newline character `\\n`. The `split` method breaks a string into a list using the given separator (`,` in this case)."
   ]
  },
  {
   "cell_type": "code",
   "execution_count": 47,
   "id": "97be69f0-ceb5-43ad-bb05-d6d0934c55c1",
   "metadata": {},
   "outputs": [
    {
     "data": {
      "text/plain": [
       "'amount,duration,rate,down_payment\\n'"
      ]
     },
     "execution_count": 47,
     "metadata": {},
     "output_type": "execute_result"
    }
   ],
   "source": [
    "file3_lines[0]"
   ]
  },
  {
   "cell_type": "code",
   "execution_count": 48,
   "id": "d30150d3-7c50-4186-80d0-36aec148d082",
   "metadata": {},
   "outputs": [],
   "source": [
    "headers = parse_headers(file3_lines[0])"
   ]
  },
  {
   "cell_type": "code",
   "execution_count": 49,
   "id": "5471242d-5fb2-4ed6-b410-f5282a860eae",
   "metadata": {},
   "outputs": [
    {
     "data": {
      "text/plain": [
       "['amount', 'duration', 'rate', 'down_payment']"
      ]
     },
     "execution_count": 49,
     "metadata": {},
     "output_type": "execute_result"
    }
   ],
   "source": [
    "headers"
   ]
  },
  {
   "cell_type": "markdown",
   "id": "8190fe3e-4db7-4373-997c-3b6a9459fcfa",
   "metadata": {},
   "source": [
    "Next, let's define a function `parse_values` that takes a line containing some data and returns a list of floating-point numbers."
   ]
  },
  {
   "cell_type": "code",
   "execution_count": 52,
   "id": "c561e013-e4cc-492e-9b22-e5ddfd3e5939",
   "metadata": {},
   "outputs": [],
   "source": [
    "def parse_values(data_line):\n",
    "    values = []\n",
    "    for item in data_line.strip().split(','):\n",
    "        values.append(float(item))\n",
    "    return values"
   ]
  },
  {
   "cell_type": "code",
   "execution_count": 53,
   "id": "db86661b-049d-4474-9432-b6cbcfc51a84",
   "metadata": {},
   "outputs": [
    {
     "data": {
      "text/plain": [
       "'45230,48,0.07,4300\\n'"
      ]
     },
     "execution_count": 53,
     "metadata": {},
     "output_type": "execute_result"
    }
   ],
   "source": [
    "file3_lines[1]"
   ]
  },
  {
   "cell_type": "markdown",
   "id": "295f1abf-568d-4e71-919b-214d1a0644fc",
   "metadata": {},
   "source": [
    "The values were parsed and converted to floating point numbers, as expected. Let's try it for another line from the file, which does not contain a value for the down payment."
   ]
  },
  {
   "cell_type": "code",
   "execution_count": 54,
   "id": "a66a9435-4573-4a08-a9f2-ce29e6271ff5",
   "metadata": {},
   "outputs": [
    {
     "data": {
      "text/plain": [
       "[45230.0, 48.0, 0.07, 4300.0]"
      ]
     },
     "execution_count": 54,
     "metadata": {},
     "output_type": "execute_result"
    }
   ],
   "source": [
    "parse_values(file3_lines[1])"
   ]
  },
  {
   "cell_type": "code",
   "execution_count": 55,
   "id": "32c2386f-d5d7-4cd4-9fda-b3f1306a2bad",
   "metadata": {},
   "outputs": [
    {
     "data": {
      "text/plain": [
       "'883000,16,0.14,\\n'"
      ]
     },
     "execution_count": 55,
     "metadata": {},
     "output_type": "execute_result"
    }
   ],
   "source": [
    "file3_lines[2]"
   ]
  },
  {
   "cell_type": "code",
   "execution_count": 56,
   "id": "7fdb1fda-adbe-41d3-a748-955b5093c45c",
   "metadata": {},
   "outputs": [
    {
     "ename": "ValueError",
     "evalue": "could not convert string to float: ''",
     "output_type": "error",
     "traceback": [
      "\u001b[31m---------------------------------------------------------------------------\u001b[39m",
      "\u001b[31mValueError\u001b[39m                                Traceback (most recent call last)",
      "\u001b[36mCell\u001b[39m\u001b[36m \u001b[39m\u001b[32mIn[56]\u001b[39m\u001b[32m, line 1\u001b[39m\n\u001b[32m----> \u001b[39m\u001b[32m1\u001b[39m \u001b[43mparse_values\u001b[49m\u001b[43m(\u001b[49m\u001b[43mfile3_lines\u001b[49m\u001b[43m[\u001b[49m\u001b[32;43m2\u001b[39;49m\u001b[43m]\u001b[49m\u001b[43m)\u001b[49m\n",
      "\u001b[36mCell\u001b[39m\u001b[36m \u001b[39m\u001b[32mIn[52]\u001b[39m\u001b[32m, line 4\u001b[39m, in \u001b[36mparse_values\u001b[39m\u001b[34m(data_line)\u001b[39m\n\u001b[32m      2\u001b[39m values = []\n\u001b[32m      3\u001b[39m \u001b[38;5;28;01mfor\u001b[39;00m item \u001b[38;5;129;01min\u001b[39;00m data_line.strip().split(\u001b[33m'\u001b[39m\u001b[33m,\u001b[39m\u001b[33m'\u001b[39m):\n\u001b[32m----> \u001b[39m\u001b[32m4\u001b[39m     values.append(\u001b[38;5;28;43mfloat\u001b[39;49m\u001b[43m(\u001b[49m\u001b[43mitem\u001b[49m\u001b[43m)\u001b[49m)\n\u001b[32m      5\u001b[39m \u001b[38;5;28;01mreturn\u001b[39;00m values\n",
      "\u001b[31mValueError\u001b[39m: could not convert string to float: ''"
     ]
    }
   ],
   "source": [
    "parse_values(file3_lines[2])"
   ]
  },
  {
   "cell_type": "markdown",
   "id": "c3989af4-bb32-4fe7-be0a-7306e295c123",
   "metadata": {},
   "source": [
    "The code above leads to a `ValueError` because the empty string `''` cannot be converted to a float. We can enhance the `parse_values` function to handle this *edge case*. We will also handle the case where the value is not a float."
   ]
  },
  {
   "cell_type": "markdown",
   "id": "b37892f4-ea4a-4512-b9e7-ffb4206aca68",
   "metadata": {},
   "source": [
    "## Using Pandas to Read and Write CSVs\n",
    "\n",
    "There are some limitations to the `read_csv` and `write_csv` functions we've defined above:\n",
    "\n",
    "* The `read_csv` function fails to create a proper dictionary if any of the values in the CSV files contains commas\n",
    "* The `write_csv` function fails to create a proper CSV if any of the values to be written contains commas\n",
    "\n",
    "When a value in a CSV file contains a comma (`,`), the value is generally placed within double quotes. Double quotes (`\"`) in values are converted into two double quotes (`\"\"`). Here's an example:\n",
    "\n",
    "```\n",
    "title,description\n",
    "Fast & Furious,\"A movie, a race, a franchise\"\n",
    "The Dark Knight,\"Gotham, the \"\"Batman\"\", and the Joker\"\n",
    "Memento,A guy forgets everything every 15 minutes\n",
    "\n",
    "```\n",
    "\n",
    "Let's try it out."
   ]
  },
  {
   "cell_type": "code",
   "execution_count": 65,
   "id": "f5dc7757-f6e8-4955-8352-3684009006d2",
   "metadata": {},
   "outputs": [],
   "source": [
    "import pandas"
   ]
  },
  {
   "cell_type": "code",
   "execution_count": 66,
   "id": "d9071c9d-72a0-42ae-9e55-9c1050c5b6d4",
   "metadata": {},
   "outputs": [],
   "source": [
    "movies_url = \"https://gist.githubusercontent.com/aakashns/afee0a407d44bbc02321993548021af9/raw/6d7473f0ac4c54aca65fc4b06ed831b8a4840190/movies.csv\""
   ]
  },
  {
   "cell_type": "code",
   "execution_count": 67,
   "id": "c8f4630b-8b7d-4f7b-a3a0-e31cf9d03811",
   "metadata": {},
   "outputs": [
    {
     "data": {
      "text/plain": [
       "('data/movies.csv', <http.client.HTTPMessage at 0x16516017d70>)"
      ]
     },
     "execution_count": 67,
     "metadata": {},
     "output_type": "execute_result"
    }
   ],
   "source": [
    "urlretrieve(movies_url, 'data/movies.csv')"
   ]
  },
  {
   "cell_type": "code",
   "execution_count": 74,
   "id": "14d867fe-cbaf-4565-9145-d8c6bafe9de3",
   "metadata": {},
   "outputs": [],
   "source": [
    "movies = pd.read_csv('data/movies.csv')"
   ]
  },
  {
   "cell_type": "code",
   "execution_count": 75,
   "id": "ec1d80be-3a9e-4c56-9213-cbe7049225a1",
   "metadata": {},
   "outputs": [
    {
     "data": {
      "text/html": [
       "<div>\n",
       "<style scoped>\n",
       "    .dataframe tbody tr th:only-of-type {\n",
       "        vertical-align: middle;\n",
       "    }\n",
       "\n",
       "    .dataframe tbody tr th {\n",
       "        vertical-align: top;\n",
       "    }\n",
       "\n",
       "    .dataframe thead th {\n",
       "        text-align: right;\n",
       "    }\n",
       "</style>\n",
       "<table border=\"1\" class=\"dataframe\">\n",
       "  <thead>\n",
       "    <tr style=\"text-align: right;\">\n",
       "      <th></th>\n",
       "      <th>title</th>\n",
       "      <th>description</th>\n",
       "    </tr>\n",
       "  </thead>\n",
       "  <tbody>\n",
       "    <tr>\n",
       "      <th>0</th>\n",
       "      <td>Fast &amp; Furious</td>\n",
       "      <td>A movie, a race, a franchise</td>\n",
       "    </tr>\n",
       "    <tr>\n",
       "      <th>1</th>\n",
       "      <td>The Dark Knight</td>\n",
       "      <td>Gotham, the \"Batman\", and the Joker</td>\n",
       "    </tr>\n",
       "    <tr>\n",
       "      <th>2</th>\n",
       "      <td>Memento</td>\n",
       "      <td>A guy forgets everything every 15 minutes</td>\n",
       "    </tr>\n",
       "  </tbody>\n",
       "</table>\n",
       "</div>"
      ],
      "text/plain": [
       "             title                                description\n",
       "0   Fast & Furious               A movie, a race, a franchise\n",
       "1  The Dark Knight        Gotham, the \"Batman\", and the Joker\n",
       "2          Memento  A guy forgets everything every 15 minutes"
      ]
     },
     "execution_count": 75,
     "metadata": {},
     "output_type": "execute_result"
    }
   ],
   "source": [
    "movies"
   ]
  },
  {
   "cell_type": "markdown",
   "id": "2b8e1534-f36b-471c-937a-19a43169525a",
   "metadata": {},
   "source": [
    "A dataframe can be converted into a list of dictionaries using the `to_dict` method."
   ]
  },
  {
   "cell_type": "code",
   "execution_count": 76,
   "id": "0071a4dd-e0b5-4020-98bf-decf2d96f776",
   "metadata": {},
   "outputs": [],
   "source": [
    "movies_dict = movies.to_dict()"
   ]
  },
  {
   "cell_type": "code",
   "execution_count": 77,
   "id": "64bd390e-ad7f-4ae6-b643-b546966adef7",
   "metadata": {},
   "outputs": [
    {
     "data": {
      "text/plain": [
       "{'title': {0: 'Fast & Furious', 1: 'The Dark Knight', 2: 'Memento'},\n",
       " 'description': {0: 'A movie, a race, a franchise',\n",
       "  1: 'Gotham, the \"Batman\", and the Joker',\n",
       "  2: 'A guy forgets everything every 15 minutes'}}"
      ]
     },
     "execution_count": 77,
     "metadata": {},
     "output_type": "execute_result"
    }
   ],
   "source": [
    "movies_dict"
   ]
  },
  {
   "cell_type": "code",
   "execution_count": 80,
   "id": "7e71e328-1fc9-43a1-b46f-6d069d0724ee",
   "metadata": {},
   "outputs": [
    {
     "ename": "NameError",
     "evalue": "name 'write_csv' is not defined",
     "output_type": "error",
     "traceback": [
      "\u001b[31m---------------------------------------------------------------------------\u001b[39m",
      "\u001b[31mNameError\u001b[39m                                 Traceback (most recent call last)",
      "\u001b[36mCell\u001b[39m\u001b[36m \u001b[39m\u001b[32mIn[80]\u001b[39m\u001b[32m, line 1\u001b[39m\n\u001b[32m----> \u001b[39m\u001b[32m1\u001b[39m \u001b[43mwrite_csv\u001b[49m(movies, \u001b[33m'\u001b[39m\u001b[33mmovies2.csv\u001b[39m\u001b[33m'\u001b[39m)\n",
      "\u001b[31mNameError\u001b[39m: name 'write_csv' is not defined"
     ]
    }
   ],
   "source": [
    "write_csv(movies, 'movies2.csv')"
   ]
  },
  {
   "cell_type": "code",
   "execution_count": 85,
   "id": "235bfce4-d2b4-448b-aa2e-312d88f64c3c",
   "metadata": {},
   "outputs": [
    {
     "ename": "NameError",
     "evalue": "name 'write_csv' is not defined",
     "output_type": "error",
     "traceback": [
      "\u001b[31m---------------------------------------------------------------------------\u001b[39m",
      "\u001b[31mNameError\u001b[39m                                 Traceback (most recent call last)",
      "\u001b[36mCell\u001b[39m\u001b[36m \u001b[39m\u001b[32mIn[85]\u001b[39m\u001b[32m, line 1\u001b[39m\n\u001b[32m----> \u001b[39m\u001b[32m1\u001b[39m \u001b[43mwrite_csv\u001b[49m(movies, \u001b[33m'\u001b[39m\u001b[33mmovies2.csv\u001b[39m\u001b[33m'\u001b[39m)\n",
      "\u001b[31mNameError\u001b[39m: name 'write_csv' is not defined"
     ]
    }
   ],
   "source": [
    "write_csv(movies, 'movies2.csv')"
   ]
  },
  {
   "cell_type": "code",
   "execution_count": null,
   "id": "de2e9d55-a69d-4a30-ab2c-5d4b49c2ba30",
   "metadata": {},
   "outputs": [],
   "source": []
  }
 ],
 "metadata": {
  "kernelspec": {
   "display_name": "Python 3 (ipykernel)",
   "language": "python",
   "name": "python3"
  },
  "language_info": {
   "codemirror_mode": {
    "name": "ipython",
    "version": 3
   },
   "file_extension": ".py",
   "mimetype": "text/x-python",
   "name": "python",
   "nbconvert_exporter": "python",
   "pygments_lexer": "ipython3",
   "version": "3.12.8"
  }
 },
 "nbformat": 4,
 "nbformat_minor": 5
}
